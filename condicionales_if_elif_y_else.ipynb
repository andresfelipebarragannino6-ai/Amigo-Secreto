{
  "nbformat": 4,
  "nbformat_minor": 0,
  "metadata": {
    "colab": {
      "provenance": [],
      "authorship_tag": "ABX9TyMCBTbT3b/BkxEYNokjMYYb",
      "include_colab_link": true
    },
    "kernelspec": {
      "name": "python3",
      "display_name": "Python 3"
    },
    "language_info": {
      "name": "python"
    }
  },
  "cells": [
    {
      "cell_type": "markdown",
      "metadata": {
        "id": "view-in-github",
        "colab_type": "text"
      },
      "source": [
        "<a href=\"https://colab.research.google.com/github/andresfelipebarragannino6-ai/Amigo-Secreto/blob/main/condicionales_if_elif_y_else.ipynb\" target=\"_parent\"><img src=\"https://colab.research.google.com/assets/colab-badge.svg\" alt=\"Open In Colab\"/></a>"
      ]
    },
    {
      "cell_type": "code",
      "execution_count": null,
      "metadata": {
        "colab": {
          "base_uri": "https://localhost:8080/",
          "height": 35
        },
        "id": "6rinT07ylwAO",
        "outputId": "7c2f5e93-7c8a-4a77-bef0-5c6825a1ff74"
      },
      "outputs": [
        {
          "output_type": "execute_result",
          "data": {
            "text/plain": [
              "'\\nif condicion:\\n  accion\\nelse:\\n  accion \\n'"
            ],
            "application/vnd.google.colaboratory.intrinsic+json": {
              "type": "string"
            }
          },
          "metadata": {},
          "execution_count": 2
        }
      ],
      "source": [
        "\"\"\"\n",
        "if condicion:\n",
        "  accion\n",
        "else:\n",
        "  accion\n",
        "\"\"\""
      ]
    },
    {
      "cell_type": "code",
      "source": [
        "nombre = \"Alura\"\n",
        "if nombre == \"Alu\":\n",
        "  print(\"Condición verdadera\")\n",
        "elif nombre == \"Alura\":\n",
        "  print(\"Condición verdadera 2\")\n",
        "else:\n",
        "  print(\"Condición falsa\")"
      ],
      "metadata": {
        "colab": {
          "base_uri": "https://localhost:8080/"
        },
        "id": "z1grbVgGn0hs",
        "outputId": "9969063d-423e-4dbe-fee8-10ce9fa363ee"
      },
      "execution_count": null,
      "outputs": [
        {
          "output_type": "stream",
          "name": "stdout",
          "text": [
            "Condición verdadera 2\n"
          ]
        }
      ]
    },
    {
      "cell_type": "code",
      "source": [
        "\"\"\"\n",
        "Operadores de comparación\n",
        "  igual (==)\n",
        "  distinto (!=)\n",
        "  mayor que (>)\n",
        "  menor que (<)\n",
        "  mayor o igual (>=)\n",
        "  menor o igual (<=)\n",
        "\"\"\""
      ],
      "metadata": {
        "id": "LhbBedqEqlH-"
      },
      "execution_count": null,
      "outputs": []
    },
    {
      "cell_type": "code",
      "source": [
        "numero = 15\n",
        "if numero <= 15:\n",
        "  print(\"Condición verdadera\", numero)\n",
        "else:\n",
        "  print(\"Condición falsa\")"
      ],
      "metadata": {
        "colab": {
          "base_uri": "https://localhost:8080/"
        },
        "id": "hUsSeL9mq83I",
        "outputId": "1cdbec2e-5fce-4a1d-9991-ead7e6cfab61"
      },
      "execution_count": null,
      "outputs": [
        {
          "output_type": "stream",
          "name": "stdout",
          "text": [
            "Condición verdadera 15\n"
          ]
        }
      ]
    },
    {
      "cell_type": "code",
      "source": [
        "numero = 15\n",
        "if numero != 15:\n",
        "  print(\"Condición verdadera\", numero)\n",
        "else:\n",
        "  print(\"Condición falsa\")"
      ],
      "metadata": {
        "colab": {
          "base_uri": "https://localhost:8080/"
        },
        "id": "PTsOjeTTri_S",
        "outputId": "95cfa112-43ba-4c84-cdea-d879f5de20a0"
      },
      "execution_count": null,
      "outputs": [
        {
          "output_type": "stream",
          "name": "stdout",
          "text": [
            "Condición falsa\n"
          ]
        }
      ]
    },
    {
      "cell_type": "code",
      "source": [
        "numero = 15\n",
        "if numero > 15:\n",
        "  print(\"Condición verdadera\", numero)\n",
        "else:\n",
        "  print(\"Condición falsa\")"
      ],
      "metadata": {
        "colab": {
          "base_uri": "https://localhost:8080/"
        },
        "id": "sb2MrWLDryJH",
        "outputId": "83898e0e-5d5c-4e8c-fe25-b875d4f91813"
      },
      "execution_count": null,
      "outputs": [
        {
          "output_type": "stream",
          "name": "stdout",
          "text": [
            "Condición falsa\n"
          ]
        }
      ]
    },
    {
      "cell_type": "code",
      "source": [
        "numero = 15\n",
        "if numero >= 15:\n",
        "  print(\"Condición verdadera\", numero)\n",
        "else:\n",
        "  print(\"Condición falsa\")"
      ],
      "metadata": {
        "colab": {
          "base_uri": "https://localhost:8080/"
        },
        "id": "Z-BHLY5tsBJe",
        "outputId": "66bf844d-7fb8-4c66-a67d-3b43ae1b088f"
      },
      "execution_count": null,
      "outputs": [
        {
          "output_type": "stream",
          "name": "stdout",
          "text": [
            "Condición verdadera 15\n"
          ]
        }
      ]
    },
    {
      "cell_type": "code",
      "source": [
        "numero = 15\n",
        "if numero < 15:\n",
        "  print(\"Condición verdadera\", numero)\n",
        "else:\n",
        "  print(\"Condición falsa\")"
      ],
      "metadata": {
        "colab": {
          "base_uri": "https://localhost:8080/"
        },
        "id": "lCVc6HP2sKkE",
        "outputId": "eab941e6-5368-49b1-f93f-8e9f364bcc2f"
      },
      "execution_count": null,
      "outputs": [
        {
          "output_type": "stream",
          "name": "stdout",
          "text": [
            "Condición falsa\n"
          ]
        }
      ]
    },
    {
      "cell_type": "code",
      "source": [
        "numero = 15\n",
        "if numero == 15:\n",
        "  print(\"Condición verdadera\", numero)\n",
        "else:\n",
        "  print(\"Condición falsa\")"
      ],
      "metadata": {
        "id": "GWlC9fCpsXIX"
      },
      "execution_count": null,
      "outputs": []
    },
    {
      "cell_type": "code",
      "source": [
        "\"\"\"\n",
        "Operadores lógicos\n",
        "  AND\n",
        "  Tabla de verdad\n",
        "  verdadero + verdadero = verdadero\n",
        "  verdadero + falso = falso\n",
        "  falso + verdadero = falso\n",
        "  falso + falso = falso\n",
        "  OR\n",
        "  Tabla de verdad\n",
        "  verdadero + verdadero = verdadero\n",
        "  verdadero + falso = verdadero\n",
        "  falso + verdadero = verdadero\n",
        "  falso + falso = falso\n",
        "  NOT\n",
        "  Tabla de verdad\n",
        "  verdadero = falso\n",
        "  falso = verdadero\n",
        "\"\"\""
      ],
      "metadata": {
        "id": "MAe_OK7XsmEr"
      },
      "execution_count": null,
      "outputs": []
    },
    {
      "cell_type": "code",
      "source": [
        "numero = 13\n",
        "if numero == 12 and numero > 13:\n",
        "  print(\"Condición verdadera\")\n",
        "else:\n",
        "  print(\"Condición falsa\")"
      ],
      "metadata": {
        "colab": {
          "base_uri": "https://localhost:8080/"
        },
        "id": "b9OZEDDBt8Ji",
        "outputId": "e76ce574-84c3-47cf-8cc7-589a7ba6ae09"
      },
      "execution_count": null,
      "outputs": [
        {
          "output_type": "stream",
          "name": "stdout",
          "text": [
            "Condición falsa\n"
          ]
        }
      ]
    },
    {
      "cell_type": "code",
      "source": [
        "numero = 13\n",
        "if numero == 13 and numero >= 13:\n",
        "  print(\"Condición verdadera\")\n",
        "else:\n",
        "  print(\"Condición falsa\")"
      ],
      "metadata": {
        "colab": {
          "base_uri": "https://localhost:8080/"
        },
        "id": "InQYdqbYuq49",
        "outputId": "d6e12d53-e611-456d-917e-e9147bb7dd00"
      },
      "execution_count": null,
      "outputs": [
        {
          "output_type": "stream",
          "name": "stdout",
          "text": [
            "Condición verdadera\n"
          ]
        }
      ]
    },
    {
      "cell_type": "code",
      "source": [
        "numero = 13\n",
        "if numero == 13 and numero > 13:\n",
        "  print(\"Condición verdadera\")\n",
        "else:\n",
        "  print(\"Condición falsa\")"
      ],
      "metadata": {
        "colab": {
          "base_uri": "https://localhost:8080/"
        },
        "id": "oqb6vKNVu-PR",
        "outputId": "4e99de18-ac8c-4d5a-b90d-3e801a4e0696"
      },
      "execution_count": null,
      "outputs": [
        {
          "output_type": "stream",
          "name": "stdout",
          "text": [
            "Condición falsa\n"
          ]
        }
      ]
    },
    {
      "cell_type": "code",
      "source": [
        "numero = 13\n",
        "if numero == 13 or numero >= 13:\n",
        "  print(\"Condición verdadera\")\n",
        "else:\n",
        "  print(\"Condición falsa\")"
      ],
      "metadata": {
        "colab": {
          "base_uri": "https://localhost:8080/"
        },
        "id": "5I5xTm0JvsiH",
        "outputId": "83feeeab-91ae-4b36-c725-b0ead150166e"
      },
      "execution_count": null,
      "outputs": [
        {
          "output_type": "stream",
          "name": "stdout",
          "text": [
            "Condición verdadera\n"
          ]
        }
      ]
    },
    {
      "cell_type": "code",
      "source": [
        "numero = 13\n",
        "if numero == 13 or numero > 13:\n",
        "  print(\"Condición verdadera\")\n",
        "else:\n",
        "  print(\"Condición falsa\")"
      ],
      "metadata": {
        "colab": {
          "base_uri": "https://localhost:8080/"
        },
        "id": "IgwC3wo6wI1z",
        "outputId": "dda6aeb7-8bdb-4e02-aa81-f48d829acd5d"
      },
      "execution_count": null,
      "outputs": [
        {
          "output_type": "stream",
          "name": "stdout",
          "text": [
            "Condición verdadera\n"
          ]
        }
      ]
    },
    {
      "cell_type": "code",
      "source": [
        "numero = 13\n",
        "if numero != 13 or numero > 13:\n",
        "  print(\"Condición verdadera\")\n",
        "else:\n",
        "  print(\"Condición falsa\")"
      ],
      "metadata": {
        "colab": {
          "base_uri": "https://localhost:8080/"
        },
        "id": "MB1NFbUxwiq1",
        "outputId": "b3fd5158-9970-4a4c-ef74-a304136fd5aa"
      },
      "execution_count": null,
      "outputs": [
        {
          "output_type": "stream",
          "name": "stdout",
          "text": [
            "Condición falsa\n"
          ]
        }
      ]
    },
    {
      "cell_type": "markdown",
      "source": [
        "##Ejercicio: Monitoreando ventas en el comercio"
      ],
      "metadata": {
        "id": "5z4PhrrFxb6g"
      }
    },
    {
      "cell_type": "code",
      "source": [
        "producto_A = int(input(\"Ingrese la cantidad del producto A (Manzana) vendidos:\"))\n",
        "producto_B = int(input(\"Ingrese la cantidad del producto B (Plátanos) vendidos:\"))\n",
        "if producto_A > producto_B:\n",
        "    print(f'La cantidad de productos A que son manzanas es {producto_A} siendo que es mayor que la cantidad de productos B que son plátanos es {producto_B}')\n",
        "elif producto_A < producto_B:\n",
        "    print(f'La cantidad de productos B que son plátanos es {producto_B} siendo que es mayor que la cantidad de productos A que son manzanas es {producto_A}')\n",
        "else:\n",
        "    print(f'La cantidad de productos A que son manzanas es {producto_A} y la cantidad de productos B que son plátanos es {producto_B} siendo que son iguales')"
      ],
      "metadata": {
        "colab": {
          "base_uri": "https://localhost:8080/"
        },
        "id": "0DGzl1eyxiiL",
        "outputId": "f80f1247-4102-470b-902f-f1e4785ddbe9"
      },
      "execution_count": null,
      "outputs": [
        {
          "output_type": "stream",
          "name": "stdout",
          "text": [
            "Ingrese la cantidad del producto A (Manzana) vendidos:4\n",
            "Ingrese la cantidad del producto B (Plátanos) vendidos:9\n",
            "La cantidad de productos B es 9 siendo que es mayor que la cantidad de productos A es 4\n"
          ]
        }
      ]
    },
    {
      "cell_type": "markdown",
      "source": [
        "##Ejercicio: Temperatura de los servidores"
      ],
      "metadata": {
        "id": "mt3S9zRD01Fd"
      }
    },
    {
      "cell_type": "code",
      "source": [
        "temperatura_maxima = 25.0\n",
        "temperatura_actual = float(input(\"Ingrese la temperatura actual: \"))\n",
        "if temperatura_actual < temperatura_maxima:\n",
        "    print(f'La temperatura es apropiada ya que la temperatura actual es {temperatura_actual} siendo menor a la temperatura máxima permitida que es {temperatura_maxima}')\n",
        "else:\n",
        "    print(f'!Alerta¡ La temperatura es alta ya que la temperatura actual es {temperatura_actual} siendo mayor a la temperatura máxima permitida que es {temperatura_maxima}')"
      ],
      "metadata": {
        "colab": {
          "base_uri": "https://localhost:8080/"
        },
        "id": "iea1TZfW09Fh",
        "outputId": "17af3f66-3c05-458a-ea78-8c1fe3726ab5"
      },
      "execution_count": 2,
      "outputs": [
        {
          "output_type": "stream",
          "name": "stdout",
          "text": [
            "Ingrese la temperatura actual: 30\n",
            "!Alerta¡ La temperatura es alta ya que la temperatura actual es 30.0 siendo mayor a la temperatura máxima permitida que es 25.0\n"
          ]
        }
      ]
    },
    {
      "cell_type": "markdown",
      "source": [
        "##Ejercicio: Calculando el tiempo total del proyecto"
      ],
      "metadata": {
        "id": "cHviwwrt3YOk"
      }
    },
    {
      "cell_type": "code",
      "source": [
        "numero_A = int(input(\"Ingresa el primer tiempo que le vas a dedicar al proyecto:\"))\n",
        "numero_B = int(input(\"Ingresa el segundo tiempo que le vas a dedicar al proyecto:\"))\n",
        "numero_C = int(input(\"Ingresa el tercer tiempo que le vas a dedicar al proyecto:\"))\n",
        "if numero_A < 0 and numero_B < 0 and numero_C < 0:\n",
        "  suma_total_tiempos = numero_A + numero_B + numero_C\n",
        "else:\n",
        "  print(f\"Error: No se pueden sumar porque uno de los días es negativo\")"
      ],
      "metadata": {
        "colab": {
          "base_uri": "https://localhost:8080/"
        },
        "id": "kNWbz8VY3nVz",
        "outputId": "6264554d-1f58-4739-cfbe-cd3bb3712fc4"
      },
      "execution_count": 4,
      "outputs": [
        {
          "output_type": "stream",
          "name": "stdout",
          "text": [
            "Ingresa el primer tiempo que le vas a dedicar al proyecto:8\n",
            "Ingresa el segundo tiempo que le vas a dedicar al proyecto:6\n",
            "Ingresa el tercer tiempo que le vas a dedicar al proyecto:-7\n",
            "Error: No se pueden sumar porque uno de los días es negativo\n"
          ]
        }
      ]
    },
    {
      "cell_type": "markdown",
      "source": [
        "##Ejercicio: Calculando el IMC"
      ],
      "metadata": {
        "id": "afo9eT655jsV"
      }
    },
    {
      "cell_type": "code",
      "source": [
        "peso = float(input(\"Ingresa tu peso en kilogramos(kg):\"))\n",
        "altura = float(input(\"Ingresa tu altura en metros(m):\"))\n",
        "IMC = peso/(altura**2)\n",
        "if IMC < 18.5:\n",
        "  print(f'Siendo el peso registrado de {peso} y la altura registrada de {altura}')\n",
        "  print(f'Se pudo calcular el indicador IMC que tiene el valor de {round(IMC,2)} que indica que tienes bajo peso')\n",
        "elif IMC >= 18.5 or IMC < 25:\n",
        "  print(f'Siendo el peso registrado de {peso} y la altura registrada de {altura}')\n",
        "  print(f'Se pudo calcular el indicador IMC que tiene el valor de {round(IMC,2)} que indica que tienes un peso normal')\n",
        "else:\n",
        "  print(f'Siendo el peso registrado de {peso} y la altura registrada de {altura}')\n",
        "  print(f'Se pudo calcular el indicador IMC que tiene el valor de {round(IMC,2)} que indica que tienes bajo peso')"
      ],
      "metadata": {
        "colab": {
          "base_uri": "https://localhost:8080/"
        },
        "id": "334c65F05ohg",
        "outputId": "e26a33b2-41b4-4fe5-8c48-dd37dca52eb7"
      },
      "execution_count": 6,
      "outputs": [
        {
          "output_type": "stream",
          "name": "stdout",
          "text": [
            "Ingresa tu peso en kilogramos(kg):60\n",
            "Ingresa tu altura en metros(m):1.65\n",
            "Siendo el peso registrado de 60.0 y la altura registrada de 1.65\n",
            "Se pudo calcular el indicador IMC que tiene el valor de 22.04 que indica que tienes un peso normal\n"
          ]
        }
      ]
    },
    {
      "cell_type": "markdown",
      "source": [
        "##Ejercicio: Verificando acceso a beneficios sociales"
      ],
      "metadata": {
        "id": "g8BdXabpEk0-"
      }
    },
    {
      "cell_type": "code",
      "source": [
        "ingreso = float(input(\"Ingresa cuanto recibes mensualmente en tu cuenta:\"))\n",
        "numero_hijos = int(input(\"Ingresa la cantidad de hijos que tienes:\"))\n",
        "for hijos in range(numero_hijos):\n",
        "  if numero_hijos != 0:\n",
        "    clasificacion_hijos = input(f\"Ingrese si el hijo {hijos+1} es niño o es niña:\")\n",
        "  else:\n",
        "    print(\"No tienes hijos, por lo tanto no puedes acceder a los beneficios sociales\")\n",
        "  print(f'El hijo número {hijos+1} es {clasificacion_hijos}')\n",
        "if ingreso <= 2000 and numero_hijos >= 1:\n",
        "  print(f'Tu salario es de {ingreso} y tienes {numero_hijos} hijos, por lo tanto puedes acceder a los beneficios sociales')\n",
        "  print(\"¡Felicidades!\")\n",
        "else:\n",
        "  print(f'Tu salario es de {ingreso} y tienes {numero_hijos} hijos, por lo tanto no puedes acceder a los beneficios sociales')"
      ],
      "metadata": {
        "colab": {
          "base_uri": "https://localhost:8080/"
        },
        "id": "PsRR3vjqEsLk",
        "outputId": "41d9d9c6-dc5c-460b-ea60-5bbc06a5a355"
      },
      "execution_count": 9,
      "outputs": [
        {
          "output_type": "stream",
          "name": "stdout",
          "text": [
            "Ingresa cuanto recibes mensualmente en tu cuenta:2000\n",
            "Ingresa la cantidad de hijos que tienes:2\n",
            "Ingrese si el hijo 1 es niño o es niña:niño\n",
            "El hijo número 1 es niño\n",
            "Ingrese si el hijo 2 es niño o es niña:niña\n",
            "El hijo número 2 es niña\n",
            "Tu salario es de 2000.0 y tienes 2 hijos, por lo tanto puedes acceder a los beneficios sociales\n",
            "¡Felicidades!\n"
          ]
        }
      ]
    },
    {
      "cell_type": "markdown",
      "source": [
        "##Ejemplo: Evaluación de desempeño de un empleado"
      ],
      "metadata": {
        "id": "VHljfUptJR5N"
      }
    },
    {
      "cell_type": "code",
      "source": [
        "numero_empleados = int(input(\"Ingresa la cantidad de empleados a calificar en un puntaje de (0 hasta 10):\"))\n",
        "for empleados in range(numero_empleados):\n",
        "  puntaje = int(input(f\"Ingresa el puntaje del empleado {empleados+1}:\"))\n",
        "  anos_trabajando = int(input(f\"Ingresa los años que lleva trabajando el empleado {empleados+1}:\"))\n",
        "  if puntaje >= 7 and anos_trabajando >= 5:\n",
        "    print(f'El empleado {empleados+1} se le puede ofrecer la opción de ascenso')\n",
        "  elif puntaje >= 7 and anos_trabajando < 5:\n",
        "    print(f'El empleado {empleados+1} se le dice al empleado que esta haciendo un buen desempeño y que siga así')\n",
        "  else:\n",
        "    print(f'El empleado {empleados+1} se le dice al empleado que mejore el desempeño en su trabajo')"
      ],
      "metadata": {
        "colab": {
          "base_uri": "https://localhost:8080/"
        },
        "id": "in2hKvGXJX_m",
        "outputId": "bf80e5e2-ac8e-4644-f757-5e7caa39fd84"
      },
      "execution_count": 10,
      "outputs": [
        {
          "output_type": "stream",
          "name": "stdout",
          "text": [
            "Ingresa la cantidad de empleados a calificar en un puntaje de (0 hasta 10):3\n",
            "Ingresa el puntaje del empleado 1:7\n",
            "Ingresa los años que lleva trabajando el empleado 1:5\n",
            "El empleado 1 se le puede ofrecer la opción de ascenso\n",
            "Ingresa el puntaje del empleado 2:7\n",
            "Ingresa los años que lleva trabajando el empleado 2:4\n",
            "El empleado 2 se le dice al empleado que esta haciendo un buen desempeño y que siga así\n",
            "Ingresa el puntaje del empleado 3:5\n",
            "Ingresa los años que lleva trabajando el empleado 3:5\n",
            "El empleado 3 se le dice al empleado que mejore el desempeño en su trabajo\n"
          ]
        }
      ]
    },
    {
      "cell_type": "markdown",
      "source": [
        "##Ejercicio: Juego de múltiplos mágicos"
      ],
      "metadata": {
        "id": "exzu_4u3Od-_"
      }
    },
    {
      "cell_type": "code",
      "source": [
        "numero = int(input(\"Ingresa un número, para determinar si ese número es magico:\"))\n",
        "if numero % 3 == 0 and numero % 5 == 0:\n",
        "  print(f'El número ingresado que es {numero} es mágico')\n",
        "elif numero % 3 ==0:\n",
        "  print(f'El número ingresado que es {numero} es mágico pero solo es divisible por 3')\n",
        "elif numero % 5 ==0:\n",
        "  print(f'El número ingresado que es {numero} es mágico pero solo es divisible por 5')\n",
        "else:\n",
        "  print(f'El número ingresado que es {numero} no es un número mágico')"
      ],
      "metadata": {
        "colab": {
          "base_uri": "https://localhost:8080/"
        },
        "id": "-pRHu5d7O5kf",
        "outputId": "0e31dc33-9c83-47a6-a000-9eb9999e2530"
      },
      "execution_count": 16,
      "outputs": [
        {
          "output_type": "stream",
          "name": "stdout",
          "text": [
            "Ingresa un número, para determinar si ese número es magico:1\n",
            "El número ingresado que es 1 no es un número mágico\n"
          ]
        }
      ]
    },
    {
      "cell_type": "markdown",
      "source": [
        "##Ejercicio: Sistema de clasificación para becas escolares"
      ],
      "metadata": {
        "id": "EFZJoslySDl4"
      }
    },
    {
      "cell_type": "code",
      "source": [
        "numero_estudiante = int(input(\"Ingresa el número de estudiantes que se evaluara la opción de la beca:\"))\n",
        "for estudiantes in range(numero_estudiante):\n",
        "  ingreso_familiar = float(input(f'Ingresa el ingreo familiar mensual del estudiante número {estudiantes+1}:'))\n",
        "  promedio_estudiante = float(input(f'Ingresa el promedio del estudiante número {estudiantes+1}:'))\n",
        "  asistencia_estudiante = float(input(f'Ingresa la asistencia en número de porcentaje (%) de asistencia del estudiante número {estudiantes+1}:'))\n",
        "  if ingreso_familiar < 1500 and promedio_estudiante > 8.0 and asistencia_estudiante >= 90.0:\n",
        "    print(\"Siendo los datos registrados del estudiante los siguientes:\")\n",
        "    print(f'El ingreso familiar del estudiante es de: {ingreso_familiar}')\n",
        "    print(f'El promedio del estudiante es de: {promedio_estudiante}')\n",
        "    print(f'La asistencia del estudiante es de: {asistencia_estudiante}%')\n",
        "    print(f'El estudiante número {estudiantes+1} es apto para obtener la beca completa')\n",
        "  elif ingreso_familiar < 2500 and promedio_estudiante > 7.0 and asistencia_estudiante >= 85.0:\n",
        "    print(\"Siendo los datos registrados del estudiante los siguientes:\")\n",
        "    print(f'El ingreso familiar del estudiante es de: {ingreso_familiar}')\n",
        "    print(f'El promedio del estudiante es de: {promedio_estudiante}')\n",
        "    print(f'La asistencia del estudiante es de: {asistencia_estudiante}%')\n",
        "    print(f'El estudiante número {estudiantes+1} es apto para obtener la beca parcial')\n",
        "  else:\n",
        "    print(\"Siendo los datos registrados del estudiante los siguientes:\")\n",
        "    print(f'El ingreso familiar del estudiante es de: {ingreso_familiar}')\n",
        "    print(f'El promedio del estudiante es de: {promedio_estudiante}')\n",
        "    print(f'La asistencia del estudiante es de: {asistencia_estudiante}%')\n",
        "    print(f'El estudiante número {estudiantes+1} no es apto para obtener la beca')"
      ],
      "metadata": {
        "colab": {
          "base_uri": "https://localhost:8080/"
        },
        "id": "AeJcwIt6TKV-",
        "outputId": "455ba126-6c4d-4a2a-f643-84f939335694"
      },
      "execution_count": 20,
      "outputs": [
        {
          "output_type": "stream",
          "name": "stdout",
          "text": [
            "Ingresa el número de estudiantes que se evaluara la opción de la beca:3\n",
            "Ingresa el ingreo familiar mensual del estudiante número 1:1450\n",
            "Ingresa el promedio del estudiante número 1:8.1\n",
            "Ingresa la asistencia en número de porcentaje (%) de asistencia del estudiante número 1:90.0\n",
            "Siendo los datos registrados del estudiante los siguientes:\n",
            "El ingreso familiar del estudiante es de: 1450.0\n",
            "El promedio del estudiante es de: 8.1\n",
            "La asistencia del estudiante es de: 90.0%\n",
            "El estudiante número 1 es apto para obtener la beca completa\n",
            "Ingresa el ingreo familiar mensual del estudiante número 2:2450\n",
            "Ingresa el promedio del estudiante número 2:7.1\n",
            "Ingresa la asistencia en número de porcentaje (%) de asistencia del estudiante número 2:85.0\n",
            "Siendo los datos registrados del estudiante los siguientes:\n",
            "El ingreso familiar del estudiante es de: 2450.0\n",
            "El promedio del estudiante es de: 7.1\n",
            "La asistencia del estudiante es de: 85.0%\n",
            "El estudiante número 2 es apto para obtener la beca parcial\n",
            "Ingresa el ingreo familiar mensual del estudiante número 3:5000\n",
            "Ingresa el promedio del estudiante número 3:5\n",
            "Ingresa la asistencia en número de porcentaje (%) de asistencia del estudiante número 3:70.0\n",
            "Siendo los datos registrados del estudiante los siguientes:\n",
            "El ingreso familiar del estudiante es de: 5000.0\n",
            "El promedio del estudiante es de: 5.0\n",
            "La asistencia del estudiante es de: 70.0%\n",
            "El estudiante número 3 no es apto para obtener la beca\n"
          ]
        }
      ]
    },
    {
      "cell_type": "markdown",
      "source": [
        "##Ejercicio: Sistema de tarifas de transporte por edad y distancia"
      ],
      "metadata": {
        "id": "T40xJuqtYVsm"
      }
    },
    {
      "cell_type": "code",
      "source": [
        "numero_pasajero = int(input(\"Ingresa la cantidad de pasajeros que se evaluara la tarifa:\"))\n",
        "for pasajeros in range(numero_pasajero):\n",
        "  edad_pasajero = int(input(f'Ingresa la edad del pasajero número {pasajeros+1}:'))\n",
        "  distancia_recorrida = float(input(f'Ingresa la distancia recorrida en kilometros (km) por el pasajero número {pasajeros+1}:'))\n",
        "  if edad_pasajero < 6:\n",
        "    print(\"Siendo los datos registrados del pasajero los siguientes:\")\n",
        "    print(f'La edad del pasajero es de: {edad_pasajero}')\n",
        "    print(f'La distancia recorrida por el pasajero es de: {distancia_recorrida} km')\n",
        "    print(f'El pasajero número {pasajeros+1} viaja gratis')\n",
        "  elif edad_pasajero >= 6 and edad_pasajero <= 18:\n",
        "    if distancia_recorrida <= 20.0:\n",
        "      print(\"Siendo los datos registrados del pasajero los siguientes:\")\n",
        "      print(f'La edad del pasajero es de: {edad_pasajero}')\n",
        "      print(f'La distancia recorrida por el pasajero es de: {distancia_recorrida} km')\n",
        "      print(f'El pasajero número {pasajeros+1} debe pagar una tarifa de $1.50')\n",
        "    else:\n",
        "      print(\"Siendo los datos registrados del pasajero los siguientes:\")\n",
        "      print(f'La edad del pasajero es de: {edad_pasajero}')\n",
        "      print(f'La distancia recorrida por el pasajero es de: {distancia_recorrida} km')\n",
        "      print(f'El pasajero número {pasajeros+1} debe pagar una tarifa de $2.50')\n",
        "  elif edad_pasajero > 18:\n",
        "     if distancia_recorrida <= 20.0:\n",
        "      print(\"Siendo los datos registrados del pasajero los siguientes:\")\n",
        "      print(f'La edad del pasajero es de: {edad_pasajero}')\n",
        "      print(f'La distancia recorrida por el pasajero es de: {distancia_recorrida} km')\n",
        "      print(f'El pasajero número {pasajeros+1} debe pagar una tarifa de $2.50')\n",
        "     else:\n",
        "      print(\"Siendo los datos registrados del pasajero los siguientes:\")\n",
        "      print(f'La edad del pasajero es de: {edad_pasajero}')\n",
        "      print(f'La distancia recorrida por el pasajero es de: {distancia_recorrida} km')\n",
        "      print(f'El pasajero número {pasajeros+1} debe pagar una tarifa de $4.00')"
      ],
      "metadata": {
        "colab": {
          "base_uri": "https://localhost:8080/"
        },
        "id": "4pTHd5UwYayn",
        "outputId": "1533c56d-e33a-418e-cb40-75ee1c009e22"
      },
      "execution_count": 23,
      "outputs": [
        {
          "output_type": "stream",
          "name": "stdout",
          "text": [
            "Ingresa la cantidad de pasajeros que se evaluara la tarifa:2\n",
            "Ingresa la edad del pasajero número 1:23\n",
            "Ingresa la distancia recorrida en kilometros (km) por el pasajero número 1:25.0\n",
            "Siendo los datos registrados del pasajero los siguientes:\n",
            "La edad del pasajero es de: 23\n",
            "La distancia recorrida por el pasajero es de: 25.0 km\n",
            "El pasajero número 1 debe pagar una tarifa de $4.00\n",
            "Ingresa la edad del pasajero número 2:23\n",
            "Ingresa la distancia recorrida en kilometros (km) por el pasajero número 2:20.0\n",
            "Siendo los datos registrados del pasajero los siguientes:\n",
            "La edad del pasajero es de: 23\n",
            "La distancia recorrida por el pasajero es de: 20.0 km\n",
            "El pasajero número 2 debe pagar una tarifa de $2.50\n"
          ]
        }
      ]
    },
    {
      "cell_type": "markdown",
      "source": [
        "##Ejercicio: Sistema de evaluación de desempeño empresarial"
      ],
      "metadata": {
        "id": "rqnpFN_4eDZq"
      }
    },
    {
      "cell_type": "code",
      "source": [
        "# Solicitar datos de entrada al usuario\n",
        "ingresos_totales = float(input(\"Ingresa los ingresos totales realizados en el trimestre: \"))\n",
        "gastos_totales = float(input(\"Ingresa los gastos totales realizados en el trimestre: \"))\n",
        "numero_de_clientes_nuevos = int(input(\"Ingresa el número de nuevos clientes obtenidos en el trimestre: \"))\n",
        "\n",
        "# Calcular flujo de caja\n",
        "flujo_de_caja = ingresos_totales - gastos_totales\n",
        "\n",
        "# Evaluar el desempeño del trimestre\n",
        "if flujo_de_caja > 10000.0 and numero_de_clientes_nuevos > 50:\n",
        "    print(\"Trimestre Excelente a nivel productivo\")\n",
        "elif flujo_de_caja > 5000.0 and numero_de_clientes_nuevos >= 20:\n",
        "    print(\"Trimestre Bueno a nivel productivo\")\n",
        "elif flujo_de_caja > 0.0:\n",
        "    print(\"Trimestre Regular a nivel productivo\")\n",
        "else:\n",
        "    print(\"Trimestre Deficitario a nivel productivo\")"
      ],
      "metadata": {
        "colab": {
          "base_uri": "https://localhost:8080/"
        },
        "id": "mME3relLeRew",
        "outputId": "c49d8f2b-174c-4aa3-dcc5-59ed295fd508"
      },
      "execution_count": 31,
      "outputs": [
        {
          "output_type": "stream",
          "name": "stdout",
          "text": [
            "Ingresa los ingresos totales realizados en el trimestre: 2000\n",
            "Ingresa los gastos totales realizados en el trimestre: 4000\n",
            "Ingresa el número de nuevos clientes obtenidos en el trimestre: 2\n",
            "Trimestre Deficitario a nivel productivo\n"
          ]
        }
      ]
    }
  ]
}