{
  "nbformat": 4,
  "nbformat_minor": 0,
  "metadata": {
    "colab": {
      "provenance": [],
      "authorship_tag": "ABX9TyMtujtitjXKYs3KqWujdJzB",
      "include_colab_link": true
    },
    "kernelspec": {
      "name": "python3",
      "display_name": "Python 3"
    },
    "language_info": {
      "name": "python"
    }
  },
  "cells": [
    {
      "cell_type": "markdown",
      "metadata": {
        "id": "view-in-github",
        "colab_type": "text"
      },
      "source": [
        "<a href=\"https://colab.research.google.com/github/andresfelipebarragannino6-ai/Amigo-Secreto/blob/main/condicionales_if_elif_y_else.ipynb\" target=\"_parent\"><img src=\"https://colab.research.google.com/assets/colab-badge.svg\" alt=\"Open In Colab\"/></a>"
      ]
    },
    {
      "cell_type": "code",
      "execution_count": null,
      "metadata": {
        "colab": {
          "base_uri": "https://localhost:8080/",
          "height": 35
        },
        "id": "6rinT07ylwAO",
        "outputId": "7c2f5e93-7c8a-4a77-bef0-5c6825a1ff74"
      },
      "outputs": [
        {
          "output_type": "execute_result",
          "data": {
            "text/plain": [
              "'\\nif condicion:\\n  accion\\nelse:\\n  accion \\n'"
            ],
            "application/vnd.google.colaboratory.intrinsic+json": {
              "type": "string"
            }
          },
          "metadata": {},
          "execution_count": 2
        }
      ],
      "source": [
        "\"\"\"\n",
        "if condicion:\n",
        "  accion\n",
        "else:\n",
        "  accion\n",
        "\"\"\""
      ]
    },
    {
      "cell_type": "code",
      "source": [
        "nombre = \"Alura\"\n",
        "if nombre == \"Alu\":\n",
        "  print(\"Condición verdadera\")\n",
        "elif nombre == \"Alura\":\n",
        "  print(\"Condición verdadera 2\")\n",
        "else:\n",
        "  print(\"Condición falsa\")"
      ],
      "metadata": {
        "colab": {
          "base_uri": "https://localhost:8080/"
        },
        "id": "z1grbVgGn0hs",
        "outputId": "9969063d-423e-4dbe-fee8-10ce9fa363ee"
      },
      "execution_count": null,
      "outputs": [
        {
          "output_type": "stream",
          "name": "stdout",
          "text": [
            "Condición verdadera 2\n"
          ]
        }
      ]
    },
    {
      "cell_type": "code",
      "source": [
        "\"\"\"\n",
        "Operadores de comparación\n",
        "  igual (==)\n",
        "  distinto (!=)\n",
        "  mayor que (>)\n",
        "  menor que (<)\n",
        "  mayor o igual (>=)\n",
        "  menor o igual (<=)\n",
        "\"\"\""
      ],
      "metadata": {
        "id": "LhbBedqEqlH-"
      },
      "execution_count": null,
      "outputs": []
    },
    {
      "cell_type": "code",
      "source": [
        "numero = 15\n",
        "if numero <= 15:\n",
        "  print(\"Condición verdadera\", numero)\n",
        "else:\n",
        "  print(\"Condición falsa\")"
      ],
      "metadata": {
        "colab": {
          "base_uri": "https://localhost:8080/"
        },
        "id": "hUsSeL9mq83I",
        "outputId": "1cdbec2e-5fce-4a1d-9991-ead7e6cfab61"
      },
      "execution_count": null,
      "outputs": [
        {
          "output_type": "stream",
          "name": "stdout",
          "text": [
            "Condición verdadera 15\n"
          ]
        }
      ]
    },
    {
      "cell_type": "code",
      "source": [
        "numero = 15\n",
        "if numero != 15:\n",
        "  print(\"Condición verdadera\", numero)\n",
        "else:\n",
        "  print(\"Condición falsa\")"
      ],
      "metadata": {
        "colab": {
          "base_uri": "https://localhost:8080/"
        },
        "id": "PTsOjeTTri_S",
        "outputId": "95cfa112-43ba-4c84-cdea-d879f5de20a0"
      },
      "execution_count": null,
      "outputs": [
        {
          "output_type": "stream",
          "name": "stdout",
          "text": [
            "Condición falsa\n"
          ]
        }
      ]
    },
    {
      "cell_type": "code",
      "source": [
        "numero = 15\n",
        "if numero > 15:\n",
        "  print(\"Condición verdadera\", numero)\n",
        "else:\n",
        "  print(\"Condición falsa\")"
      ],
      "metadata": {
        "colab": {
          "base_uri": "https://localhost:8080/"
        },
        "id": "sb2MrWLDryJH",
        "outputId": "83898e0e-5d5c-4e8c-fe25-b875d4f91813"
      },
      "execution_count": null,
      "outputs": [
        {
          "output_type": "stream",
          "name": "stdout",
          "text": [
            "Condición falsa\n"
          ]
        }
      ]
    },
    {
      "cell_type": "code",
      "source": [
        "numero = 15\n",
        "if numero >= 15:\n",
        "  print(\"Condición verdadera\", numero)\n",
        "else:\n",
        "  print(\"Condición falsa\")"
      ],
      "metadata": {
        "colab": {
          "base_uri": "https://localhost:8080/"
        },
        "id": "Z-BHLY5tsBJe",
        "outputId": "66bf844d-7fb8-4c66-a67d-3b43ae1b088f"
      },
      "execution_count": null,
      "outputs": [
        {
          "output_type": "stream",
          "name": "stdout",
          "text": [
            "Condición verdadera 15\n"
          ]
        }
      ]
    },
    {
      "cell_type": "code",
      "source": [
        "numero = 15\n",
        "if numero < 15:\n",
        "  print(\"Condición verdadera\", numero)\n",
        "else:\n",
        "  print(\"Condición falsa\")"
      ],
      "metadata": {
        "colab": {
          "base_uri": "https://localhost:8080/"
        },
        "id": "lCVc6HP2sKkE",
        "outputId": "eab941e6-5368-49b1-f93f-8e9f364bcc2f"
      },
      "execution_count": null,
      "outputs": [
        {
          "output_type": "stream",
          "name": "stdout",
          "text": [
            "Condición falsa\n"
          ]
        }
      ]
    },
    {
      "cell_type": "code",
      "source": [
        "numero = 15\n",
        "if numero == 15:\n",
        "  print(\"Condición verdadera\", numero)\n",
        "else:\n",
        "  print(\"Condición falsa\")"
      ],
      "metadata": {
        "id": "GWlC9fCpsXIX"
      },
      "execution_count": null,
      "outputs": []
    },
    {
      "cell_type": "code",
      "source": [
        "\"\"\"\n",
        "Operadores lógicos\n",
        "  AND\n",
        "  Tabla de verdad\n",
        "  verdadero + verdadero = verdadero\n",
        "  verdadero + falso = falso\n",
        "  falso + verdadero = falso\n",
        "  falso + falso = falso\n",
        "  OR\n",
        "  Tabla de verdad\n",
        "  verdadero + verdadero = verdadero\n",
        "  verdadero + falso = verdadero\n",
        "  falso + verdadero = verdadero\n",
        "  falso + falso = falso\n",
        "  NOT\n",
        "  Tabla de verdad\n",
        "  verdadero = falso\n",
        "  falso = verdadero\n",
        "\"\"\""
      ],
      "metadata": {
        "id": "MAe_OK7XsmEr"
      },
      "execution_count": null,
      "outputs": []
    },
    {
      "cell_type": "code",
      "source": [
        "numero = 13\n",
        "if numero == 12 and numero > 13:\n",
        "  print(\"Condición verdadera\")\n",
        "else:\n",
        "  print(\"Condición falsa\")"
      ],
      "metadata": {
        "colab": {
          "base_uri": "https://localhost:8080/"
        },
        "id": "b9OZEDDBt8Ji",
        "outputId": "e76ce574-84c3-47cf-8cc7-589a7ba6ae09"
      },
      "execution_count": null,
      "outputs": [
        {
          "output_type": "stream",
          "name": "stdout",
          "text": [
            "Condición falsa\n"
          ]
        }
      ]
    },
    {
      "cell_type": "code",
      "source": [
        "numero = 13\n",
        "if numero == 13 and numero >= 13:\n",
        "  print(\"Condición verdadera\")\n",
        "else:\n",
        "  print(\"Condición falsa\")"
      ],
      "metadata": {
        "colab": {
          "base_uri": "https://localhost:8080/"
        },
        "id": "InQYdqbYuq49",
        "outputId": "d6e12d53-e611-456d-917e-e9147bb7dd00"
      },
      "execution_count": null,
      "outputs": [
        {
          "output_type": "stream",
          "name": "stdout",
          "text": [
            "Condición verdadera\n"
          ]
        }
      ]
    },
    {
      "cell_type": "code",
      "source": [
        "numero = 13\n",
        "if numero == 13 and numero > 13:\n",
        "  print(\"Condición verdadera\")\n",
        "else:\n",
        "  print(\"Condición falsa\")"
      ],
      "metadata": {
        "colab": {
          "base_uri": "https://localhost:8080/"
        },
        "id": "oqb6vKNVu-PR",
        "outputId": "4e99de18-ac8c-4d5a-b90d-3e801a4e0696"
      },
      "execution_count": null,
      "outputs": [
        {
          "output_type": "stream",
          "name": "stdout",
          "text": [
            "Condición falsa\n"
          ]
        }
      ]
    },
    {
      "cell_type": "code",
      "source": [
        "numero = 13\n",
        "if numero == 13 or numero >= 13:\n",
        "  print(\"Condición verdadera\")\n",
        "else:\n",
        "  print(\"Condición falsa\")"
      ],
      "metadata": {
        "colab": {
          "base_uri": "https://localhost:8080/"
        },
        "id": "5I5xTm0JvsiH",
        "outputId": "83feeeab-91ae-4b36-c725-b0ead150166e"
      },
      "execution_count": null,
      "outputs": [
        {
          "output_type": "stream",
          "name": "stdout",
          "text": [
            "Condición verdadera\n"
          ]
        }
      ]
    },
    {
      "cell_type": "code",
      "source": [
        "numero = 13\n",
        "if numero == 13 or numero > 13:\n",
        "  print(\"Condición verdadera\")\n",
        "else:\n",
        "  print(\"Condición falsa\")"
      ],
      "metadata": {
        "colab": {
          "base_uri": "https://localhost:8080/"
        },
        "id": "IgwC3wo6wI1z",
        "outputId": "dda6aeb7-8bdb-4e02-aa81-f48d829acd5d"
      },
      "execution_count": null,
      "outputs": [
        {
          "output_type": "stream",
          "name": "stdout",
          "text": [
            "Condición verdadera\n"
          ]
        }
      ]
    },
    {
      "cell_type": "code",
      "source": [
        "numero = 13\n",
        "if numero != 13 or numero > 13:\n",
        "  print(\"Condición verdadera\")\n",
        "else:\n",
        "  print(\"Condición falsa\")"
      ],
      "metadata": {
        "colab": {
          "base_uri": "https://localhost:8080/"
        },
        "id": "MB1NFbUxwiq1",
        "outputId": "b3fd5158-9970-4a4c-ef74-a304136fd5aa"
      },
      "execution_count": null,
      "outputs": [
        {
          "output_type": "stream",
          "name": "stdout",
          "text": [
            "Condición falsa\n"
          ]
        }
      ]
    },
    {
      "cell_type": "markdown",
      "source": [
        "##Ejercicio: Monitoreando ventas en el comercio"
      ],
      "metadata": {
        "id": "5z4PhrrFxb6g"
      }
    },
    {
      "cell_type": "code",
      "source": [
        "producto_A = int(input(\"Ingrese la cantidad del producto A (Manzana) vendidos:\"))\n",
        "producto_B = int(input(\"Ingrese la cantidad del producto B (Plátanos) vendidos:\"))\n",
        "if producto_A > producto_B:\n",
        "    print(f'La cantidad de productos A que son manzanas es {producto_A} siendo que es mayor que la cantidad de productos B que son plátanos es {producto_B}')\n",
        "elif producto_A < producto_B:\n",
        "    print(f'La cantidad de productos B que son plátanos es {producto_B} siendo que es mayor que la cantidad de productos A que son manzanas es {producto_A}')\n",
        "else:\n",
        "    print(f'La cantidad de productos A que son manzanas es {producto_A} y la cantidad de productos B que son plátanos es {producto_B} siendo que son iguales')"
      ],
      "metadata": {
        "colab": {
          "base_uri": "https://localhost:8080/"
        },
        "id": "0DGzl1eyxiiL",
        "outputId": "f80f1247-4102-470b-902f-f1e4785ddbe9"
      },
      "execution_count": null,
      "outputs": [
        {
          "output_type": "stream",
          "name": "stdout",
          "text": [
            "Ingrese la cantidad del producto A (Manzana) vendidos:4\n",
            "Ingrese la cantidad del producto B (Plátanos) vendidos:9\n",
            "La cantidad de productos B es 9 siendo que es mayor que la cantidad de productos A es 4\n"
          ]
        }
      ]
    },
    {
      "cell_type": "markdown",
      "source": [
        "##Ejercicio: Temperatura de los servidores"
      ],
      "metadata": {
        "id": "mt3S9zRD01Fd"
      }
    },
    {
      "cell_type": "code",
      "source": [
        "temperatura_maxima = 25.0\n",
        "temperatura_actual = float(input(\"Ingrese la temperatura actual: \"))\n",
        "if temperatura_actual < temperatura_maxima:\n",
        "    print(f'La temperatura es apropiada ya que la temperatura actual es {temperatura_actual} siendo menor a la temperatura máxima permitida que es {temperatura_maxima}')\n",
        "else:\n",
        "    print(f'!Alerta¡ La temperatura es alta ya que la temperatura actual es {temperatura_actual} siendo mayor a la temperatura máxima permitida que es {temperatura_maxima}')"
      ],
      "metadata": {
        "colab": {
          "base_uri": "https://localhost:8080/"
        },
        "id": "iea1TZfW09Fh",
        "outputId": "17af3f66-3c05-458a-ea78-8c1fe3726ab5"
      },
      "execution_count": 2,
      "outputs": [
        {
          "output_type": "stream",
          "name": "stdout",
          "text": [
            "Ingrese la temperatura actual: 30\n",
            "!Alerta¡ La temperatura es alta ya que la temperatura actual es 30.0 siendo mayor a la temperatura máxima permitida que es 25.0\n"
          ]
        }
      ]
    }
  ]
}