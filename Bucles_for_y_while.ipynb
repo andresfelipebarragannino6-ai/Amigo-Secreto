{
  "nbformat": 4,
  "nbformat_minor": 0,
  "metadata": {
    "colab": {
      "provenance": [],
      "authorship_tag": "ABX9TyPt3ehuZfacrSpk86YXpfGm",
      "include_colab_link": true
    },
    "kernelspec": {
      "name": "python3",
      "display_name": "Python 3"
    },
    "language_info": {
      "name": "python"
    }
  },
  "cells": [
    {
      "cell_type": "markdown",
      "metadata": {
        "id": "view-in-github",
        "colab_type": "text"
      },
      "source": [
        "<a href=\"https://colab.research.google.com/github/andresfelipebarragannino6-ai/Amigo-Secreto/blob/main/Bucles_for_y_while.ipynb\" target=\"_parent\"><img src=\"https://colab.research.google.com/assets/colab-badge.svg\" alt=\"Open In Colab\"/></a>"
      ]
    },
    {
      "cell_type": "code",
      "execution_count": 4,
      "metadata": {
        "colab": {
          "base_uri": "https://localhost:8080/"
        },
        "id": "DwlK-6iPH3bl",
        "outputId": "4e39c303-407d-4be2-e53d-32595a6fdca4"
      },
      "outputs": [
        {
          "output_type": "stream",
          "name": "stdout",
          "text": [
            "4\n",
            "El nombre es Maria\n",
            "El nombre es Carlos\n",
            "El nombre es Barbara\n",
            "El nombre es Luis\n"
          ]
        }
      ],
      "source": [
        "nombres = ['Maria','Carlos','Barbara','Luis']\n",
        "cantidad_nombres = len(nombres)\n",
        "print(cantidad_nombres)\n",
        "\n",
        "for nombre in nombres:\n",
        "  print(\"El nombre es\",nombre)"
      ]
    },
    {
      "cell_type": "code",
      "source": [
        "for numero in range(7):\n",
        "  print(numero)"
      ],
      "metadata": {
        "colab": {
          "base_uri": "https://localhost:8080/"
        },
        "id": "SMu5gK9KKzsg",
        "outputId": "bdaea28c-b4f2-4fe2-dcf2-426eebeb83e6"
      },
      "execution_count": 5,
      "outputs": [
        {
          "output_type": "stream",
          "name": "stdout",
          "text": [
            "0\n",
            "1\n",
            "2\n",
            "3\n",
            "4\n",
            "5\n",
            "6\n"
          ]
        }
      ]
    },
    {
      "cell_type": "code",
      "source": [
        "'''\n",
        "Bucle infinito\n",
        "count = 0\n",
        "\n",
        "while(count < 10):\n",
        "  count = count\n",
        "  print(count) '''"
      ],
      "metadata": {
        "colab": {
          "base_uri": "https://localhost:8080/",
          "height": 35
        },
        "id": "xAZuvgtyMNRg",
        "outputId": "8ad1222e-10a0-431f-9756-ff6523a1f540"
      },
      "execution_count": 11,
      "outputs": [
        {
          "output_type": "execute_result",
          "data": {
            "text/plain": [
              "' \\nBucle infinito\\ncount = 0\\n\\nwhile(count < 10):\\n  count = count \\n  print(count) '"
            ],
            "application/vnd.google.colaboratory.intrinsic+json": {
              "type": "string"
            }
          },
          "metadata": {},
          "execution_count": 11
        }
      ]
    },
    {
      "cell_type": "code",
      "source": [
        "count = 0\n",
        "\n",
        "while(count < 10):\n",
        "  count = count + 1\n",
        "  print(count)"
      ],
      "metadata": {
        "colab": {
          "base_uri": "https://localhost:8080/"
        },
        "id": "z_AK0grANh1D",
        "outputId": "75a743ee-6605-48f4-ef05-12029050b632"
      },
      "execution_count": 13,
      "outputs": [
        {
          "output_type": "stream",
          "name": "stdout",
          "text": [
            "1\n",
            "2\n",
            "3\n",
            "4\n",
            "5\n",
            "6\n",
            "7\n",
            "8\n",
            "9\n",
            "10\n"
          ]
        }
      ]
    },
    {
      "cell_type": "code",
      "source": [
        "count = 0\n",
        "\n",
        "while(count < 10):\n",
        "  count = count + 1\n",
        "  if count == 5:\n",
        "    print(count)"
      ],
      "metadata": {
        "colab": {
          "base_uri": "https://localhost:8080/"
        },
        "id": "lkM1J0rANDPg",
        "outputId": "9e61de83-22c1-49a7-d190-401f10fcd9dd"
      },
      "execution_count": 12,
      "outputs": [
        {
          "output_type": "stream",
          "name": "stdout",
          "text": [
            "5\n"
          ]
        }
      ]
    },
    {
      "cell_type": "code",
      "source": [
        "count = 0\n",
        "\n",
        "while(count < 10):\n",
        "  count = count + 1\n",
        "  if count == 5:\n",
        "    print(count)\n",
        "  print(count)"
      ],
      "metadata": {
        "colab": {
          "base_uri": "https://localhost:8080/"
        },
        "id": "OgrpqICoNrnI",
        "outputId": "a4de3942-b5c5-45c5-8573-e1096c6834c1"
      },
      "execution_count": 15,
      "outputs": [
        {
          "output_type": "stream",
          "name": "stdout",
          "text": [
            "1\n",
            "2\n",
            "3\n",
            "4\n",
            "5\n",
            "5\n",
            "6\n",
            "7\n",
            "8\n",
            "9\n",
            "10\n"
          ]
        }
      ]
    },
    {
      "cell_type": "code",
      "source": [
        "count = 0\n",
        "\n",
        "while(count < 10):\n",
        "  count = count + 1\n",
        "  if count == 5:\n",
        "    print(count)\n",
        "    break\n",
        "  print(count)"
      ],
      "metadata": {
        "colab": {
          "base_uri": "https://localhost:8080/"
        },
        "id": "NyjolHKcODA6",
        "outputId": "0d29134d-2c25-47e3-89f3-e964a2ef3979"
      },
      "execution_count": 16,
      "outputs": [
        {
          "output_type": "stream",
          "name": "stdout",
          "text": [
            "1\n",
            "2\n",
            "3\n",
            "4\n",
            "5\n"
          ]
        }
      ]
    },
    {
      "cell_type": "code",
      "source": [
        "count = 0\n",
        "\n",
        "while(count < 10):\n",
        "  count = count + 1\n",
        "  if count == 5:\n",
        "    continue\n",
        "    print(count)\n",
        "  print(count)"
      ],
      "metadata": {
        "colab": {
          "base_uri": "https://localhost:8080/"
        },
        "id": "afJs0INBQCgB",
        "outputId": "a4556167-b1f5-41ca-e44a-097b291804ef"
      },
      "execution_count": 18,
      "outputs": [
        {
          "output_type": "stream",
          "name": "stdout",
          "text": [
            "1\n",
            "2\n",
            "3\n",
            "4\n",
            "6\n",
            "7\n",
            "8\n",
            "9\n",
            "10\n"
          ]
        }
      ]
    },
    {
      "cell_type": "markdown",
      "source": [
        "##Ejercicio: Comprendiendo lazos"
      ],
      "metadata": {
        "id": "6WYCwUNxYmxT"
      }
    },
    {
      "cell_type": "code",
      "source": [
        "clientes = [\"Juan\", \"Maria\", \"Carlos\", \"Ana\", \"Beatriz\"]\n",
        "\n",
        "for cliente in clientes:\n",
        "  print(\"El nombre del cliente es:\",cliente)"
      ],
      "metadata": {
        "colab": {
          "base_uri": "https://localhost:8080/"
        },
        "id": "xgfFQi2-RNeU",
        "outputId": "2f33f677-2557-4925-8b49-df174d657fe2"
      },
      "execution_count": 21,
      "outputs": [
        {
          "output_type": "stream",
          "name": "stdout",
          "text": [
            "El nombre del cliente es: Juan\n",
            "El nombre del cliente es: Maria\n",
            "El nombre del cliente es: Carlos\n",
            "El nombre del cliente es: Ana\n",
            "El nombre del cliente es: Beatriz\n"
          ]
        }
      ]
    },
    {
      "cell_type": "markdown",
      "source": [
        "##Ejercicio: ¿Qué es un bucle infinito?"
      ],
      "metadata": {
        "id": "M82iPdnUY0RC"
      }
    },
    {
      "cell_type": "code",
      "source": [
        "contador = 0\n",
        "\n",
        "while contador < 10:\n",
        "  # contador = contador + 1\n",
        "  contador += 1\n",
        "  print(\"El número es:\",contador)"
      ],
      "metadata": {
        "colab": {
          "base_uri": "https://localhost:8080/"
        },
        "id": "8W2tX7MnRzZr",
        "outputId": "2e547ab9-b810-49e4-8036-fd050f105257"
      },
      "execution_count": 1,
      "outputs": [
        {
          "output_type": "stream",
          "name": "stdout",
          "text": [
            "El número es: 1\n",
            "El número es: 2\n",
            "El número es: 3\n",
            "El número es: 4\n",
            "El número es: 5\n",
            "El número es: 6\n",
            "El número es: 7\n",
            "El número es: 8\n",
            "El número es: 9\n",
            "El número es: 10\n"
          ]
        }
      ]
    },
    {
      "cell_type": "markdown",
      "source": [
        "##Ejercicio: ¿Cuántas veces se mostrará el mensaje?"
      ],
      "metadata": {
        "id": "KlRTcwE3Y4in"
      }
    },
    {
      "cell_type": "code",
      "source": [
        "mensaje = \"¡Bienvenido a Buscante!\"\n",
        "contador = 0\n",
        "\n",
        "while contador < 5:\n",
        "  contador += 1\n",
        "  print(mensaje)"
      ],
      "metadata": {
        "colab": {
          "base_uri": "https://localhost:8080/"
        },
        "id": "pgfoqtN3TBvJ",
        "outputId": "f4c6ed10-ed02-4e66-c881-4abe1ff0b714"
      },
      "execution_count": 37,
      "outputs": [
        {
          "output_type": "stream",
          "name": "stdout",
          "text": [
            "¡Bienvenido a Buscante!\n",
            "¡Bienvenido a Buscante!\n",
            "¡Bienvenido a Buscante!\n",
            "¡Bienvenido a Buscante!\n",
            "¡Bienvenido a Buscante!\n"
          ]
        }
      ]
    },
    {
      "cell_type": "markdown",
      "source": [
        "##Ejercicio: Calculando la suma de números"
      ],
      "metadata": {
        "id": "GLj73qDnZACr"
      }
    },
    {
      "cell_type": "code",
      "source": [
        "valores = [10, 20, 30, 40, 50]\n",
        "\n",
        "for valor in valores:\n",
        "  suma = valor + valor + valor\n",
        "\n",
        "print(\"La suma total de los ingresos es:\",suma)"
      ],
      "metadata": {
        "colab": {
          "base_uri": "https://localhost:8080/"
        },
        "id": "auBw04eHUd_y",
        "outputId": "ca83a9a9-5a73-4c20-be45-48655410aede"
      },
      "execution_count": 46,
      "outputs": [
        {
          "output_type": "stream",
          "name": "stdout",
          "text": [
            "La suma total de los ingresos es: 150\n"
          ]
        }
      ]
    },
    {
      "cell_type": "code",
      "source": [
        "cuenta =0\n",
        "valores = [10, 20, 30, 40, 50]\n",
        "for valor in valores:\n",
        "  cuenta = valor + cuenta\n",
        "print(\"La suma total de los ingreos es :\",cuenta)"
      ],
      "metadata": {
        "colab": {
          "base_uri": "https://localhost:8080/"
        },
        "id": "l4aMtr-kVmok",
        "outputId": "0c6a8c48-64ec-4eb7-fd9c-3b4dc774015a"
      },
      "execution_count": 47,
      "outputs": [
        {
          "output_type": "stream",
          "name": "stdout",
          "text": [
            "La suma total de los ingreos es : 150\n"
          ]
        }
      ]
    },
    {
      "cell_type": "markdown",
      "source": [
        "##Ejercicio: Organizando tu portafolio"
      ],
      "metadata": {
        "id": "qQa04X9IZMnp"
      }
    },
    {
      "cell_type": "code",
      "source": [
        "proyectos = [\"Sitio Web\", \"Juego\", \"Análisis de datos\", None, \"Aplicativo móvil\"]\n",
        "\n",
        "for proyecto in proyectos:\n",
        "  if proyecto == None:\n",
        "    print(\"El proyecto es un: Proyecto ausente\")\n",
        "  else:\n",
        "    print(\"El proyecto es un:\",proyecto)"
      ],
      "metadata": {
        "colab": {
          "base_uri": "https://localhost:8080/"
        },
        "id": "8TZkghSeWHVc",
        "outputId": "d7bc6122-6eed-4936-e3a7-e41141a6fd61"
      },
      "execution_count": 51,
      "outputs": [
        {
          "output_type": "stream",
          "name": "stdout",
          "text": [
            "El proyecto es un: Sitio Web\n",
            "El proyecto es un: Juego\n",
            "El proyecto es un: Análisis de datos\n",
            "El proyecto es un: Proyecto ausente\n",
            "El proyecto es un: Aplicativo móvil\n"
          ]
        }
      ]
    },
    {
      "cell_type": "markdown",
      "source": [
        "##Ejercicio: Entendiendo el uso del break"
      ],
      "metadata": {
        "id": "UTuM9EhgZW-P"
      }
    },
    {
      "cell_type": "code",
      "source": [
        "libros = [\"1984\", \"Cien años de soledad\", \"El Principito\", \"El Hobbit\", \"Orgullo y Prejuicio\"]\n",
        "\n",
        "for libro in libros:\n",
        "  if libro == \"El Hobbit\":\n",
        "   print(\"Libro encontrado:\",libro)\n",
        "   break"
      ],
      "metadata": {
        "colab": {
          "base_uri": "https://localhost:8080/"
        },
        "id": "xenvw9pUXlo5",
        "outputId": "83aff075-418c-40d9-96bd-3cd80b0ea867"
      },
      "execution_count": 54,
      "outputs": [
        {
          "output_type": "stream",
          "name": "stdout",
          "text": [
            "Libro encontrado: El Hobbit\n"
          ]
        }
      ]
    },
    {
      "cell_type": "markdown",
      "source": [
        "##Ejercicio: Control de inventario"
      ],
      "metadata": {
        "id": "n39nbJHxZg2j"
      }
    },
    {
      "cell_type": "code",
      "source": [
        "limte_libros = 6\n",
        "for libro in range(limte_libros):\n",
        "  limte_libros -= 1\n",
        "  if libro < 5:\n",
        "    print(\"¡Venta realizada! Inventario restante:\",limte_libros)\n",
        "  else:\n",
        "    print(\"Inventario agotado\")\n",
        "    break"
      ],
      "metadata": {
        "colab": {
          "base_uri": "https://localhost:8080/"
        },
        "id": "K3wW64JLZm8j",
        "outputId": "4bcf0436-ce93-41e5-bffc-173ec1362132"
      },
      "execution_count": 10,
      "outputs": [
        {
          "output_type": "stream",
          "name": "stdout",
          "text": [
            "¡Venta realizada! Inventario restante: 5\n",
            "¡Venta realizada! Inventario restante: 4\n",
            "¡Venta realizada! Inventario restante: 3\n",
            "¡Venta realizada! Inventario restante: 2\n",
            "¡Venta realizada! Inventario restante: 1\n",
            "Inventario agotado\n"
          ]
        }
      ]
    },
    {
      "cell_type": "markdown",
      "source": [
        "##Ejercicio: Cuenta Regresiva"
      ],
      "metadata": {
        "id": "YBM5s5TycCdJ"
      }
    },
    {
      "cell_type": "code",
      "source": [
        "cuenta_regresiva = 11\n",
        "\n",
        "while cuenta_regresiva > 0:\n",
        "  cuenta_regresiva -= 1\n",
        "  if cuenta_regresiva % 2 == 0:\n",
        "    print(f\"Cuenta Regresiva {cuenta_regresiva} segundos - ¡No pierdas esta oportunidad!\")\n",
        "  elif cuenta_regresiva % 2 != 0:\n",
        "    print(f\"La cuenta continúa: {cuenta_regresiva} segundos restantes.\")\n",
        "print(\"¡Aprovecha la promoción ahora!\")"
      ],
      "metadata": {
        "colab": {
          "base_uri": "https://localhost:8080/"
        },
        "id": "9hnufaRfcQO8",
        "outputId": "67649b6a-a908-4c2f-87b0-6b74e82bb796"
      },
      "execution_count": 21,
      "outputs": [
        {
          "output_type": "stream",
          "name": "stdout",
          "text": [
            "Cuenta Regresiva 10 segundos - ¡No pierdas esta oportunidad!\n",
            "La cuenta continúa: 9 segundos restantes.\n",
            "Cuenta Regresiva 8 segundos - ¡No pierdas esta oportunidad!\n",
            "La cuenta continúa: 7 segundos restantes.\n",
            "Cuenta Regresiva 6 segundos - ¡No pierdas esta oportunidad!\n",
            "La cuenta continúa: 5 segundos restantes.\n",
            "Cuenta Regresiva 4 segundos - ¡No pierdas esta oportunidad!\n",
            "La cuenta continúa: 3 segundos restantes.\n",
            "Cuenta Regresiva 2 segundos - ¡No pierdas esta oportunidad!\n",
            "La cuenta continúa: 1 segundos restantes.\n",
            "Cuenta Regresiva 0 segundos - ¡No pierdas esta oportunidad!\n",
            "¡Aprovecha la promoción ahora!\n"
          ]
        }
      ]
    },
    {
      "cell_type": "markdown",
      "source": [
        "##Ejercicio: Utilidad del continue en bucles"
      ],
      "metadata": {
        "id": "jH1bAXLxfAcR"
      }
    },
    {
      "cell_type": "code",
      "source": [
        "libros = [\n",
        "    {\"nombre\": \"1984\", \"stock\": 5},\n",
        "    {\"nombre\": \"Dom Casmurro\", \"stock\": 0},\n",
        "    {\"nombre\": \"El Principito\", \"stock\": 3},\n",
        "    {\"nombre\": \"El Hobbit\", \"stock\": 0},\n",
        "    {\"nombre\": \"Orgullo y Prejuicio\", \"stock\": 2}\n",
        "]\n",
        "\n",
        "for libro in libros:\n",
        "  if libro[\"stock\"] > 0:\n",
        "    print(f\"Libro disponible:\",libro['nombre'])\n",
        "  else:\n",
        "    print(f\"Libro agotado:\",libro['nombre'])\n",
        "    continue"
      ],
      "metadata": {
        "colab": {
          "base_uri": "https://localhost:8080/"
        },
        "id": "IusuvK4NfFRx",
        "outputId": "ecf9539e-4581-41f4-ef48-bc21cb426f24"
      },
      "execution_count": 23,
      "outputs": [
        {
          "output_type": "stream",
          "name": "stdout",
          "text": [
            "Libro disponible: 1984\n",
            "Libro agotado: Dom Casmurro\n",
            "Libro disponible: El Principito\n",
            "Libro agotado: El Hobbit\n",
            "Libro disponible: Orgullo y Prejuicio\n"
          ]
        }
      ]
    },
    {
      "cell_type": "markdown",
      "source": [
        "##Ejercicio: Validación de entrada para inicio de sesión"
      ],
      "metadata": {
        "id": "P36QqimhhZhS"
      }
    },
    {
      "cell_type": "code",
      "source": [
        "while True:\n",
        "  nombreusuario = input(\"Digite su nombre de usuario: \")\n",
        "  contraseña = input(\"Digite su contraseña: \")\n",
        "  if len(nombreusuario) < 5:\n",
        "    print(\"El nombre de usuario debe tener al menos 5 caracteres.\")\n",
        "    continue\n",
        "  if len(contraseña) < 8:\n",
        "    print(\"La contraseña debe tener al menos 8 caracteres.\")\n",
        "    continue\n",
        "  print(\"¡Registro realizado con éxito!\")\n",
        "  break"
      ],
      "metadata": {
        "colab": {
          "base_uri": "https://localhost:8080/"
        },
        "id": "AAQyk7Ikhgdb",
        "outputId": "35808685-9ce6-401b-eae2-1bf6894a428b"
      },
      "execution_count": 26,
      "outputs": [
        {
          "output_type": "stream",
          "name": "stdout",
          "text": [
            "Digite su nombre de usuario: user\n",
            "Digite su contraseña: 123\n",
            "El nombre de usuario debe tener al menos 5 caracteres.\n",
            "Digite su nombre de usuario: user22\n",
            "Digite su contraseña: 1234\n",
            "La contraseña debe tener al menos 8 caracteres.\n",
            "Digite su nombre de usuario: user22\n",
            "Digite su contraseña: 12345678\n",
            "¡Registro realizado con éxito!\n"
          ]
        }
      ]
    }
  ]
}