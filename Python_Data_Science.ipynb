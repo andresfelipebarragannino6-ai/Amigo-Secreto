{
  "nbformat": 4,
  "nbformat_minor": 0,
  "metadata": {
    "colab": {
      "provenance": [],
      "include_colab_link": true
    },
    "kernelspec": {
      "name": "python3",
      "display_name": "Python 3"
    },
    "language_info": {
      "name": "python"
    }
  },
  "cells": [
    {
      "cell_type": "markdown",
      "metadata": {
        "id": "view-in-github",
        "colab_type": "text"
      },
      "source": [
        "<a href=\"https://colab.research.google.com/github/andresfelipebarragannino6-ai/Amigo-Secreto/blob/main/Python_Data_Science.ipynb\" target=\"_parent\"><img src=\"https://colab.research.google.com/assets/colab-badge.svg\" alt=\"Open In Colab\"/></a>"
      ]
    },
    {
      "cell_type": "markdown",
      "source": [
        "# Python para Data Science\n",
        "\n",
        "Notebook para el curso de Python para Data Science publicado en la plataforma de [Alura Latam](https://www.aluracursos.com/)"
      ],
      "metadata": {
        "id": "lQx6Mmv0OJyT"
      }
    },
    {
      "cell_type": "markdown",
      "source": [
        "# Introducción a Python\n",
        "¡Vamos a conocer Python, nuestro ambiente de estudio, y también generaremos nuestro primer código en este lenguaje!"
      ],
      "metadata": {
        "id": "7SiB6JIpYKmY"
      }
    },
    {
      "cell_type": "markdown",
      "source": [
        "## Google Colaboratory\n",
        "\n",
        "Ya aprendimos qué es [Python](https://www.python.org/) y ahora aprenderemos a usar nuestra herramienta de ejecución [Google Colaboratory](https://colab.research.google.com/) para programar en un notebook interactivo.\n",
        "\n",
        "Vamos a probar algunas funciones de este ambiente."
      ],
      "metadata": {
        "id": "Yugfb3fCOYY9"
      }
    },
    {
      "cell_type": "markdown",
      "source": [
        " **`>>> Usa esta celda para mover <<<`**"
      ],
      "metadata": {
        "id": "2iUHQsJasJAk"
      }
    },
    {
      "cell_type": "markdown",
      "source": [
        "## ¡Hola mundo!\n",
        "\n",
        "Vamos a conocer un poco más de cerca nuestro notebook. Para ello ejecutaremos nuestro primer comando en Python: [`print()`](https://docs.python.org/3/library/functions.html#print)"
      ],
      "metadata": {
        "id": "aLSFP2V7XTfe"
      }
    },
    {
      "cell_type": "code",
      "source": [
        "print(\"¡Hola mundo!\") # Se imprime el mensaje: Hola mundo"
      ],
      "metadata": {
        "id": "0qZX8_ZQBYyk",
        "colab": {
          "base_uri": "https://localhost:8080/"
        },
        "outputId": "1296cd03-a83b-412c-d8b3-debdf092c19e"
      },
      "execution_count": null,
      "outputs": [
        {
          "output_type": "stream",
          "name": "stdout",
          "text": [
            "¡Hola mundo!\n"
          ]
        }
      ]
    },
    {
      "cell_type": "code",
      "source": [
        "15 # Se muestra en pantalla el número 15"
      ],
      "metadata": {
        "id": "GLMzF_AKBY7a",
        "colab": {
          "base_uri": "https://localhost:8080/"
        },
        "outputId": "24ab492a-a6c9-4f8b-c6df-18837ccec035"
      },
      "execution_count": null,
      "outputs": [
        {
          "output_type": "execute_result",
          "data": {
            "text/plain": [
              "15"
            ]
          },
          "metadata": {},
          "execution_count": 97
        }
      ]
    },
    {
      "cell_type": "code",
      "source": [
        "print(\"Mi nombre es Andrés y tengo 23 años y me encanta la ciencia de datos\") # Se imprime mi nombre, la edad y un mensaje"
      ],
      "metadata": {
        "id": "rY1eSRiHf61e",
        "colab": {
          "base_uri": "https://localhost:8080/"
        },
        "outputId": "61bdeeaf-0f84-4409-ec11-08be54042131"
      },
      "execution_count": null,
      "outputs": [
        {
          "output_type": "stream",
          "name": "stdout",
          "text": [
            "Mi nombre es Andrés y tengo 23 años y me encanta la ciencia de datos\n"
          ]
        }
      ]
    },
    {
      "cell_type": "markdown",
      "source": [
        "# Manipulando los datos\n",
        "\n",
        "Vamos a aprender sobre las variables en Python, cómo declararlas y utilizarlas además de conocer otros comandos de este lenguaje. :D"
      ],
      "metadata": {
        "id": "iP8uWQmFYFRs"
      }
    },
    {
      "cell_type": "markdown",
      "source": [
        "## Variables\n",
        "\n",
        "En Data Science trabajamos con varios tipos de datos e informaciones, entonces es esencial saber cómo trabajar con las variables."
      ],
      "metadata": {
        "id": "sLNVmnTbag1Z"
      }
    },
    {
      "cell_type": "markdown",
      "source": [
        "Las variables en Python se crean cuando atribuimos un valor a ella.\n",
        "\n",
        "Para esto, colocamos el nombre de la variable, el signo de igual (`=`) y el valor que queremos atribuirle."
      ],
      "metadata": {
        "id": "lsCY0wahAbf6"
      }
    },
    {
      "cell_type": "code",
      "source": [
        "5 # Se muestra en pantalla el número 5"
      ],
      "metadata": {
        "id": "vsHh5buZADND",
        "colab": {
          "base_uri": "https://localhost:8080/"
        },
        "outputId": "10c59a88-7a40-4e17-9d98-8578de927bd4"
      },
      "execution_count": null,
      "outputs": [
        {
          "output_type": "execute_result",
          "data": {
            "text/plain": [
              "5"
            ]
          },
          "metadata": {},
          "execution_count": 99
        }
      ]
    },
    {
      "cell_type": "code",
      "source": [
        "id(5) # Se muestra en pantalla la dirección de memoria del número 5"
      ],
      "metadata": {
        "id": "sivPtqSjADQV",
        "colab": {
          "base_uri": "https://localhost:8080/"
        },
        "outputId": "a10d5184-4cd7-4173-ece6-92ff2c740ed3"
      },
      "execution_count": null,
      "outputs": [
        {
          "output_type": "execute_result",
          "data": {
            "text/plain": [
              "11654504"
            ]
          },
          "metadata": {},
          "execution_count": 100
        }
      ]
    },
    {
      "cell_type": "code",
      "source": [
        "edad = 5 # Se establece una variable que se denomina edad que va a acumular el valor de 5\n",
        "id(edad) # Se muestra en pantalla la dirección de memoria, lo cual valida que el número 5 y la variable edad se acumulan en la misma dirreción de memoria"
      ],
      "metadata": {
        "id": "JC8jO47wADlm",
        "colab": {
          "base_uri": "https://localhost:8080/"
        },
        "outputId": "5ea88435-f95f-42f0-e715-ff78b1b32295"
      },
      "execution_count": null,
      "outputs": [
        {
          "output_type": "execute_result",
          "data": {
            "text/plain": [
              "11654504"
            ]
          },
          "metadata": {},
          "execution_count": 101
        }
      ]
    },
    {
      "cell_type": "code",
      "source": [
        "print(id(5)) # Se imprime la dirección de memoria del numero 5\n",
        "print(id(edad)) # Se imprime la dirección de memoria del numero de la variable edad"
      ],
      "metadata": {
        "id": "JW4xg-regk3D",
        "colab": {
          "base_uri": "https://localhost:8080/"
        },
        "outputId": "db4c3554-97e1-45ed-d6ca-37af2fb84db0"
      },
      "execution_count": null,
      "outputs": [
        {
          "output_type": "stream",
          "name": "stdout",
          "text": [
            "11654504\n",
            "11654504\n"
          ]
        }
      ]
    },
    {
      "cell_type": "code",
      "source": [
        "numerocinco = 5 # Se establece una variable denominada numerocinco que va a almacenar el número 5"
      ],
      "metadata": {
        "id": "5lDtqfWggumj"
      },
      "execution_count": null,
      "outputs": []
    },
    {
      "cell_type": "code",
      "source": [
        "id(numerocinco) # Se muestra en pantalla la dirección de memoria del numero de la variable numerocinco"
      ],
      "metadata": {
        "id": "LvwnR11vgzud",
        "colab": {
          "base_uri": "https://localhost:8080/"
        },
        "outputId": "6af319ba-6413-440d-8765-5eeefce283b7"
      },
      "execution_count": null,
      "outputs": [
        {
          "output_type": "execute_result",
          "data": {
            "text/plain": [
              "11654504"
            ]
          },
          "metadata": {},
          "execution_count": 105
        }
      ]
    },
    {
      "cell_type": "code",
      "source": [
        "nombre = \"Gabriel\" # Se declara una variable denominada como nombre que va a almacenar Gabriel"
      ],
      "metadata": {
        "id": "q266G2Vag9IW"
      },
      "execution_count": null,
      "outputs": []
    },
    {
      "cell_type": "code",
      "source": [
        "id(\"Gabriel\") # Se muestra en pantalla la dirección de memoria de la palabra Gabriel"
      ],
      "metadata": {
        "id": "kVJkDBNMhBqY",
        "colab": {
          "base_uri": "https://localhost:8080/"
        },
        "outputId": "ca4a74d2-624c-43a1-8d3e-f8eff8ae52ce"
      },
      "execution_count": null,
      "outputs": [
        {
          "output_type": "execute_result",
          "data": {
            "text/plain": [
              "137763300032112"
            ]
          },
          "metadata": {},
          "execution_count": 107
        }
      ]
    },
    {
      "cell_type": "code",
      "source": [
        "id(nombre) # Se muestra en pantalla la dirección de memoria de la variable nombre"
      ],
      "metadata": {
        "id": "YYssA3NPhGNE",
        "colab": {
          "base_uri": "https://localhost:8080/"
        },
        "outputId": "04a0a5f2-8b5f-4af5-ce4c-6db80d69a4f8"
      },
      "execution_count": null,
      "outputs": [
        {
          "output_type": "execute_result",
          "data": {
            "text/plain": [
              "137763300032112"
            ]
          },
          "metadata": {},
          "execution_count": 108
        }
      ]
    },
    {
      "cell_type": "markdown",
      "source": [
        "Existen algunos tipos de nomes que **no** podemos definir para las variables:\n",
        "\n",
        "- **Nombres que comiencen con números**\n",
        "  - Ejemplos: `10_notas`, `2_nombre_casa`, etc.\n",
        "- **Palabras separadas por espacio**\n",
        "  - Ejemplos: `Nombre escuela`, `notas estudiantes`, etc.\n",
        "- **Nombres de funciones de Python**\n",
        "  - Ejemplos: `print`, `type`, etc."
      ],
      "metadata": {
        "id": "om2N0jHKAzwL"
      }
    },
    {
      "cell_type": "markdown",
      "source": [
        "> Las letras mayúsculas y minúsculas generarán diferentes variables. La variable `edad` es diferente de `Edad` que a su vez es diferente de `EDAD`:\n",
        "``` Python\n",
        "edad = 1\n",
        "Edad = 2\n",
        "EDAD = 3\n",
        "_edad = 4\n",
        "_edad_ = 5\n",
        "print(edad, Edad, EDAD, _edad, _edad_)\n",
        "1 2 3 4 5\n",
        "```"
      ],
      "metadata": {
        "id": "A19vY2GVMujB"
      }
    },
    {
      "cell_type": "markdown",
      "source": [
        "## Tipos de variables\n",
        "\n",
        "Cada variable contiene una clase específica con respecto al tipo de objeto al cual esta hace referencia. Estas clases serán diferentes de acuerdo con el tipo de dato que le sea atribuido a una variable.\n",
        "\n",
        "Para conocer la clase de cada elemento usamos la función [`type()`](https://docs.python.org/3/library/functions.html#type)"
      ],
      "metadata": {
        "id": "UqhzuBhBHsps"
      }
    },
    {
      "cell_type": "code",
      "source": [
        "edad = 5 # Se declara una variable que se denomina edad que va a almacenar el valor de 5"
      ],
      "metadata": {
        "id": "J5a9t73A_-PX"
      },
      "execution_count": null,
      "outputs": []
    },
    {
      "cell_type": "code",
      "source": [
        "type(edad) # Con la función type se averigua el tipo de dato que es en este caso edad que da como resultado un dato de tipo entero"
      ],
      "metadata": {
        "id": "D8T5sLiChbvj",
        "colab": {
          "base_uri": "https://localhost:8080/"
        },
        "outputId": "8162f531-d95b-4c03-c20d-fa00c19b113f"
      },
      "execution_count": null,
      "outputs": [
        {
          "output_type": "execute_result",
          "data": {
            "text/plain": [
              "int"
            ]
          },
          "metadata": {},
          "execution_count": 110
        }
      ]
    },
    {
      "cell_type": "code",
      "source": [
        "promedio = 9.5 # Se declara una variable que se denomina promedio que va a almacenar el valor de 9.5\n",
        "type(promedio) # Con la función type se averigua el tipo de dato que es en este caso promedio que da como resultado un dato de tipo flotante"
      ],
      "metadata": {
        "id": "rqmO1ew-_-So",
        "colab": {
          "base_uri": "https://localhost:8080/"
        },
        "outputId": "21f71d54-f80f-41a0-9991-cc877a6109fe"
      },
      "execution_count": null,
      "outputs": [
        {
          "output_type": "execute_result",
          "data": {
            "text/plain": [
              "float"
            ]
          },
          "metadata": {},
          "execution_count": 111
        }
      ]
    },
    {
      "cell_type": "code",
      "source": [
        "nombre = \"Andrés\" # Se declara una variable que se denomina nombre que va a almacenar el valor de Andrés\n",
        "type(nombre) # Con la función type se averigua el tipo de dato que es en este caso nombre que da como resultado un dato de tipo string"
      ],
      "metadata": {
        "id": "xkrPMkeY_-cP",
        "colab": {
          "base_uri": "https://localhost:8080/"
        },
        "outputId": "a65955ff-4134-4dc6-f4d5-ad8217b66d22"
      },
      "execution_count": null,
      "outputs": [
        {
          "output_type": "execute_result",
          "data": {
            "text/plain": [
              "str"
            ]
          },
          "metadata": {},
          "execution_count": 112
        }
      ]
    },
    {
      "cell_type": "code",
      "source": [
        "v = True # Se declara una variable que se denomina v que va a almacenar el valor de True\n",
        "type(v) # Con la función type se averigua el tipo de dato que es en este caso v que da como resultado un dato de tipo booleano"
      ],
      "metadata": {
        "id": "0WXV1RjIhmqu",
        "colab": {
          "base_uri": "https://localhost:8080/"
        },
        "outputId": "b071413a-1435-475b-bed2-469d59c85088"
      },
      "execution_count": null,
      "outputs": [
        {
          "output_type": "execute_result",
          "data": {
            "text/plain": [
              "bool"
            ]
          },
          "metadata": {},
          "execution_count": 113
        }
      ]
    },
    {
      "cell_type": "code",
      "source": [
        "print(\"Escuela de Datos de Alura\") # Se imprime un mensaje"
      ],
      "metadata": {
        "id": "6vpjsprmjTRB",
        "colab": {
          "base_uri": "https://localhost:8080/"
        },
        "outputId": "454026d8-e6b1-4566-f8d4-611155a32d59"
      },
      "execution_count": null,
      "outputs": [
        {
          "output_type": "stream",
          "name": "stdout",
          "text": [
            "Escuela de Datos de Alura\n"
          ]
        }
      ]
    },
    {
      "cell_type": "code",
      "source": [
        "nombre = \"Andrés\" # Se declara una variable que se denomina nombre que va a almacenar el valor de Andrés\n",
        "apellido = \"Barragán\" #Se declara una variable que se denomina apellido que va a almacenar el valor de Barragán"
      ],
      "metadata": {
        "id": "D1fHzdFAjsEo"
      },
      "execution_count": null,
      "outputs": []
    },
    {
      "cell_type": "code",
      "source": [
        "print(\"Mi nombre es:\",nombre) # Se imprime el mensaje, junto a ser llamada la variable nombre\n",
        "print(\"Mi apellido es:\",apellido) # Se imprime el mensaje, junto a ser llamada la variable apellido"
      ],
      "metadata": {
        "id": "epxD-Ywnj49u",
        "colab": {
          "base_uri": "https://localhost:8080/"
        },
        "outputId": "99e2822d-b9be-4bc4-d950-36f026d15a15"
      },
      "execution_count": null,
      "outputs": [
        {
          "output_type": "stream",
          "name": "stdout",
          "text": [
            "Mi nombre es: Andrés\n",
            "Mi apellido es: Barragán\n"
          ]
        }
      ]
    },
    {
      "cell_type": "code",
      "source": [
        "print(\"A\") # Se imprime en panatalla el valor de A\n",
        "print(\"n\") # Se imprime en panatalla el valor de n\n",
        "print(\"d\") # Se imprime en panatalla el valor de d\n",
        "print(\"r\") # Se imprime en panatalla el valor de r\n",
        "print(\"é\") # Se imprime en panatalla el valor de é\n",
        "print(\"s\") # Se imprime en panatalla el valor de s"
      ],
      "metadata": {
        "id": "h--HoSKrkQTc",
        "colab": {
          "base_uri": "https://localhost:8080/"
        },
        "outputId": "a08fa56b-619a-43a7-92be-47658ff874f7"
      },
      "execution_count": null,
      "outputs": [
        {
          "output_type": "stream",
          "name": "stdout",
          "text": [
            "A\n",
            "n\n",
            "d\n",
            "r\n",
            "é\n",
            "s\n"
          ]
        }
      ]
    },
    {
      "cell_type": "code",
      "source": [
        "dia = 19 # Se declara una variable denominada dia que va a almacenar el valor de 19\n",
        "mes = \"octubre\" # Se declara una variable denominada mes que va a almacenar el valor de octubre\n",
        "año = 2002 # Se declara una variable denominada año que va a almacenar el valor de 2002"
      ],
      "metadata": {
        "id": "QYnjrZQLkmJD"
      },
      "execution_count": null,
      "outputs": []
    },
    {
      "cell_type": "code",
      "source": [
        "print(dia, mes, año) # Se imprime en pantalla las variables que son dia, mes y año"
      ],
      "metadata": {
        "id": "euVsz6k5kz6h",
        "colab": {
          "base_uri": "https://localhost:8080/"
        },
        "outputId": "28fa19ad-0bea-481e-f648-c95f8f13c9ee"
      },
      "execution_count": null,
      "outputs": [
        {
          "output_type": "stream",
          "name": "stdout",
          "text": [
            "19 octubre 2002\n"
          ]
        }
      ]
    },
    {
      "cell_type": "code",
      "source": [
        "año = 2025 # Se declara una variable que se denomina año que va a almacenar el valor de 2025\n",
        "print(\"Año actual:\",año) # Se imprime en pantalla el mensaje, junto a ser llamanda la variable año"
      ],
      "metadata": {
        "id": "NkTk70A-k3p5",
        "colab": {
          "base_uri": "https://localhost:8080/"
        },
        "outputId": "3ce6f083-2835-4f20-a2a0-3a51022f5b5e"
      },
      "execution_count": null,
      "outputs": [
        {
          "output_type": "stream",
          "name": "stdout",
          "text": [
            "Año actual: 2025\n"
          ]
        }
      ]
    },
    {
      "cell_type": "markdown",
      "source": [
        "En un conjunto de datos escolares podemos tener varios tipos de informaciones. Supongamos que tenemos acceso a la ficha de datos del alumno *Penélope Camacho*, cómo transformamos este nombre en variables de Python?\n",
        "\n",
        "#### Ficha:\n",
        "\n",
        "- Nombre: Penélope Camacho\n",
        "- Edad: 11 años\n",
        "- Promedio del semestre: 9,75\n",
        "- Situación de aprobación: Verdadera (aprobado)"
      ],
      "metadata": {
        "id": "O-FxDumfWu0C"
      }
    },
    {
      "cell_type": "code",
      "source": [
        "nombre_estudiante = \"Penélope Camacho\" # Se declara una variable que se denomina nombre_estudiante que va a almacenar el valor de Penélope Camacho\n",
        "edad_estudiante = 11 # Se declara una variable que se denomina edad_estudiante que va a almacenar el valor de 11\n",
        "promedio_estudiante = 9.75 # Se declara una variable que se denomina promedio_estudiante que va a almacenar el valor 9.75\n",
        "aprobado_estudiante = True # Se declara una variable que se denomina aprobado_estudiante que va a almacenar el valor de True\n",
        "\n",
        "print(nombre_estudiante, edad_estudiante, promedio_estudiante, aprobado_estudiante) # Se imprime en pantalla las variables nombre_estudiante, edad_estudiante, promedio_estudiante y aprobado_estudiante\n",
        "print(type(nombre_estudiante), type(edad_estudiante), type(promedio_estudiante), type(aprobado_estudiante)) # Se imprime en pantalla el tipo de dato de las variables nombre_estudiante=string, edad_estudiante=entero, promedio_estudiante=flotante y aprobado_estudiante=booleano"
      ],
      "metadata": {
        "id": "FabQ7jQf_8Xt",
        "colab": {
          "base_uri": "https://localhost:8080/"
        },
        "outputId": "1f3eacfa-49eb-4834-b97e-d63d714e8a1f"
      },
      "execution_count": null,
      "outputs": [
        {
          "output_type": "stream",
          "name": "stdout",
          "text": [
            "Penélope Camacho 11 9.75 True\n",
            "<class 'str'> <class 'int'> <class 'float'> <class 'bool'>\n"
          ]
        }
      ]
    },
    {
      "cell_type": "markdown",
      "source": [
        "## Variables numéricas\n",
        "\n",
        "Entre los tipos de datos numéricos vamos a enfocarnos en los tipos `entero` y `float`."
      ],
      "metadata": {
        "id": "KFq_8Sxf-OG0"
      }
    },
    {
      "cell_type": "markdown",
      "source": [
        "Tenemos una tabla de información sobre los diversos cargos, cantidad de personas empleadas y el salario correspondiente:\n",
        "\n",
        "|Cargo | Cantidad | Salario|\n",
        "|---|---|---|\n",
        "|Vigilante | 5 | 300 |\n",
        "|Docente | 16| 500|\n",
        "|Coordinador| 2 |600|\n",
        "\n",
        "Necesitamos trabajar con estos datos para obtener:\n",
        "\n",
        "- La cantidad total de empleados;\n",
        "- La diferencia entre el salario más bajo y más alto; y\n",
        "- El promedio ponderado de los salarios de los empleados de la escuela."
      ],
      "metadata": {
        "id": "8_HYUbkVYdQY"
      }
    },
    {
      "cell_type": "code",
      "source": [
        "c_vigilantes = 5 # Se declara una variable denominada c_vigilantes que va a almacenar el número de vigilantes que van a ser el valor de 5\n",
        "s_vigilantes = 300 # Se declara una variable denominada s_vigilantes que va a almacenar el salario de los vigilantes que va a ser el valor de 300\n",
        "\n",
        "c_docentes = 16 # Se declara una variable denominada c_docentes que va a almacenar el número de docentes que van a ser el valor de 16\n",
        "s_docentes = 500 # Se declara una variable denominada s_docentes que va a almacenar el salario de los docentes que va a ser el valor de 500\n",
        "\n",
        "c_coordinadores = 2 # Se declara una variable denominada c_coordinadores que va a almacenar el número de coordinadores que van a ser el valor de 2\n",
        "s_coordinadores = 600 # Se declara una variable denominada s_coordinadores que va a almacenar el salario de los coordinadores que va a ser el valor de 600"
      ],
      "metadata": {
        "id": "F_X-wxdm_5Ys"
      },
      "execution_count": null,
      "outputs": []
    },
    {
      "cell_type": "code",
      "source": [
        "total_empleados = c_vigilantes + c_docentes + c_coordinadores # Se declara una variable denominada total_empleados que va a almacenar la suma de la cantidad de vigilantes más la cantidad de docentes más la cantidad de coordinadores\n",
        "total_empleados # Se muestra en pantalla el valor total de empleados"
      ],
      "metadata": {
        "id": "gKmBbhII_5b9",
        "colab": {
          "base_uri": "https://localhost:8080/"
        },
        "outputId": "7fcdbea9-32c1-4d9f-8880-00f48483619c"
      },
      "execution_count": null,
      "outputs": [
        {
          "output_type": "execute_result",
          "data": {
            "text/plain": [
              "23"
            ]
          },
          "metadata": {},
          "execution_count": 123
        }
      ]
    },
    {
      "cell_type": "code",
      "source": [
        "diferencia_salario = s_coordinadores - s_vigilantes # Se declara una variable denominada diferencia_salario que va a almacenar la variación entre el salario del coordinador y el salario del vigilante\n",
        "diferencia_salario # Se muestra en pantalla el valor de diferencia entre el salario dol coordinador y el vigilante"
      ],
      "metadata": {
        "id": "fIugsxNy_53j",
        "colab": {
          "base_uri": "https://localhost:8080/"
        },
        "outputId": "42bbc029-00e2-4c33-d0bd-efc355316bf6"
      },
      "execution_count": null,
      "outputs": [
        {
          "output_type": "execute_result",
          "data": {
            "text/plain": [
              "300"
            ]
          },
          "metadata": {},
          "execution_count": 124
        }
      ]
    },
    {
      "cell_type": "code",
      "source": [
        "promedio_salarios = (s_vigilantes * c_vigilantes + s_docentes * c_docentes + s_coordinadores * c_coordinadores) / total_empleados # Se declara una variable denominada promedio_salarios que se denomina con la expresión la suma de la cantidad de los empleado que son vigilantes, docentes y coordinadores esto multiplicado por el salario de cada uno, y por supuesto dividido entre la variable denominada total_empleados que almacena la suma de vigilantes más docentes más coordinadores\n",
        "promedio_salarios # Se muestra en pantalla el valor de promedio de salarios entre los vigilantes, docentes y coordinadores"
      ],
      "metadata": {
        "id": "sTbgrZk-jKPq",
        "colab": {
          "base_uri": "https://localhost:8080/"
        },
        "outputId": "b6d6a6ad-f016-42b9-8ce1-07c5e709cc1f"
      },
      "execution_count": null,
      "outputs": [
        {
          "output_type": "execute_result",
          "data": {
            "text/plain": [
              "465.2173913043478"
            ]
          },
          "metadata": {},
          "execution_count": 125
        }
      ]
    },
    {
      "cell_type": "code",
      "source": [
        "type(promedio_salarios) # Con la función type se averigua el tipo de dato que es en este caso promedio_salarios que da como resultado un dato de tipo float"
      ],
      "metadata": {
        "id": "fjUi3HHslTSp",
        "colab": {
          "base_uri": "https://localhost:8080/"
        },
        "outputId": "beb8c181-5146-4242-9e50-c956d0f1fd88"
      },
      "execution_count": null,
      "outputs": [
        {
          "output_type": "execute_result",
          "data": {
            "text/plain": [
              "float"
            ]
          },
          "metadata": {},
          "execution_count": 126
        }
      ]
    },
    {
      "cell_type": "markdown",
      "source": [
        "## Strings"
      ],
      "metadata": {
        "id": "yQy7b0ZWoD-P"
      }
    },
    {
      "cell_type": "markdown",
      "source": [
        "Strings hace referencia a un conjunto de caracteres formando un texto.\n",
        "\n",
        "Podemos crear Strings cuando atribuimos un dato a una variable entre comillas sencillas (`'`) o comillas dobles (`\"`)."
      ],
      "metadata": {
        "id": "vlo2-DXusv3s"
      }
    },
    {
      "cell_type": "code",
      "source": [
        "t = \"Alura\" # Se declara una variable denominada t que va a almacenar el valor de Alura\n",
        "type(t) # Con la función type se averigua el tipo de dato que es en este caso t que da como resultado un dato de tipo string"
      ],
      "metadata": {
        "id": "ityEWqvh_2wK",
        "colab": {
          "base_uri": "https://localhost:8080/"
        },
        "outputId": "d7446d3f-e90c-4385-8c2d-021d23de4988"
      },
      "execution_count": null,
      "outputs": [
        {
          "output_type": "execute_result",
          "data": {
            "text/plain": [
              "str"
            ]
          },
          "metadata": {},
          "execution_count": 127
        }
      ]
    },
    {
      "cell_type": "markdown",
      "source": [
        "Las variables textuales son objetos que poseen métodos que nos ayudan a formatear strings. Los métodos los podemos ejecutar al definir un objeto de acuerdo con la siguiente estructura:\n",
        "\n",
        "```\n",
        "objeto.metodo()\n",
        "```\n",
        "\n",
        "Existen métodos que no necesitan los `()`, siempre es una buena práctica verificar la documentación para cada caso."
      ],
      "metadata": {
        "id": "2e9UD_CCxqz_"
      }
    },
    {
      "cell_type": "markdown",
      "source": [
        "---\n",
        "**Situación:**\n",
        "\n",
        "Recibimos una variable con el nombre de una profesora de la escuela para añadirla a los registros. Sin embargo, necesitamos darle un tratamiento a este texto antes de insertarlo al sistema."
      ],
      "metadata": {
        "id": "p6aPmMGP4tf9"
      }
    },
    {
      "cell_type": "code",
      "source": [
        "texto = '  Micaela de los Sanyos ' # Se declara una variable que se denomina texto que va a almacenar el valor de Micaela de los Sanyos\n",
        "id(texto) # Se muestra en pantalla la dirección de memoria de la variable texto"
      ],
      "metadata": {
        "id": "icDWtYTjBO0n",
        "colab": {
          "base_uri": "https://localhost:8080/"
        },
        "outputId": "24283391-b2d2-42a8-e35f-7434bfc886f9"
      },
      "execution_count": null,
      "outputs": [
        {
          "output_type": "execute_result",
          "data": {
            "text/plain": [
              "137763299864816"
            ]
          },
          "metadata": {},
          "execution_count": 128
        }
      ]
    },
    {
      "cell_type": "markdown",
      "source": [
        "El objetivo final es que el nombre aparezca de la siguiente forma:\n",
        "\n",
        "```\n",
        "'MICAELA DE LOS SANTOS'\n",
        "```"
      ],
      "metadata": {
        "id": "Dg2ZXSZOGzjC"
      }
    },
    {
      "cell_type": "markdown",
      "source": [
        "### [`str.upper()` ](https://docs.python.org/3/library/stdtypes.html#str.upper)\n",
        "Convierte una string a mayúsculas."
      ],
      "metadata": {
        "id": "iVTAD8q702eN"
      }
    },
    {
      "cell_type": "code",
      "source": [
        "texto.upper() # Con la función upper() aplicada a la variable texto, va a realizar en esa variable que agrande las letras"
      ],
      "metadata": {
        "id": "wMVshJrY_ZXh",
        "colab": {
          "base_uri": "https://localhost:8080/",
          "height": 35
        },
        "outputId": "d6d44dc1-bc4b-4845-8690-d92fa986e393"
      },
      "execution_count": null,
      "outputs": [
        {
          "output_type": "execute_result",
          "data": {
            "text/plain": [
              "'  MICAELA DE LOS SANYOS '"
            ],
            "application/vnd.google.colaboratory.intrinsic+json": {
              "type": "string"
            }
          },
          "metadata": {},
          "execution_count": 129
        }
      ]
    },
    {
      "cell_type": "markdown",
      "source": [
        "### [`str.lower()`](https://docs.python.org/3/library/stdtypes.html#str.lower)\n",
        "Convierte una string a minúsculas."
      ],
      "metadata": {
        "id": "hbDSBtMV1TpG"
      }
    },
    {
      "cell_type": "code",
      "source": [
        "texto.lower() # Con la función lower() aplicada a la variable texto, va a realizar en esa variable que se disminuyan las letras"
      ],
      "metadata": {
        "id": "px3yEeNH_YK4",
        "colab": {
          "base_uri": "https://localhost:8080/",
          "height": 35
        },
        "outputId": "2b86965e-7b9c-468f-e856-649207f68f23"
      },
      "execution_count": null,
      "outputs": [
        {
          "output_type": "execute_result",
          "data": {
            "text/plain": [
              "'  micaela de los sanyos '"
            ],
            "application/vnd.google.colaboratory.intrinsic+json": {
              "type": "string"
            }
          },
          "metadata": {},
          "execution_count": 130
        }
      ]
    },
    {
      "cell_type": "markdown",
      "source": [
        "### [`str.strip()`](https://docs.python.org/3/library/stdtypes.html#str.strip)\n",
        "Elimina los espacios en blanco al inicio y al final de una string."
      ],
      "metadata": {
        "id": "kz47eWM11gii"
      }
    },
    {
      "cell_type": "code",
      "source": [
        "texto.strip() # Con la función strip() aplicada a la variable texto, va a realizar en esa variable que quiten los espacios en blanco de la variable"
      ],
      "metadata": {
        "id": "76dLgNa4_XAe",
        "colab": {
          "base_uri": "https://localhost:8080/",
          "height": 35
        },
        "outputId": "7a508bd1-86db-471c-ec11-9cfe33d50c3a"
      },
      "execution_count": null,
      "outputs": [
        {
          "output_type": "execute_result",
          "data": {
            "text/plain": [
              "'Micaela de los Sanyos'"
            ],
            "application/vnd.google.colaboratory.intrinsic+json": {
              "type": "string"
            }
          },
          "metadata": {},
          "execution_count": 131
        }
      ]
    },
    {
      "cell_type": "markdown",
      "source": [
        "### [`str.replace(antiguo, nuevo)`](https://docs.python.org/3/library/stdtypes.html#str.replace)\n",
        "\n",
        "Sustituye todas las ocurrencias del texto \"antiguo\" en la string por el  \"nuevo\"."
      ],
      "metadata": {
        "id": "m6notiyS1SCV"
      }
    },
    {
      "cell_type": "code",
      "source": [
        "texto.replace(\"y\",\"t\") # Con la función replace() aplicada a la variable texto, va a reemplazar en este caso la y de la variable texto original por la letra t"
      ],
      "metadata": {
        "id": "PNXAixtE_V6R",
        "colab": {
          "base_uri": "https://localhost:8080/",
          "height": 35
        },
        "outputId": "8e562deb-cba3-4456-f36b-815a3da283c8"
      },
      "execution_count": null,
      "outputs": [
        {
          "output_type": "execute_result",
          "data": {
            "text/plain": [
              "'  Micaela de los Santos '"
            ],
            "application/vnd.google.colaboratory.intrinsic+json": {
              "type": "string"
            }
          },
          "metadata": {},
          "execution_count": 132
        }
      ]
    },
    {
      "cell_type": "code",
      "source": [
        "texto # Se muestra en pantalla la variable texto que es el nombre original"
      ],
      "metadata": {
        "id": "5TTyZX31mN8n",
        "colab": {
          "base_uri": "https://localhost:8080/",
          "height": 35
        },
        "outputId": "986e8894-1332-48fc-a560-63f30cd4df18"
      },
      "execution_count": null,
      "outputs": [
        {
          "output_type": "execute_result",
          "data": {
            "text/plain": [
              "'  Micaela de los Sanyos '"
            ],
            "application/vnd.google.colaboratory.intrinsic+json": {
              "type": "string"
            }
          },
          "metadata": {},
          "execution_count": 133
        }
      ]
    },
    {
      "cell_type": "code",
      "source": [
        "id(texto) # Se muestra en pantalla la dirreción de memoria de la variable texto, y se evidencia que no se a cambio el espacio de memoria"
      ],
      "metadata": {
        "id": "456VbZMemTmD",
        "colab": {
          "base_uri": "https://localhost:8080/"
        },
        "outputId": "96f95d3f-c2f3-4d05-a4e1-ef7e82e478e2"
      },
      "execution_count": null,
      "outputs": [
        {
          "output_type": "execute_result",
          "data": {
            "text/plain": [
              "137763299864816"
            ]
          },
          "metadata": {},
          "execution_count": 134
        }
      ]
    },
    {
      "cell_type": "markdown",
      "source": [
        "### Observaciones\n",
        "\n",
        "1. Los métodos devuelven una **tranformación**, no son ejecutados directamente sobre la variable donde está almacenado el texto.\n",
        "\n",
        "2. Adicionalmente, podemos acumular la ejecución de los métodos."
      ],
      "metadata": {
        "id": "zukvEjhG2Rcn"
      }
    },
    {
      "cell_type": "code",
      "source": [
        "texto # Se muestra en pantalla la variable texto que es el nombre original\n",
        "id(texto) # Se muestra en pantalla la dirreción de memoria de la variable texto, y se evidencia que no se a cambio el espacio de memoria"
      ],
      "metadata": {
        "id": "JjkBRklr_T5n",
        "colab": {
          "base_uri": "https://localhost:8080/"
        },
        "outputId": "ade0a9ff-c5d6-4c4f-f628-662b1632754e"
      },
      "execution_count": null,
      "outputs": [
        {
          "output_type": "execute_result",
          "data": {
            "text/plain": [
              "137763299864816"
            ]
          },
          "metadata": {},
          "execution_count": 135
        }
      ]
    },
    {
      "cell_type": "markdown",
      "source": [
        "Para que la transformación se pueda ejecutar debemos atribuir la salida de las transformaciones a las variables"
      ],
      "metadata": {
        "id": "1KbwfVut2h6I"
      }
    },
    {
      "cell_type": "code",
      "source": [
        "nuevo_texto = texto.strip().replace(\"y\",\"t\").upper() # Se declara una variable que se denomina texto_nuevo que se le aplican las funciones de srtip() que lo que hara es quitar los espacios en blanco, replace() que lo que va a realizar es reemplazar la letra y por la letra t y por ultimo se aplica la función upper() que lo va a realizar es agrandar las letras de la variable texto\n",
        "print(nuevo_texto) # Se imprime la variable denominada nuevo_texto que son las modificaciones realizadas a la variable texto\n",
        "print(id(texto),id(nuevo_texto)) # Se muestra en pantalla la dirección de memoria de la variable texto y la dirección de memoria de la variable nuevo_texto"
      ],
      "metadata": {
        "id": "ocPP-Jaj_SJI",
        "colab": {
          "base_uri": "https://localhost:8080/"
        },
        "outputId": "9963f0d6-c20a-472a-b801-832246665bf6"
      },
      "execution_count": null,
      "outputs": [
        {
          "output_type": "stream",
          "name": "stdout",
          "text": [
            "MICAELA DE LOS SANTOS\n",
            "137763299864816 137763300073264\n"
          ]
        }
      ]
    },
    {
      "cell_type": "code",
      "source": [
        "texto = texto.strip().replace(\"y\",\"t\").upper() # Se declara una variable que se denomina textoque se le aplican las funciones de srtip() que lo que hara es quitar los espacios en blanco, replace() que lo que va a realizar es reemplazar la letra y por la letra t y por ultimo se aplica la función upper() que lo va a realizar es agrandar las letras de la variable texto\n",
        "print(texto) # Se imprime la variable denominada texto que son las modificaciones realizadas a la variable texto\n",
        "print(id(texto),id(nuevo_texto)) # Se muestra en pantalla la dirección de memoria de la variable texto y la dirección de memoria de la variable nuevo_texto"
      ],
      "metadata": {
        "id": "m1RvLGZZ_SP3",
        "colab": {
          "base_uri": "https://localhost:8080/"
        },
        "outputId": "86a8fe35-71d4-4843-a0c8-3cfbdf412eda"
      },
      "execution_count": null,
      "outputs": [
        {
          "output_type": "stream",
          "name": "stdout",
          "text": [
            "MICAELA DE LOS SANTOS\n",
            "137763300073072 137763300073264\n"
          ]
        }
      ]
    },
    {
      "cell_type": "markdown",
      "source": [
        "## Capturando datos\n",
        "\n",
        "En algunas aplicaciones necesitamos capturar los valores del usuario de nuestro proyecto. En python, logramos capturar los datos del usuario a través del comando [`input()`](https://docs.python.org/3/library/functions.html#input).\n",
        "\n",
        "Para ejecutar la captura debemos atribuir el resultado de esta función a una variable."
      ],
      "metadata": {
        "id": "0h9Fh5G9kHCa"
      }
    },
    {
      "cell_type": "code",
      "source": [
        "nombre = input(\"Escribe tu nombre: \") # Se declara una variable denominada nombre que por medio de la función input le va a pedir al usuario que digite un nombre"
      ],
      "metadata": {
        "id": "zbH_9i3q_PdY",
        "colab": {
          "base_uri": "https://localhost:8080/"
        },
        "outputId": "902d5d91-6dce-436e-9c03-20725133a921"
      },
      "execution_count": null,
      "outputs": [
        {
          "name": "stdout",
          "output_type": "stream",
          "text": [
            "Escribe tu nombre: Andrés\n"
          ]
        }
      ]
    },
    {
      "cell_type": "code",
      "source": [
        "type(nombre) # Con la función type se averigua el tipo de dato que es en este caso nombre que da como resultado un dato de tipo string"
      ],
      "metadata": {
        "id": "JZy1Q9Tl_PgL",
        "colab": {
          "base_uri": "https://localhost:8080/"
        },
        "outputId": "f0f8fffa-9ef3-4bd9-cb6f-73953ed2c36f"
      },
      "execution_count": null,
      "outputs": [
        {
          "output_type": "execute_result",
          "data": {
            "text/plain": [
              "str"
            ]
          },
          "metadata": {},
          "execution_count": 139
        }
      ]
    },
    {
      "cell_type": "markdown",
      "source": [
        "La salida de este comando siempre será una *string*. Esto quiere decir que aunque capturemos un valor de variable numérica, este será de tipo string.\n",
        "\n",
        "Entonces, será necesario **convertir el resultado cuando no se desea utilizar el valor como tipo string**."
      ],
      "metadata": {
        "id": "7z7hcLCk_aCY"
      }
    },
    {
      "cell_type": "markdown",
      "source": [
        "Existen funciones para la conversión de valores:\n",
        "\n",
        "- Enteros: [`int(dato_para_conversion)`](https://docs.python.org/3/library/functions.html#int)\n",
        "- Coma flotante: [`float(dato_para_conversion)`](https://docs.python.org/3/library/functions.html#float)\n",
        "- String: [`str(dato_para_conversion)`](https://docs.python.org/3/library/functions.html#func-str)\n",
        "- Booleano: [`bool(dato_para_conversion)`](https://docs.python.org/3/library/functions.html#bool)"
      ],
      "metadata": {
        "id": "TOlegATj1Jfp"
      }
    },
    {
      "cell_type": "code",
      "source": [
        "ano_admision = int(input(\"Escribe tu año de admisión: \")) # Se declara una variable que se denomina ano_admision que por medio de las funciones int que la que va a determinar que sea el valor entero y el input le va a pedir al usuario que digite un año de admisión"
      ],
      "metadata": {
        "id": "M2ueeH6l_NMe",
        "colab": {
          "base_uri": "https://localhost:8080/"
        },
        "outputId": "bdd5afc4-b3ae-4753-c5ee-3124a0f4c30c"
      },
      "execution_count": null,
      "outputs": [
        {
          "name": "stdout",
          "output_type": "stream",
          "text": [
            "Escribe tu año de admisión: 2023\n"
          ]
        }
      ]
    },
    {
      "cell_type": "code",
      "source": [
        "type(ano_admision) # Con la función type se averigua el tipo de dato que es en este caso ano_admision que da como resultado un dato de tipo entero"
      ],
      "metadata": {
        "id": "xfWwuViK_NUn",
        "colab": {
          "base_uri": "https://localhost:8080/"
        },
        "outputId": "8fe3e2b1-d6ed-4ca0-b164-7acb4130d67f"
      },
      "execution_count": null,
      "outputs": [
        {
          "output_type": "execute_result",
          "data": {
            "text/plain": [
              "int"
            ]
          },
          "metadata": {},
          "execution_count": 141
        }
      ]
    },
    {
      "cell_type": "code",
      "source": [
        "nota_admision = float(input(\"Escribe tu nota de admisión: \")) # Se declara una variable que se denomina nota_admision que por medio de las funciones float que la que va a determinar que sea el valor flotante y el input le va a pedir al usuario que digite nota de admisión"
      ],
      "metadata": {
        "id": "NouxutQUpqao",
        "colab": {
          "base_uri": "https://localhost:8080/"
        },
        "outputId": "fcba2d07-b518-4bcc-bfa5-97ad2a564bad"
      },
      "execution_count": null,
      "outputs": [
        {
          "name": "stdout",
          "output_type": "stream",
          "text": [
            "Escribe tu nota de admisión: 9.5\n"
          ]
        }
      ]
    },
    {
      "cell_type": "code",
      "source": [
        "type(nota_admision) # Con la función type se averigua el tipo de dato que es en este caso nota_admision que da como resultado un dato de tipo flotante"
      ],
      "metadata": {
        "id": "PR_bzGKNp8nB",
        "colab": {
          "base_uri": "https://localhost:8080/"
        },
        "outputId": "ca3e8cc2-b6f2-4143-83db-59e3b22395e6"
      },
      "execution_count": null,
      "outputs": [
        {
          "output_type": "execute_result",
          "data": {
            "text/plain": [
              "float"
            ]
          },
          "metadata": {},
          "execution_count": 143
        }
      ]
    },
    {
      "cell_type": "code",
      "source": [
        "ano_salida = int(input(\"Escribe tu año de egreso: \")) # Se declara una variable que se denomina ano_admision que por medio de las funciones int que la que va a determinar que sea el valor entero y el input le va a pedir al usuario que digite un año de salida"
      ],
      "metadata": {
        "id": "eWfLk4eSo1d_",
        "colab": {
          "base_uri": "https://localhost:8080/"
        },
        "outputId": "ffdcfbde-c3d6-4e6d-898f-c288a906cc74"
      },
      "execution_count": null,
      "outputs": [
        {
          "name": "stdout",
          "output_type": "stream",
          "text": [
            "Escribe tu año de egreso: 2024\n"
          ]
        }
      ]
    },
    {
      "cell_type": "code",
      "source": [
        "type(ano_salida) # Con la función type se averigua el tipo de dato que es en este caso ano_salida que da como resultado un dato de tipo entero"
      ],
      "metadata": {
        "id": "uFCHDyew_NZm",
        "colab": {
          "base_uri": "https://localhost:8080/"
        },
        "outputId": "d7dab0f1-de9b-4c32-84db-a004a27b63d9"
      },
      "execution_count": null,
      "outputs": [
        {
          "output_type": "execute_result",
          "data": {
            "text/plain": [
              "int"
            ]
          },
          "metadata": {},
          "execution_count": 145
        }
      ]
    },
    {
      "cell_type": "code",
      "source": [
        "ano_admision + ano_salida # Se muestra en pantalla la suma de los dos años tanto el ano_admision más el ano_salida"
      ],
      "metadata": {
        "id": "ye69hos4pZDU",
        "colab": {
          "base_uri": "https://localhost:8080/"
        },
        "outputId": "d5c7b40d-1053-4dfd-b8e7-4e99e2e0cf24"
      },
      "execution_count": null,
      "outputs": [
        {
          "output_type": "execute_result",
          "data": {
            "text/plain": [
              "4047"
            ]
          },
          "metadata": {},
          "execution_count": 146
        }
      ]
    },
    {
      "cell_type": "markdown",
      "source": [
        "Trataremos de representar mejor ahora el resultado de la transformación que obtuvimos. Nosotros podemos formatear y presentar nuestro resultado mezclando strings con valores no textuales.\n",
        "\n",
        "Para ello utilizamos la estructura de formatación `f` con strings."
      ],
      "metadata": {
        "id": "yNI2-XTbB3aS"
      }
    },
    {
      "cell_type": "code",
      "source": [
        "print(f'\\tEl año de admisión es: {ano_admision} \\n\\tLa nota de admisión fue: {nota_admision}') # Se imprime los mensajes, pero se llaman los valores de las variables de ano_admision y nota_admision"
      ],
      "metadata": {
        "id": "keJjA5N9_K5i",
        "colab": {
          "base_uri": "https://localhost:8080/"
        },
        "outputId": "675d3927-44b5-4da6-a1a2-1e9ef80b5b3b"
      },
      "execution_count": null,
      "outputs": [
        {
          "output_type": "stream",
          "name": "stdout",
          "text": [
            "\tEl año de admisión es: 2023 \n",
            "\tLa nota de admisión fue: 9.5\n"
          ]
        }
      ]
    },
    {
      "cell_type": "code",
      "source": [
        "nombre = input(\"Escribe tu nombre: \") # Se declara una variable denominada nombre que por medio de la función input le va a pedir al usuario que digite un nombre\n",
        "print(f'Hola,{nombre}') # Se imprime el mensaje, pero adicionalmente se llama el valor de la variable nombre"
      ],
      "metadata": {
        "id": "i6Oih3FJr1_S",
        "colab": {
          "base_uri": "https://localhost:8080/"
        },
        "outputId": "26f0f17d-0edb-44b0-8b45-8fb4f39657d7"
      },
      "execution_count": null,
      "outputs": [
        {
          "output_type": "stream",
          "name": "stdout",
          "text": [
            "Escribe tu nombre: Andrés\n",
            "Hola,Andrés\n"
          ]
        }
      ]
    },
    {
      "cell_type": "code",
      "source": [
        "nombre = input(\"Escribe tu nombre:\") # Se declara una variable denominada nombre que por medio de la función input le va a pedir al usuario que digite un nombre\n",
        "edad = int(input(\"Escribe tu edad:\")) # Se declara una variable denominada edad que por medio de las funciones int que va a establecer ese valor como un valor de tipo entero y la función input le va a pedir al usuario que digite un edad\n",
        "print(f'Hola {nombre}, tu edad es {edad}') # Se imprimen los mensajes, pero adicionalmente se llaman los valores de nombre y edad"
      ],
      "metadata": {
        "id": "FBtJKocDsfk5",
        "colab": {
          "base_uri": "https://localhost:8080/"
        },
        "outputId": "24cf6f19-b0c6-4d7a-be88-2d0333a8d0f1"
      },
      "execution_count": null,
      "outputs": [
        {
          "output_type": "stream",
          "name": "stdout",
          "text": [
            "Escribe tu nombre:Andrés\n",
            "Escribe tu edad:23\n",
            "Hola Andrés, tu edad es 23\n"
          ]
        }
      ]
    },
    {
      "cell_type": "code",
      "source": [
        "nombre = input(\"Escribe tu nombre:\") # Se declara una variable denominada nombre que por medio de la función input le va a pedir al usuario que digite un nombre\n",
        "edad = int(input(\"Escribe tu edad:\")) # Se declara una variable denominada edad que por medio de las funciones int que va a establecer ese valor como un valor de tipo entero y la función input le va a pedir al usuario que digite un edad\n",
        "altura = float(input(\"Escribe tu altura:\")) # Se declara una variable denominada altura que por medio de las funciones float que va a establecer ese valor como un valor de tipo flotante y la función input le va a pedir al usuario que digite una altura\n",
        "print(f'Hola {nombre}, tu edad es {edad} y tu altura es {altura}') # Se imprime los mensajes, pero adicionalmente se laman los valores de nombre, edad y altura"
      ],
      "metadata": {
        "id": "lOKCbB9ts175",
        "colab": {
          "base_uri": "https://localhost:8080/"
        },
        "outputId": "29e69122-7614-4b42-e946-5495bfcc34de"
      },
      "execution_count": null,
      "outputs": [
        {
          "output_type": "stream",
          "name": "stdout",
          "text": [
            "Escribe tu nombre:Andrés\n",
            "Escribe tu edad:23\n",
            "Escribe tu altura:1.70\n",
            "Hola Andrés, tu edad es 23 y tu altura es 1.7\n"
          ]
        }
      ]
    },
    {
      "cell_type": "code",
      "source": [
        "numero_uno = int(input(\"Escribe primer número:\")) # Se declara una variable denominada numero_uno que por medio de las funciones int que va a establecer ese valor como un valor de tipo entero y la función input le va a pedir al usuario que digite el primer número\n",
        "numero_dos = int(input(\"Escribe segundo número:\")) # Se declara una variable denominada numero_dos que por medio de las funciones int que va a establecer ese valor como un valor de tipo entero y la función input le va a pedir al usuario que digite el segundo número\n",
        "print(f'La suma de {numero_uno} y {numero_dos} es {numero_uno + numero_dos}') # Se imprime los mensajes, pero adicionalmente se llaman los valores del numero_uno y numero_dos y la suma de los dos números"
      ],
      "metadata": {
        "id": "6yaOxO93s2-O",
        "colab": {
          "base_uri": "https://localhost:8080/"
        },
        "outputId": "3944907d-00cc-43fa-e11a-1fe2adf1ea5c"
      },
      "execution_count": null,
      "outputs": [
        {
          "output_type": "stream",
          "name": "stdout",
          "text": [
            "Escribe primer número:2\n",
            "Escribe segundo número:2\n",
            "La suma de 2 y 2 es 4\n"
          ]
        }
      ]
    },
    {
      "cell_type": "code",
      "source": [
        "numero_uno = int(input(\"Escribe primer número:\")) # Se declara una variable denominada numero_uno que por medio de las funciones int que va a establecer ese valor como un valor de tipo entero y la función input le va a pedir al usuario que digite el primer número\n",
        "numero_dos = int(input(\"Escribe segundo número:\")) # Se declara una variable denominada numero_dos que por medio de las funciones int que va a establecer ese valor como un valor de tipo entero y la función input le va a pedir al usuario que digite el segundo número\n",
        "numero_tres = int(input(\"Escribe tercer número:\")) # Se declara una variable denominada numero_tres que por medio de las funciones int que va a establecer ese valor como un valor de tipo entero y la función input le va a pedir al usuario que digite el tercer número\n",
        "print(f'La suma de {numero_uno} y {numero_dos} y {numero_tres} es {numero_uno + numero_dos + numero_tres}') # Se imprime los mensajes, pero adicionalmente se llaman los valores del numero_uno, numero_dos, numero_tres y la suma de los tres números"
      ],
      "metadata": {
        "id": "2KJ39OKfth_R",
        "colab": {
          "base_uri": "https://localhost:8080/"
        },
        "outputId": "b3cf382d-f8bf-4b65-eb83-dd5bb841af77"
      },
      "execution_count": null,
      "outputs": [
        {
          "output_type": "stream",
          "name": "stdout",
          "text": [
            "Escribe primer número:2\n",
            "Escribe segundo número:2\n",
            "Escribe tercer número:2\n",
            "La suma de 2 y 2 y 2 es 6\n"
          ]
        }
      ]
    },
    {
      "cell_type": "code",
      "source": [
        "numero_uno = int(input(\"Escribe primer número:\")) # Se declara una variable denominada numero_uno que por medio de las funciones int que va a establecer ese valor como un valor de tipo entero y la función input le va a pedir al usuario que digite el primer número\n",
        "numero_dos = int(input(\"Escribe segundo número:\")) # Se declara una variable denominada numero_dos que por medio de las funciones int que va a establecer ese valor como un valor de tipo entero y la función input le va a pedir al usuario que digite el segundo número\n",
        "print(f'La resta de {numero_uno} y {numero_dos} es {numero_uno - numero_dos}') # Se imprime los mensajes, pero adicionalmente se llaman los valores del numero_uno y numero_dos y la resta de los dos números"
      ],
      "metadata": {
        "id": "1Rj2-Y8Us3Te",
        "colab": {
          "base_uri": "https://localhost:8080/"
        },
        "outputId": "2da44e4c-d32a-41b5-a67b-a2d05aa31e71"
      },
      "execution_count": null,
      "outputs": [
        {
          "output_type": "stream",
          "name": "stdout",
          "text": [
            "Escribe primer número:2\n",
            "Escribe segundo número:2\n",
            "La resta de 2 y 2 es 0\n"
          ]
        }
      ]
    },
    {
      "cell_type": "code",
      "source": [
        "numero_uno = int(input(\"Escribe primer número:\")) # Se declara una variable denominada numero_uno que por medio de las funciones int que va a establecer ese valor como un valor de tipo entero y la función input le va a pedir al usuario que digite el primer número\n",
        "numero_dos = int(input(\"Escribe segundo número:\")) # Se declara una variable denominada numero_dos que por medio de las funciones int que va a establecer ese valor como un valor de tipo entero y la función input le va a pedir al usuario que digite el segundo número\n",
        "print(f'La multiplicación de {numero_uno} y {numero_dos} es {numero_uno * numero_dos}') # Se imprime los mensajes, pero adicionalmente se llaman los valores del numero_uno y numero_dos y la multiplicación de los dos números"
      ],
      "metadata": {
        "id": "I3HEgTpwt4Bc",
        "colab": {
          "base_uri": "https://localhost:8080/"
        },
        "outputId": "d41863db-ff02-45ac-9768-271ce337c6fc"
      },
      "execution_count": null,
      "outputs": [
        {
          "output_type": "stream",
          "name": "stdout",
          "text": [
            "Escribe primer número:2\n",
            "Escribe segundo número:2\n",
            "La multiplicación de 2 y 2 es 4\n"
          ]
        }
      ]
    },
    {
      "cell_type": "code",
      "source": [
        "numero_uno = int(input(\"Escribe primer número:\")) # Se declara una variable denominada numero_uno que por medio de las funciones int que va a establecer ese valor como un valor de tipo entero y la función input le va a pedir al usuario que digite el primer número\n",
        "numero_dos = int(input(\"Escribe segundo número:\")) # Se declara una variable denominada numero_dos que por medio de las funciones int que va a establecer ese valor como un valor de tipo entero y la función input le va a pedir al usuario que digite el segundo número\n",
        "print(f'La división de {numero_uno} y {numero_dos} es {numero_uno / numero_dos}') # Se imprime los mensajes, pero adicionalmente se llaman los valores del numero_uno y numero_dos y la división con decimales de los dos números"
      ],
      "metadata": {
        "id": "CPL54Hh8uVUU",
        "colab": {
          "base_uri": "https://localhost:8080/"
        },
        "outputId": "8d8daf8b-51fa-4c1f-d52f-8fed6aed5ae4"
      },
      "execution_count": null,
      "outputs": [
        {
          "output_type": "stream",
          "name": "stdout",
          "text": [
            "Escribe primer número:2\n",
            "Escribe segundo número:2\n",
            "La división de 2 y 2 es 1.0\n"
          ]
        }
      ]
    },
    {
      "cell_type": "code",
      "source": [
        "operador = int(input(\"Escribe primer número:\")) # Se declara una variable denominada numero_uno que por medio de las funciones int que va a establecer ese valor como un valor de tipo entero y la función input le va a pedir al usuario que digite el primer número que va a ser el operador\n",
        "potencia = int(input(\"Escribe segundo número:\")) # Se declara una variable denominada numero_dos que por medio de las funciones int que va a establecer ese valor como un valor de tipo entero y la función input le va a pedir al usuario que digite el segundo número que va a ser la potencia\n",
        "print(f'La potencia de {operador} elevado a {potencia} es {operador ** potencia}') # Se imprime los mensajes, pero adicionalmente se llaman los valores del numero_uno y numero_dos y la potencialización de los dos números"
      ],
      "metadata": {
        "id": "CIfJ3ON8uebY",
        "colab": {
          "base_uri": "https://localhost:8080/"
        },
        "outputId": "7aefcfee-a698-43b8-b974-a58ae3a5fe68"
      },
      "execution_count": null,
      "outputs": [
        {
          "output_type": "stream",
          "name": "stdout",
          "text": [
            "Escribe primer número:2\n",
            "Escribe segundo número:2\n",
            "La potencia de 2 elevado a 2 es 4\n"
          ]
        }
      ]
    },
    {
      "cell_type": "code",
      "source": [
        "numero_uno = int(input(\"Escribe primer número:\")) # Se declara una variable denominada numero_uno que por medio de las funciones int que va a establecer ese valor como un valor de tipo entero y la función input le va a pedir al usuario que digite el primer número\n",
        "numero_dos = int(input(\"Escribe segundo número:\")) # Se declara una variable denominada numero_dos que por medio de las funciones int que va a establecer ese valor como un valor de tipo entero y la función input le va a pedir al usuario que digite el segundo número\n",
        "print(f'La división de {numero_uno} y {numero_dos} es {numero_uno // numero_dos}') # Se imprime los mensajes, pero adicionalmente se llaman los valores del numero_uno y numero_dos y la división con valor entero de los dos números"
      ],
      "metadata": {
        "id": "OW0vIQ1GuuBC",
        "colab": {
          "base_uri": "https://localhost:8080/"
        },
        "outputId": "3641a963-ff20-40d6-ec0b-789d28c2f544"
      },
      "execution_count": null,
      "outputs": [
        {
          "output_type": "stream",
          "name": "stdout",
          "text": [
            "Escribe primer número:2\n",
            "Escribe segundo número:2\n",
            "La división de 2 y 2 es 1\n"
          ]
        }
      ]
    },
    {
      "cell_type": "code",
      "source": [
        "nota_uno = int(input(\"Escribe primer nota:\")) # Se declara una variable denominada nota_uno que por medio de las funciones int que va a establecer ese valor como un valor de tipo entero y la función input le va a pedir al usuario que digite la primera nota\n",
        "nota_dos = int(input(\"Escribe segunda nota:\")) # Se declara una variable denominada nota_dos que por medio de las funciones int que va a establecer ese valor como un valor de tipo entero y la función input le va a pedir al usuario que digite la segunda nota\n",
        "nota_tres = int(input(\"Escribe tercer nota:\")) # Se declara una variable denominada nota_tres que por medio de las funciones int que va a establecer ese valor como un valor de tipo entero y la función input le va a pedir al usuario que digite la tercera nota\n",
        "print(f'El promedio de las notas es {(nota_uno + nota_dos + nota_tres) / 3}') # Se imprime los mensajes, pero adicionalmente se llama el valor del promedio de las tres notas que es la suma de las tres notas dividido entre 3"
      ],
      "metadata": {
        "id": "9PCPQs2MvaRS",
        "colab": {
          "base_uri": "https://localhost:8080/"
        },
        "outputId": "782533b1-9104-4de8-e585-a8d76ee42295"
      },
      "execution_count": null,
      "outputs": [
        {
          "output_type": "stream",
          "name": "stdout",
          "text": [
            "Escribe primer nota:2\n",
            "Escribe segunda nota:2\n",
            "Escribe tercer nota:2\n",
            "El promedio de las notas es 2.0\n"
          ]
        }
      ]
    },
    {
      "cell_type": "code",
      "source": [
        "numero_uno = 5 # Se establece la variable denominada numero_uno que va a almacenar el valor de 5\n",
        "numero_dos = 12 # Se establece la variable denominada numero_dos que va a almacenar el valor de 12\n",
        "numero_tres = 20 # Se establece la variable denominada numero_tres que va a almacenar el valor de 20\n",
        "numero_cuatro = 15 # Se establece la variable denominada numero_cuatro que va a almacenar el valor de 15\n",
        "peso_uno = 1 # Se establece la variable denominada peso_uno que va a almacenar el valor de 1 que va a ser el peso del numero_uno\n",
        "peso_dos = 2 # Se establece la variable denominada peso_dos que va a almacenar el valor de 2 que va a ser el peso del numero_dos\n",
        "peso_tres = 3 # Se establece la variable denominada peso_tres que va a almacenar el valor de 3 que va a ser el peso del numero_tres\n",
        "peso_cuatro = 4 # Se establece la variable denominada peso_cuatro que va a almacenar el valor de 4 que va a ser el peso del numero_cuatro\n",
        "print(f'El promedio ponderado de las notas es {(numero_uno * peso_uno + numero_dos * peso_dos + numero_tres * peso_tres + numero_cuatro * peso_cuatro) / (peso_uno + peso_dos + peso_tres + peso_cuatro)}') # Se imprime los mensajes, que se denomina con la expresión la suma de los números y esto multiplicado por el peso de cada uno, y por supuesto dividido entre la suma de los números"
      ],
      "metadata": {
        "id": "s1vsUzMKvrk_",
        "colab": {
          "base_uri": "https://localhost:8080/"
        },
        "outputId": "e2ee08f1-8a37-437e-acd9-dcf3cfe15a21"
      },
      "execution_count": null,
      "outputs": [
        {
          "output_type": "stream",
          "name": "stdout",
          "text": [
            "El promedio ponderado de las notas es 14.9\n"
          ]
        }
      ]
    },
    {
      "cell_type": "code",
      "source": [
        "frase = \"Amo Alura Latam\" # Se declara una variable denominada frase que se va a declarar una frase que es Amo Alura Latam\n",
        "print(frase) # Se imprime en pantalla el valor que almacena la variable frase"
      ],
      "metadata": {
        "id": "nkJzDQxqwErp",
        "colab": {
          "base_uri": "https://localhost:8080/"
        },
        "outputId": "ade7e555-dfbb-421a-a4a4-a5792360f626"
      },
      "execution_count": null,
      "outputs": [
        {
          "output_type": "stream",
          "name": "stdout",
          "text": [
            "Amo Alura Latam\n"
          ]
        }
      ]
    },
    {
      "cell_type": "code",
      "source": [
        "frase = input(\"Escribe una frase:\") # Se declara una variable denominada frase que por medio de la función input se va a pedir al usuario que digite una frase\n",
        "print(frase) # Se imprime en pantalla el valor que almacena la variable frase"
      ],
      "metadata": {
        "id": "LzvDZoL6wFEe",
        "colab": {
          "base_uri": "https://localhost:8080/"
        },
        "outputId": "726f9b19-59ca-46d2-edc6-258c8e63faf8"
      },
      "execution_count": null,
      "outputs": [
        {
          "output_type": "stream",
          "name": "stdout",
          "text": [
            "Escribe una frase:Amo Alura Latam\n",
            "Amo Alura Latam\n"
          ]
        }
      ]
    },
    {
      "cell_type": "code",
      "source": [
        "frase = input(\"Escribe una frase:\") # Se declara una variable denominada frase que por medio de la función input se va a pedir al usuario que digite una frase\n",
        "print(f\"La frase es: {frase.upper()}\") # Se imprime en pantalla el valor que almacena la variable frase, pero se utiliza la función upper() para agrandar las letras que componen la variable frase"
      ],
      "metadata": {
        "id": "yerQw0anwM70",
        "colab": {
          "base_uri": "https://localhost:8080/"
        },
        "outputId": "222e83e6-c984-4a80-a9cf-b8a183753ac0"
      },
      "execution_count": null,
      "outputs": [
        {
          "output_type": "stream",
          "name": "stdout",
          "text": [
            "Escribe una frase:Amo Alura Latam\n",
            "La frase es: AMO ALURA LATAM\n"
          ]
        }
      ]
    },
    {
      "cell_type": "code",
      "source": [
        "frase = input(\"Escribe una frase:\") # Se declara una variable denominada frase que por medio de la función input se va a pedir al usuario que digite una frase\n",
        "print(f\"La frase es: {frase.lower()}\") # Se imprime en pantalla el valor que almacena la variable frase, pero se utiliza la función lower() para disminuir las letras que componen la variable frase"
      ],
      "metadata": {
        "id": "C9or4IAUwNTt",
        "colab": {
          "base_uri": "https://localhost:8080/"
        },
        "outputId": "5c120490-a149-4548-e966-17bd9dca91fb"
      },
      "execution_count": null,
      "outputs": [
        {
          "output_type": "stream",
          "name": "stdout",
          "text": [
            "Escribe una frase:Amo Alura Latam\n",
            "La frase es: amo alura latam\n"
          ]
        }
      ]
    },
    {
      "cell_type": "code",
      "source": [
        "frase = \"    Amo Alura Latam    \" # Se declara una variable denominada frase que se va a declarar una frase que es Amo Alura Latam\n",
        "print(frase.strip()) # Se imprime en pantalla el valor que almacena la variable frase, pero se utiliza la función strip() que va a quitar los espacios en blanco que componen la variable frase"
      ],
      "metadata": {
        "id": "7xlXeHRlwkYf",
        "colab": {
          "base_uri": "https://localhost:8080/"
        },
        "outputId": "538fabee-16d7-4db2-cc3c-7d55ae18c361"
      },
      "execution_count": null,
      "outputs": [
        {
          "output_type": "stream",
          "name": "stdout",
          "text": [
            "Amo Alura Latam\n"
          ]
        }
      ]
    },
    {
      "cell_type": "code",
      "source": [
        "frase = input(\"Escribe una frase:\") # Se declara una variable denominada frase que por medio de la función input se va a pedir al usuario que digite una frase\n",
        "print(f\"La frase es: {frase.strip()}\") # Se imprime en pantalla el valor que almacena la variable frase, pero se utiliza la función strip() que va a quitar los espacios en blanco que componen la variable frase"
      ],
      "metadata": {
        "id": "a9q1g0kjwklT",
        "colab": {
          "base_uri": "https://localhost:8080/"
        },
        "outputId": "10d6ae4e-f5f4-4f9e-a699-8fe1ba86504e"
      },
      "execution_count": null,
      "outputs": [
        {
          "output_type": "stream",
          "name": "stdout",
          "text": [
            "Escribe una frase:            Amo Alura Latam      \n",
            "La frase es: Amo Alura Latam\n"
          ]
        }
      ]
    },
    {
      "cell_type": "code",
      "source": [
        "frase = input(\"Escribe una frase:\") # Se declara una variable denominada frase que por medio de la función input se va a pedir al usuario que digite una frase\n",
        "print(f\"La frase es: {frase.replace('e','f')}\") # Se imprime en pantalla el valor que almacena la variable frase, pero se utiliza la función replace() que va a reemplazar la letra e por la letra f que componen la variable frase"
      ],
      "metadata": {
        "id": "UTPwINWow37Z",
        "colab": {
          "base_uri": "https://localhost:8080/"
        },
        "outputId": "84353eef-2b09-46da-9268-23089bba17d5"
      },
      "execution_count": null,
      "outputs": [
        {
          "output_type": "stream",
          "name": "stdout",
          "text": [
            "Escribe una frase:Data Science\n",
            "La frase es: Data Scifncf\n"
          ]
        }
      ]
    },
    {
      "cell_type": "code",
      "source": [
        "frase = input(\"Escribe una frase:\") # Se declara una variable denominada frase que por medio de la función input se va a pedir al usuario que digite una frase\n",
        "print(f\"La frase es: {frase.replace('a','@')}\") # Se imprime en pantalla el valor que almacena la variable frase, pero se utiliza la función replace() que va a reemplazar la letra a por la letra @ que componen la variable frase"
      ],
      "metadata": {
        "id": "EwAEiBxjxBUM",
        "colab": {
          "base_uri": "https://localhost:8080/"
        },
        "outputId": "5189d014-8a9b-43b0-9159-65f56360c700"
      },
      "execution_count": null,
      "outputs": [
        {
          "output_type": "stream",
          "name": "stdout",
          "text": [
            "Escribe una frase:Amo Alura Latam\n",
            "La frase es: Amo Alur@ L@t@m\n"
          ]
        }
      ]
    },
    {
      "cell_type": "code",
      "source": [
        "frase = input(\"Escribe una frase:\") # Se declara una variable denominada frase que por medio de la función input se va a pedir al usuario que digite una frase\n",
        "print(f\"La frase es: {frase.replace('s','$')}\") # Se imprime en pantalla el valor que almacena la variable frase, pero se utiliza la función replace() que va a reemplazar la letra s por la letra $ que componen la variable frase"
      ],
      "metadata": {
        "id": "QGefOdC6xWCV",
        "colab": {
          "base_uri": "https://localhost:8080/"
        },
        "outputId": "71257f89-7677-44e2-93e3-b86a9cd1cc31"
      },
      "execution_count": null,
      "outputs": [
        {
          "output_type": "stream",
          "name": "stdout",
          "text": [
            "Escribe una frase:Los programadores son increibles\n",
            "La frase es: Lo$ programadore$ $on increible$\n"
          ]
        }
      ]
    },
    {
      "cell_type": "markdown",
      "source": [
        "# Estructuras condicionales"
      ],
      "metadata": {
        "id": "NwRaiHHHhhyl"
      }
    },
    {
      "cell_type": "code",
      "source": [
        "# Nota de aprobación entre 7 y 10 == nota de aprobación >= 7\n",
        "# Nota de reaprobación es menor a 7 == nota de reaprobación < 7\n",
        "\n",
        "\"\"\"\n",
        "Si la nota es mayor o igual a 7 entonces el estudiante aprueba\n",
        "Si no, entonces el estudiante reprueba\n",
        "\"\"\""
      ],
      "metadata": {
        "id": "pa4gLncu-mvU",
        "colab": {
          "base_uri": "https://localhost:8080/",
          "height": 35
        },
        "outputId": "f01be028-eb1f-48ca-b3f7-001709b84cb5"
      },
      "execution_count": null,
      "outputs": [
        {
          "output_type": "execute_result",
          "data": {
            "text/plain": [
              "'\\nSi la nota es mayor o igual a 7 entonces el estudiante aprueba\\nSi no, entonces el estudiante reprueba\\n'"
            ],
            "application/vnd.google.colaboratory.intrinsic+json": {
              "type": "string"
            }
          },
          "metadata": {},
          "execution_count": 169
        }
      ]
    },
    {
      "cell_type": "markdown",
      "source": [
        "## `IF` y `ELSE`\n",
        "\n",
        "Los comandos `if` y `else` son dos estructuras condicionales. El comando `if` ejecutará el bloque de comandos en caso de que la condición citada sea  **verdadera**. El comando `else` ejecutará el bloque de comandos en el caso de que la condicional de `if` sea **falsa**."
      ],
      "metadata": {
        "id": "qXZqg9aYEhAh"
      }
    },
    {
      "cell_type": "markdown",
      "source": [
        "El comando `if` es una palabra clave en Python que significa \"si\". Este se emplea para conformar la estructura condicional, que te permite verificar si una determinada condición es verdadera o falsa e, inmediatamente después, ejecute un bloque de código específico dependiendo del resultado de la verificación. La sintaxis para usar el comando `if` es:\n",
        "\n",
        "\n",
        "\n",
        "```\n",
        "if condicion:\n",
        "    # Realiza algo\n",
        "```\n",
        "\n"
      ],
      "metadata": {
        "id": "EIhlqHXd2Gil"
      }
    },
    {
      "cell_type": "code",
      "source": [
        "if 2 < 7: # Se declara una condicional que determina que 2 es menor que 7\n",
        "  print(\"La condición es verdadera\") # Si se cumple lo anterior se ejecuta esto que va a imprimir en pantalla el mensaje"
      ],
      "metadata": {
        "id": "S2S6XAFz-czM",
        "colab": {
          "base_uri": "https://localhost:8080/"
        },
        "outputId": "2f981c81-0200-46d0-a004-0d3145258483"
      },
      "execution_count": null,
      "outputs": [
        {
          "output_type": "stream",
          "name": "stdout",
          "text": [
            "La condición es verdadera\n"
          ]
        }
      ]
    },
    {
      "cell_type": "code",
      "source": [
        "if 2 > 7: # Se declara una condicional que determina que 2 es mayor que 7\n",
        "  print(\"La condición es verdadera\") # Si se cumple lo anterior se ejecuta esto que va a imprimir en pantalla el mensaje, en este caso no se ejecuta este mensaje\n",
        "print(\"La condición es falsa\") # Se imprime el mensaje independientemente de que se cumpla o no la condición\n",
        "print(\"Fin de la consulta\") # Se imprime el mensaje independientemente de que se cumpla o no la condición"
      ],
      "metadata": {
        "id": "YHkwMMyY-c1r",
        "colab": {
          "base_uri": "https://localhost:8080/"
        },
        "outputId": "ff702925-0ab4-410e-e434-c714e1c346ed"
      },
      "execution_count": null,
      "outputs": [
        {
          "output_type": "stream",
          "name": "stdout",
          "text": [
            "La condición es falsa\n",
            "Fin de la consulta\n"
          ]
        }
      ]
    },
    {
      "cell_type": "markdown",
      "source": [
        "Ya el comando `else` en Python se usa en junción con la palabra clave `if` para formar una estructura condicional. la sintaxis para usar el `else` es:\n",
        "\n",
        "```\n",
        "if condicion:\n",
        "  # codigo en caso de que sea verdad\n",
        "else:\n",
        "  # codigo en caso de que sea falso\n",
        "```\n",
        "\n",
        "el comando `else` se ejecuta cuando la condición verificada por el `if` es evaluada como `False`."
      ],
      "metadata": {
        "id": "27RW2v_sIKct"
      }
    },
    {
      "cell_type": "code",
      "source": [
        "if 2 > 7: # Se declara una condicional que determina que 2 es mayor que 7\n",
        "  print(\"La condición es verdadera\") # Si se cumple lo anterior se ejecuta esto que va a imprimir en pantalla el mensaje, en este caso no se ejecuta este mensaje\n",
        "else: # Sino se cumple la condición establecida se determina que 2 es menor que 7\n",
        "  print(\"La condición es falsa\") # Si se cumple lo anterior se ejecuta esto que va a imprimir en pantalla el mensaje\n",
        "print(\"Fin de la consulta\") # Se imprime el mensaje independientemente de que se cumpla o no la condición"
      ],
      "metadata": {
        "id": "ZTfNJd_f-aOq",
        "colab": {
          "base_uri": "https://localhost:8080/"
        },
        "outputId": "49f29a23-35f3-490a-91dc-f0f74c2de588"
      },
      "execution_count": null,
      "outputs": [
        {
          "output_type": "stream",
          "name": "stdout",
          "text": [
            "La condición es falsa\n",
            "Fin de la consulta\n"
          ]
        }
      ]
    },
    {
      "cell_type": "markdown",
      "source": [
        "---\n",
        "**Situación:**\n",
        "\n",
        "Recibiremos el promedio de la nota de los estudiantes y necesitamos de un algoritmo que ejecute el análisis y determine si el estudiante fue **Aprobado** o **Reprobado**, mostrando un mensaje del resultado. Para ser aprobado, el promedio necesita ser igual o superior a 7.0."
      ],
      "metadata": {
        "id": "BqORg85XX-Nl"
      }
    },
    {
      "cell_type": "code",
      "source": [
        "nota = float(input(\"Escribe tu nota:\")) # Se declara una variable que se denomina nota que por medio de las funciones float que va a establecer ese valor como un valor de tipo flotante y la función input le va a pedir al usuario que digite una nota\n",
        "if nota >= 7: # Se declara una condicional que determina que la variable que es en este caso nota sea mayor o igual a 7\n",
        "  print(\"Aprobado\") # Si se cumple lo anterior se ejecuta esto que va a imprimir en pantalla el mensaje\n",
        "else: # Se declara por lo tanto la condicional que determina que la variable que es en este caso nota sea menor a 7\n",
        "  print(\"Reprobado\") # Si se cumple lo anterior se ejecuta esto que va a imprimir en pantalla el mensaje"
      ],
      "metadata": {
        "id": "UukCN4AQ-YYW",
        "colab": {
          "base_uri": "https://localhost:8080/"
        },
        "outputId": "11ebb193-9428-4587-f1ae-cf6e608a846b"
      },
      "execution_count": null,
      "outputs": [
        {
          "output_type": "stream",
          "name": "stdout",
          "text": [
            "Escribe tu nota:8\n",
            "Aprobado\n"
          ]
        }
      ]
    },
    {
      "cell_type": "markdown",
      "source": [
        "Ahora, nuestra institución educativa estableció que las personas que tengan el promedio entre 5.0 y 7.0 pueden participar del curso de **Recuperación** durante las vacaciones para lograr aprobar.\n",
        "\n",
        "Entonces podemos apoyarnos en un conjunto de `if`s para poder estructurar esta nueva condición."
      ],
      "metadata": {
        "id": "bD9O17HB6LUo"
      }
    },
    {
      "cell_type": "code",
      "source": [
        "nota = float(input(\"Escribe tu nota:\")) # Se declara una variable que se denomina nota que por medio de las funciones float que va a establecer ese valor como un valor de tipo flotante y la función input le va a pedir al usuario que digite una nota\n",
        "if nota >= 7: # Se declara una condicional que determina que la variable que es en este caso nota sea mayor o igual a 7\n",
        "  print(\"Aprobado\") # Si se cumple lo anterior se ejecuta esto que va a imprimir en pantalla el mensaje\n",
        "if 7 > nota >= 5: # Se declara una condicional que determina que la variable que es en este caso nota este en un intervalo de menor a 7 hasta que sea igual a 5\n",
        "    print(\"Recuperación\") # Si se cumple lo anterior se ejecuta esto que va a imprimir en pantalla el mensaje\n",
        "if nota < 5: # Se declara una condicional que determina que la variable en este caso nota que sea menor a 5\n",
        "    print(\"Reprobado\") # Si se cumple lo anterior se ejecuta esto que va a imprimir en pantalla el mensaje"
      ],
      "metadata": {
        "id": "G9cJ5O9--W52",
        "colab": {
          "base_uri": "https://localhost:8080/"
        },
        "outputId": "b133b666-f75f-4fcd-9803-75bb14d40264"
      },
      "execution_count": null,
      "outputs": [
        {
          "output_type": "stream",
          "name": "stdout",
          "text": [
            "Escribe tu nota:4\n",
            "Reprobado\n"
          ]
        }
      ]
    },
    {
      "cell_type": "markdown",
      "source": [
        "Observa que en casos con 3 situaciones como este necesitamos definir bien nuestras condiciones. Pues, si realizamos una condición con `else` al final, este irá a considerar solamente la condición `if` inmediatamente anterior para generar la salida en caso de que el resultado de su operación lógica sea **falso** dando como resultado, dos o más ejecuciones.\n",
        "\n",
        "Por ejemplo:"
      ],
      "metadata": {
        "id": "D5e2mByjvycO"
      }
    },
    {
      "cell_type": "code",
      "source": [
        "nota = float(input(\"Escribe tu nota:\")) # Se declara una variable que se denomina nota que por medio de las funciones float que va a establecer ese valor como un valor de tipo flotante y la función input le va a pedir al usuario que digite una nota\n",
        "if nota >= 7: # Se declara una condicional que determina que la variable que es en este caso nota sea mayor o igual a 7\n",
        "  print(\"Aprobado\") # Si se cumple lo anterior se ejecuta esto que va a imprimir en pantalla el mensaje\n",
        "if 7 > nota >= 5: # Se declara una condicional que determina que la variable que es en este caso nota este en un intervalo de menor a 7 hasta que sea igual a 5\n",
        "    print(\"Recuperación\") # Si se cumple lo anterior se ejecuta esto que va a imprimir en pantalla el mensaje\n",
        "else: # Se declara una condicional que determina que la variable en este caso nota que sea menor a 5\n",
        "    print(\"Reprobado\") # Si se cumple lo anterior se ejecuta esto que va a imprimir en pantalla el mensaje"
      ],
      "metadata": {
        "id": "C21JmOuK-VU8",
        "colab": {
          "base_uri": "https://localhost:8080/"
        },
        "outputId": "38cf6bcc-26c5-4e1c-ad84-bf20d046e11b"
      },
      "execution_count": null,
      "outputs": [
        {
          "output_type": "stream",
          "name": "stdout",
          "text": [
            "Escribe tu nota:8\n",
            "Aprobado\n",
            "Reprobado\n"
          ]
        }
      ]
    },
    {
      "cell_type": "markdown",
      "source": [
        "## `ELIF`\n",
        "\n",
        "El comando `elif` es una palabra clave en Python que significa \"si no, si\" y lo podemos considerar una *contracción* entre `else` e `if`. Se utiliza en conjunto con la palabra clave `if` para formar una estructura condicional en cadena."
      ],
      "metadata": {
        "id": "04T5g-7h4zWx"
      }
    },
    {
      "cell_type": "markdown",
      "source": [
        "la sintaxis para utilizar el comando `elif` es:\n",
        "\n",
        "```\n",
        "if condicion1:\n",
        "    # Realiza algo\n",
        "elif condicion2:\n",
        "    # Realiza otra cosa\n",
        "elif condicion3:\n",
        "    # Realiza otra cosa\n",
        "else:\n",
        "    # Realiza algo diferente\n",
        "```\n",
        "\n",
        "El comando `elif` permite que puedas verificar varias condiciones en cadena, economizando espacio en tu código. Si la primera condición se evalúa como `False`, el interpretador de Python evaluará la próxima condición con el `elif`. Ello continuará hasta que una condición sea evaluada como `True` o hasta que el `else` sea alcazado. Si ninguna de las condiciones es evaluada como `True`, la ejecución del código del comando `else` será iniciada."
      ],
      "metadata": {
        "id": "rNBHr5mm1Lm6"
      }
    },
    {
      "cell_type": "markdown",
      "source": [
        "Vamos a emplear el mismo caso anterior:"
      ],
      "metadata": {
        "id": "MVoykFbB4bd4"
      }
    },
    {
      "cell_type": "code",
      "source": [
        "nota = float(input(\"Escribe tu nota:\")) # Se declara una variable que se denomina nota que por medio de las funciones float que va a establecer ese valor como un valor de tipo flotante y la función input le va a pedir al usuario que digite una nota\n",
        "if nota >= 7: # Se declara una condicional que determina que la variable que es en este caso nota sea mayor o igual a 7\n",
        "  print(\"Aprobado\") # Si se cumple lo anterior se ejecuta esto que va a imprimir en pantalla el mensaje\n",
        "elif 7 > nota >= 5: # Se declara una condicional que determina que la variable que es en este caso nota este en un intervalo de menor a 7 hasta que sea igual a 5\n",
        "    print(\"Recuperación\") # Si se cumple lo anterior se ejecuta esto que va a imprimir en pantalla el mensaje\n",
        "else: # Se declara una condicional que determina que la variable en este caso nota que sea menor a 5\n",
        "    print(\"Reprobado\") # Si se cumple lo anterior se ejecuta esto que va a imprimir en pantalla el mensaje"
      ],
      "metadata": {
        "id": "QFamB78s-TW_",
        "colab": {
          "base_uri": "https://localhost:8080/"
        },
        "outputId": "1de609f1-5a16-4f60-c937-43849c344f08"
      },
      "execution_count": null,
      "outputs": [
        {
          "output_type": "stream",
          "name": "stdout",
          "text": [
            "Escribe tu nota:5\n",
            "Recuperación\n"
          ]
        }
      ]
    },
    {
      "cell_type": "markdown",
      "source": [
        "## Operadores\n",
        "\n",
        "Durante la construcción de comandos a veces necesitamos de una elaboración mayor de la expresión condicional, necesitando que algunos operadores lógicos se encuentren integrados."
      ],
      "metadata": {
        "id": "Tf1wSOem6iwZ"
      }
    },
    {
      "cell_type": "markdown",
      "source": [
        "### `AND`, `OR`, `NOT`\n",
        "\n",
        "Los operadores lógicos `and`, `or` y `not` son usados para combinar expresiones lógicas en Python. Ellos son usados frecuentemente en conjunto con el comando `if` para crear estructuras condicionales más complejas.\n"
      ],
      "metadata": {
        "id": "GFIZnRWXGPWO"
      }
    },
    {
      "cell_type": "markdown",
      "source": [
        "- `AND` es usado para verificar si dos condiciones son verdaderas. La expresión lógica¹ `x and y` se evalúa como `True` tan solo si **ambas condiciones `x` y `y` son verdaderas**, y como `False` en caso contrario.\n",
        "\n",
        "- `OR` es usado para verificar si al menos una de las condiciones es verdadera. La expresión lógica `x or y` se evalúa como `True` **si al menos una de las condiciones `x` o `y` es verdadera**, y como `False` si ambas condiciones son falsas.\n",
        "\n",
        "- `NOT` es usado para **negar una condición**. La expresión lógica `not x` es evaluada como `True` si la condición x es falsa, y como `False` si la condición x es verdadera.\n",
        "\n",
        "¹ Una expresión lógica es una declaración que puede ser evaluada como verdadera o falsa. Ella se compone por operandos lógicos² y por operadores lógicos³, que son usados ​​para combinar varias expresiones lógicas en una única expresión.\n",
        "\n",
        "² Los operandos lógicos son los elementos que son comparados o evaluados en una expresión lógica. Ellos son generalmente valores verdaderos o falsos, pero también pueden ser expresiones lógicas más complejas. En Python, los operandos lógicos son los valores `True` y `False`.\n",
        "\n",
        "³ Los operadores lógicos son ls símbolos o palabras clave que son usados ​​para combinar varias expresiones lógicas en una única expresión. En Python, los operadores lógicos son `and`, `or` y `not`, bien como las palabras clave `if`, `elif` e `else`."
      ],
      "metadata": {
        "id": "Z_dgAoHXJbzB"
      }
    },
    {
      "cell_type": "markdown",
      "source": [
        "> Operadores lógicos más comunes\n",
        "\n",
        "|a|b|AND|OR|NOT|\n",
        "|-|-|-|-|-|\n",
        "|0|0|0|0|1\n",
        "|0|1|0|1|-\n",
        "|1|0|0|1|-\n",
        "|1|1|1|1|0\n"
      ],
      "metadata": {
        "id": "2E5aUogf-49u"
      }
    },
    {
      "cell_type": "code",
      "source": [
        "v = True # Se declara una variable que se denomina v que va a almacenar el valor de True\n",
        "f = False # Se declara una variable que se denomina f que va a almacenar el valor de False"
      ],
      "metadata": {
        "id": "DFKmpvmS-Pa6"
      },
      "execution_count": null,
      "outputs": []
    },
    {
      "cell_type": "code",
      "source": [
        "if v and v: # Se declara una condicional que determina que la variable v que actua como un 1, y f que actua como un 0 (y) que es una operación logica que determina que (0+0=0), (0+1=0), (1+0=0) y (1+1=1)\n",
        "  print(\"Verdadero\") # Si se cumple lo anterior se ejecuta esto que va a imprimir en pantalla el mensaje\n",
        "else: # Si no se cumple la condición determinada por la operación logica se aplica lo siguiente\n",
        "  print(\"Falso\") # Si se cumple lo anterior se ejecuta esto que va a imprimir en pantalla el mensaje"
      ],
      "metadata": {
        "id": "W5BIrpOD-PeI",
        "colab": {
          "base_uri": "https://localhost:8080/"
        },
        "outputId": "7f842e22-4df1-4a49-fd6c-b97df8aadac2"
      },
      "execution_count": null,
      "outputs": [
        {
          "output_type": "stream",
          "name": "stdout",
          "text": [
            "Verdadero\n"
          ]
        }
      ]
    },
    {
      "cell_type": "code",
      "source": [
        "if f or f: # Se declara una condicional que determina que la variable v que actua como un 1, y f que actua como un 0 (o) que es una operación logica que determina que (0+0=0), (0+1=1), (1+0=1) y (1+1=1)\n",
        "  print(\"Verdadero\") # Si se cumple lo anterior se ejecuta esto que va a imprimir en pantalla el mensaje\n",
        "else: # Si no se cumple la condición determinada por la operación logica se aplica lo siguiente\n",
        "  print(\"Falso\") # Si se cumple lo anterior se ejecuta esto que va a imprimir en pantalla el mensaje"
      ],
      "metadata": {
        "id": "uHggekFm-r9n",
        "colab": {
          "base_uri": "https://localhost:8080/"
        },
        "outputId": "aa3b7637-42e0-4af6-daa5-50823d5385ed"
      },
      "execution_count": null,
      "outputs": [
        {
          "output_type": "stream",
          "name": "stdout",
          "text": [
            "Falso\n"
          ]
        }
      ]
    },
    {
      "cell_type": "code",
      "source": [
        "if not v: # Se declara una condicional que determina que la variable que actua como un 1, y f que actua como un 0 (no) que es una operación logica que determinar que (0=1) y (1=0)\n",
        "  print(\"Verdadero\") # Si se cumple lo anterior se ejecuta esto que va a imprimir en pantalla el mensaje\n",
        "else: # Si no se cumple la condición determinada por la operación logica se aplica lo siguiente\n",
        "  print(\"Falso\") # Si se cumple lo anterior se ejecuta esto que va a imprimir en pantalla el mensaje"
      ],
      "metadata": {
        "id": "fpDhYxq4-PiM",
        "colab": {
          "base_uri": "https://localhost:8080/"
        },
        "outputId": "fd164e95-2702-4ade-d81d-7c3d098b4b51"
      },
      "execution_count": null,
      "outputs": [
        {
          "output_type": "stream",
          "name": "stdout",
          "text": [
            "Falso\n"
          ]
        }
      ]
    },
    {
      "cell_type": "markdown",
      "source": [
        "### `IN`\n",
        "\n",
        "Es usado para verificar si un elemento está presente en una lista, tupla u otra colección de conjunto. La expresión `x in y` se evalúa como `True` si el elemento `x` esta presente na variávelen la variable de conjunto `y`, y como `False` en caso contrario."
      ],
      "metadata": {
        "id": "w7EXG1dhWtja"
      }
    },
    {
      "cell_type": "markdown",
      "source": [
        "Podemos verificarlo con variables de texto.\n",
        "\n",
        "---\n",
        "\n",
        "**Situación:**\n",
        "\n",
        "En la escuela nos entregaron una lista con nombres de estudiantes que fueron aprobados según el promedio del semestre, pero es necesario verificar si algunos nombres están en esa lista para confirmar que los datos estén correctos.\n",
        "\n",
        "La lista distribuida puede ser observada a continuación:\n",
        "\n",
        "```\n",
        "lista = 'Juan Pérez, María González, Pedro Rodríguez, Ana López, Carlos Martínez,\n",
        "    Laura Sánchez, José García, Elena Fernández, Luis Morales, Carmen Torres,\n",
        "    David Ruiz, Isabel Ramírez, Javier Díaz, Sara Herrera, Miguel Castro,\n",
        "    Patricia Ortega, Francisco Vargas, Marta Jiménez, Manuel Medina, Rosa Molina,\n",
        "    Alejandro Silva, Silvia Ruiz, Andrés Torres, Natalia Soto, Diego Guerrero,\n",
        "    Paula Ríos, Ricardo Navarro, Alicia Cordero, Carlos Vidal, Lorena Gómez'\n",
        "```\n",
        "\n",
        "Los nombres que necesitas verificar son los siguientes:\n",
        "\n",
        "```\n",
        "nombre_1 = 'Miguel Castro'\n",
        "nombre_2 = 'Marcelo Noguera'\n",
        "```"
      ],
      "metadata": {
        "id": "enJNp6JenQbq"
      }
    },
    {
      "cell_type": "code",
      "source": [
        "lista = '''Juan Pérez, María González, Pedro Rodríguez, Ana López, Carlos Martínez,\n",
        "    Laura Sánchez, José García, Elena Fernández, Luis Morales, Carmen Torres,\n",
        "    David Ruiz, Isabel Ramírez, Javier Díaz, Sara Herrera, Miguel Castro,\n",
        "    Patricia Ortega, Francisco Vargas, Marta Jiménez, Manuel Medina, Rosa Molina,\n",
        "    Alejandro Silva, Silvia Ruiz, Andrés Torres, Natalia Soto, Diego Guerrero,\n",
        "    Paula Ríos, Ricardo Navarro, Alicia Cordero, Carlos Vidal, Lorena Gómez''' # Se declara una lista de nombres de los estudiantes que aprobaron"
      ],
      "metadata": {
        "id": "gPPN9BCT-Mki"
      },
      "execution_count": null,
      "outputs": []
    },
    {
      "cell_type": "code",
      "source": [
        "nombre_1 = 'Miguel Castro' # Se declara una variable que se denomina nombre_1 que determina el nombre del primer estudiante que se va a determinar si aprobo o no\n",
        "nombre_2 = 'Marcelo Noguera' # Se declara una variable que se denomina nombre_2 que determina el nombre del segundo estudiante que se va a determinar si aprobo o no"
      ],
      "metadata": {
        "id": "hk-RhNRT-Mp7"
      },
      "execution_count": null,
      "outputs": []
    },
    {
      "cell_type": "code",
      "source": [
        "if nombre_1 in lista: # Se declara una condicional que es la variable nombre_1 que establece el nombre del primer estudiante para ser evaluado si esta en la lista de estudiantes que aprobaron o no\n",
        "  print(f'{nombre_1} está en la lista de aprobados') # Si se cumple lo anterior se ejecuta esto que va a imprimir en pantalla el mensaje, y adicionalmente se llama el valor del nombre_1 que es el nombre del primer estudiante\n",
        "else: # Si no se cumple la condición determinada, entonces el estudiante no esta en la lista de estudiantes aprobados\n",
        "  print(f'{nombre_1} no está en la lista, entonces reprobo') # Si se cumple lo anterior se ejecuta esto que va a imprimir en pantalla el mensaje, y adicionalmente se llama el valor del nombre_1 que es el nombre del primer estudiante"
      ],
      "metadata": {
        "id": "K6GXcyWk_Zk1",
        "colab": {
          "base_uri": "https://localhost:8080/"
        },
        "outputId": "a803e759-aa29-46cc-9ccc-130bdde4c1f8"
      },
      "execution_count": null,
      "outputs": [
        {
          "output_type": "stream",
          "name": "stdout",
          "text": [
            "Miguel Castro está en la lista de aprobados\n"
          ]
        }
      ]
    },
    {
      "cell_type": "code",
      "source": [
        "if nombre_2 in lista: # Se declara una condicional que es la variable nombre_1 que establece el nombre del segundo estudiante para ser evaluado si esta en la lista de estudiantes que aprobaron o no\n",
        "  print(f'{nombre_2} está en la lista de aprobados') # Si se cumple lo anterior se ejecuta esto que va a imprimir en pantalla el mensaje, y adicionalmente se llama el valor del nombre_1 que es el nombre del segundo estudiante\n",
        "else: # Si no se cumple la condición determinada, entonces el estudiante no esta en la lista de estudiantes aprobados\n",
        "  print(f'{nombre_2} no está en la lista, entonces reprobo') # Si se cumple lo anterior se ejecuta esto que va a imprimir en pantalla el mensaje, y adicionalmente se llama el valor del nombre_1 que es el nombre del segundo estudiante"
      ],
      "metadata": {
        "id": "peUI_PSF_uq5",
        "colab": {
          "base_uri": "https://localhost:8080/"
        },
        "outputId": "d86ea2de-7662-4e6f-d394-fbffa4cc6180"
      },
      "execution_count": null,
      "outputs": [
        {
          "output_type": "stream",
          "name": "stdout",
          "text": [
            "Marcelo Noguera no está en la lista, entonces reprobo\n"
          ]
        }
      ]
    },
    {
      "cell_type": "code",
      "source": [
        "numero_uno = int(input(\"Escribe primer número:\")) # Se declara una variable denominada numero_uno que por medio de las funciones int que va a establecer ese valor como un valor de tipo entero y la función input le va a pedir al usuario que digite el primer número\n",
        "numero_dos = int(input(\"Escribe segundo número:\")) # Se declara una variable denominada numero_uno que por medio de las funciones int que va a establecer ese valor como un valor de tipo entero y la función input le va a pedir al usuario que digite el segundo número\n",
        "if numero_uno > numero_dos: # Se declara una condicional que es la variable que es numero_uno es mayor a numero_dos\n",
        "  print(f'{numero_uno} es mayor que {numero_dos}') # Si se cumple lo anterior se ejecuta esto que va a imprimir en pantalla el mensaje, y adicionalmente se llama el valor del numero_uno y el valor del numero_dos indicando que el número uno es mayor que el número dos\n",
        "else: # Se declara una condicional que es la variable que es numero_dos es mayor a numero_uno\n",
        "  print(f'{numero_dos} es mayor que {numero_uno}') # Si se cumple lo anterior se ejecuta esto que va a imprimir en pantalla el mensaje, y adicionalmente se llama el valor del numero_uno y el valor del numero_dos indicando que el número dos es mayor que el número uno"
      ],
      "metadata": {
        "id": "vxsPUQSa_-lD",
        "colab": {
          "base_uri": "https://localhost:8080/"
        },
        "outputId": "b8f4095d-bbc9-45df-8bc7-fb489c2fc17e"
      },
      "execution_count": null,
      "outputs": [
        {
          "output_type": "stream",
          "name": "stdout",
          "text": [
            "Escribe primer número:2\n",
            "Escribe segundo número:3\n",
            "3 es mayor que 2\n"
          ]
        }
      ]
    },
    {
      "cell_type": "code",
      "source": [
        "crecimiento = float(input(\"Escribe el porcentaje de crecimiento: \")) # Se declara una variable denominada crecimiento que por medio de las funciones float que va a establecer ese valor como un valor de tipo flotante y la función input le va a pedir al usuario que digite un crecimiento\n",
        "if crecimiento >= 0: # Se declara una condicional que es la variable que es crecimiento que sea mayor o igual a 0\n",
        "  print(f'El crecimiento fue de {crecimiento}%') # Si se cumple lo anterior se ejecuta esto que va a imprimir en pantalla el mensaje, y adicionalmente se llama el valor del crecimiento\n",
        "else: # Se declara una condicional que es la variable que es crecimiento que sea menor a 0\n",
        "  print(f'El crecimiento fue de {crecimiento}%') # Si se cumple lo anterior se ejecuta esto que va a imprimir en pantalla el mensaje, y adicionalmente se llama el valor del crecimiento"
      ],
      "metadata": {
        "id": "MGiu7gglALw9",
        "colab": {
          "base_uri": "https://localhost:8080/"
        },
        "outputId": "e571e0da-4e53-4a08-cdf0-0ef36e5a1b6e"
      },
      "execution_count": null,
      "outputs": [
        {
          "output_type": "stream",
          "name": "stdout",
          "text": [
            "Escribe el porcentaje de crecimiento: -4\n",
            "El crecimiento fue de -4.0%\n"
          ]
        }
      ]
    },
    {
      "cell_type": "code",
      "source": [
        "letra = input(\"Escribe una letra:\") # Se declara una variable denominada letra que por medio de la función input le va a pedir al usuario que digite una letra\n",
        "vocales = [\"a\",\"e\",\"i\",\"o\",\"u\",\"A\",\"E\",\"I\",\"O\",\"U\"] # Se declara una variable denominada vocales que establece una lista que contiene las vocales tanto en minusculas como mayusculas\n",
        "if letra in vocales: # Se declara una condicional que es la variable letra que va a comparar con la lista de vocales para determinar si es una vocal\n",
        "  print(f'{letra} es una vocal') # Si se cumple lo anterior se ejecuta esto que va a imprimir en pantalla el mensaje, y adicionalmente se llama el valor de la letra\n",
        "else: # Se declara una condicional que es la variable letra que va a comparar con la lista de vocales para determinar si no es una vocal\n",
        "  print(f'{letra} no es una vocal') # Si se cumple lo anterior se ejecuta esto que va a imprimir en pantalla el mensaje, y adicionalmente se llama el valor de la letra"
      ],
      "metadata": {
        "id": "QWYYgk2NAtwS",
        "colab": {
          "base_uri": "https://localhost:8080/"
        },
        "outputId": "e78ed18b-d8e3-40d1-c737-7d45fc2f09f8"
      },
      "execution_count": null,
      "outputs": [
        {
          "output_type": "stream",
          "name": "stdout",
          "text": [
            "Escribe una letra:a\n",
            "a es una vocal\n"
          ]
        }
      ]
    },
    {
      "cell_type": "code",
      "source": [
        "promedio_precio1 = float(input(\"Escribe el primer promedio:\")) # Se declara una variable denominada promedio_precio1 que por medio de las funciones float que va a establecer ese valor como un valor de tipo flotante y la función input le va a pedir al usuario que digite el primer promedio precio\n",
        "promedio_precio2 = float(input(\"Escribe el segundo promedio:\")) # Se declara una variable denominada promedio_precio1 que por medio de las funciones float que va a establecer ese valor como un valor de tipo flotante y la función input le va a pedir al usuario que digite el segundo promedio precio\n",
        "promedio_precio3 = float(input(\"Escribe el tercer promedio:\")) # Se declara una variable denominada promedio_precio1 que por medio de las funciones float que va a establecer ese valor como un valor de tipo flotante y la función input le va a pedir al usuario que digite el tercer promedio precio\n",
        "if promedio_precio1 > promedio_precio2 and promedio_precio1 > promedio_precio3: # Se declara una condicional que es primero compara si el primer precio promedio es mayor al segundo precio promedio y si se cumple esto tambien que es si el primer precio promedio es mayor al tercer precio promedio\n",
        "  print(f'{promedio_precio1} es el mayor') # Si se cumple lo anterior se ejecuta esto que va a imprimir en pantalla el mensaje, y adicionalmente se llama el valor del primer precio promedio es mayor\n",
        "elif promedio_precio2 > promedio_precio1 and promedio_precio2 > promedio_precio3: # Se declara una condicional que es primero compara si el segundo precio promedio es mayor al primer precio promedio y si se cumple esto tambien que es si el segundo precio promedio es mayor al tercer precio promedio\n",
        "  print(f'{promedio_precio2} es el mayor') # Si se cumple lo anterior se ejecuta esto que va a imprimir en pantalla el mensaje, y adicionalmente se llama el valor del segundo precio promedio es mayor\n",
        "elif promedio_precio3 > promedio_precio1 and promedio_precio3 > promedio_precio2: # Se declara una condicional que es primero compara si el tercer precio promedio es mayor al primer precio promedio y si se cumple esto tambien que es si el tercer precio promedio es mayor al segundo precio promedio\n",
        "  print(f'{promedio_precio3} es el mayor') # Si se cumple lo anterior se ejecuta esto que va a imprimir en pantalla el mensaje, y adicionalmente se llama el valor del tercer precio promedio es mayor\n",
        "else: # Si no se cumple niguna de las condicionales se debera cumplir esto\n",
        "  print(\"Son iguales\") # Si se cumple lo anterior se ejecuta el mensaje que todos los números son iguales\n",
        "if promedio_precio1 < promedio_precio2 and promedio_precio1 < promedio_precio3: # Se declara una condicional que es primero compara si el primer precio promedio es menor al segundo precio promedio y si se cumple esto tambien que es si el primer precio promedio es menor al tercer precio promedio\n",
        "  print(f'{promedio_precio1} es el menor') # Si se cumple lo anterior se ejecuta esto que va a imprimir en pantalla el mensaje, y adicionalmente se llama el valor del primer precio promedio es menor\n",
        "elif promedio_precio2 < promedio_precio1 and promedio_precio2 < promedio_precio3: # Se declara una condicional que es primero compara si el segundo precio promedio es menor al primer precio promedio y si se cumple esto tambien que es si el segundo precio promedio es menor al tercer precio promedio\n",
        "  print(f'{promedio_precio2} es el menor') # Si se cumple lo anterior se ejecuta esto que va a imprimir en pantalla el mensaje, y adicionalmente se llama el valor del segundo precio promedio es menor\n",
        "elif promedio_precio3 < promedio_precio1 and promedio_precio3 < promedio_precio2: # Se declara una condicional que es primero compara si el tercer precio promedio es maenor al primer precio promedio y si se cumple esto tambien que es si el tercer precio promedio es menor al segundo precio promedio\n",
        "  print(f'{promedio_precio3} es el menor') # Si se cumple lo anterior se ejecuta esto que va a imprimir en pantalla el mensaje, y adicionalmente se llama el valor del tercer precio promedio es menor\n",
        "else: # Si no se cumple niguna de las condicionales se debera cumplir esto\n",
        "  print(\"Son iguales\") # Si se cumple lo anterior se ejecuta el mensaje que todos los números son iguales"
      ],
      "metadata": {
        "id": "Vzo-FwPgBB8Q",
        "colab": {
          "base_uri": "https://localhost:8080/"
        },
        "outputId": "7898c4c5-2c5f-4a55-e0d5-32fa1f76a2c6"
      },
      "execution_count": null,
      "outputs": [
        {
          "output_type": "stream",
          "name": "stdout",
          "text": [
            "Escribe el primer promedio:200\n",
            "Escribe el segundo promedio:400\n",
            "Escribe el tercer promedio:600\n",
            "600.0 es el mayor\n",
            "200.0 es el menor\n"
          ]
        }
      ]
    },
    {
      "cell_type": "code",
      "source": [
        "numero_uno = int(input(\"Escribe primer número:\")) # Se declara una variable denominada numero_uno que por medio de las funciones int que va a establecer ese valor como un valor de tipo entero y la función input le va a pedir al usuario que digite el primer número\n",
        "numero_dos = int(input(\"Escribe segundo número:\")) # Se declara una variable denominada numero_uno que por medio de las funciones int que va a establecer ese valor como un valor de tipo entero y la función input le va a pedir al usuario que digite el segundo número\n",
        "numero_tres = int(input(\"Escribe tercer número:\")) # Se declara una variable denominada numero_uno que por medio de las funciones int que va a establecer ese valor como un valor de tipo entero y la función input le va a pedir al usuario que digite el tercer número\n",
        "\n",
        "if numero_uno >= numero_dos and numero_uno >= numero_tres: # Se declara una condicional que es primero compara si el primer número es mayor o igual al segundo número y si se cumple esto tambien que es si el primer número es mayor o igual al tercer número\n",
        "    if numero_dos >= numero_tres: # Se declara una condicional que es el segundo número es mayor o igual al tercer número\n",
        "        print(f'El número mayor es {numero_uno} y el número medio es {numero_dos} y el número menor es {numero_tres}') # Se imprime los mensajes, y adicionalmente se llama los valores del primer número, segundo número y tercer número y el orden según el cumplimiento de las condicionales planteadas\n",
        "    else: # Se declara una condicional que es el segundo número es menor o igual al tercer número\n",
        "        print(f'El número mayor es {numero_uno} y el número medio es {numero_tres} y el número menor es {numero_dos}') # Se imprime los mensajes, y adicionalmente se llama los valores del primer número, segundo número y tercer número y el orden según el cumplimiento de las condicionales planteadas\n",
        "elif numero_dos >= numero_uno and numero_dos >= numero_tres: # Se declara una condicional que es primero compara si el segundo número es mayor o igual al primero número y si se cumple esto tambien que es si el segundo número es mayor o igual al tercer número\n",
        "    if numero_uno >= numero_tres: # Se declara una condicional que es el primer número es mayor o igual al tercer número\n",
        "        print(f'El número mayor es {numero_dos} y el número medio es {numero_uno} y el número menor es {numero_tres}') # Se imprime los mensajes, y adicionalmente se llama los valores del primer número, segundo número y tercer número y el orden según el cumplimiento de las condicionales planteadas\n",
        "    else: # Se declara una condicional que es el primer número es menor o igual al tercer número\n",
        "        print(f'El número mayor es {numero_dos} y el número medio es {numero_tres} y el número menor es {numero_uno}') # Se imprime los mensajes, y adicionalmente se llama los valores del primer número, segundo número y tercer número y el orden según el cumplimiento de las condicionales planteadas\n",
        "elif numero_tres >= numero_uno and numero_tres >= numero_dos: # Se declara una condicional que es primero compara si el tercer número es mayor o igual al primer número y si se cumple esto tambien que es si el tercer número es mayor o igual al segundo número\n",
        "    if numero_uno >= numero_dos: # Se declara una condicional que es el primer número es menor o igual al segundo número\n",
        "        print(f'El número mayor es {numero_tres} y el número medio es {numero_uno} y el número menor es {numero_dos}') # Se imprime los mensajes, y adicionalmente se llama los valores del primer número, segundo número y tercer número y el orden según el cumplimiento de las condicionales planteadas\n",
        "    else: # Se declara una condicional que es el primer número es menor o igual al segundo número\n",
        "        print(f'El número mayor es {numero_tres} y el número medio es {numero_dos} y el número menor es {numero_uno}') # Se imprime los mensajes, y adicionalmente se llama los valores del primer número, segundo número y tercer número y el orden según el cumplimiento de las condicionales planteadas\n",
        "else: # Si no se cumple niguna de las condicionales se debera cumplir esto\n",
        "    print(\"Los números son iguales\") # Si se cumple lo anterior se ejecuta el mensaje que todos los números son iguales"
      ],
      "metadata": {
        "id": "ombFjtnXBlmW",
        "colab": {
          "base_uri": "https://localhost:8080/"
        },
        "outputId": "42068cb7-0898-4b4e-88ac-c4d5e0b363e8"
      },
      "execution_count": null,
      "outputs": [
        {
          "output_type": "stream",
          "name": "stdout",
          "text": [
            "Escribe primer número:1\n",
            "Escribe segundo número:2\n",
            "Escribe tercer número:3\n",
            "El número mayor es 3 y el número medio es 2 y el número menor es 1\n"
          ]
        }
      ]
    },
    {
      "cell_type": "code",
      "source": [
        "hora_estudio = float(input(\"Escribe la hora de estudio:\")) # Se declara una variable que se denomina hora_estudio que por medio de las funciones float que va a establecer ese valor como un valor de tipo flotante y la función input le va a pedir al usuario que digite la hora de estudio\n",
        "if hora_estudio >= 7 and hora_estudio <= 12: # Se declara una condicional que es la variable hora_estudio sea mayor o igual a 7 (y) que es una operación logica que se debe cumplir tambien que es que la hora_estudio sea menor o igual a 12\n",
        "  print(\"Buenos días\") # Si se cumple lo anterior se ejecuta esto que va a imprimir en pantalla el mensaje\n",
        "elif hora_estudio > 12 and hora_estudio <= 18: # Se declara una condicional que es la variable hora_estudio sea mayor a 12 (y) que es una operación logica que se debe cumplir tambien que es que la hora_estudio sea menor o igual a 18\n",
        "  print(\"Buenas tardes\") # Si se cumple lo anterior se ejecuta esto que va a imprimir en pantalla el mensaje\n",
        "elif hora_estudio > 18 and hora_estudio <= 24: # Se declara una condicional que es la variable hora_estudio sea mayor a 18 (y) que es una operación logica que se debe cumplir tambien que es que la hora_estudio sea menor o igual a 24\n",
        "  print(\"Buenas noches\") # Si se cumple lo anterior se ejecuta esto que va a imprimir en pantalla el mensaje\n",
        "else: # Si no se cumple niguna de las condicionales se debera cumplir esto\n",
        "  print(\"Hora inválida\") # Si se cumple lo anterior se ejecuta esto que va a imprimir en pantalla el mensaje"
      ],
      "metadata": {
        "id": "67KWpD_bC6Q_",
        "colab": {
          "base_uri": "https://localhost:8080/"
        },
        "outputId": "960cb694-72a0-4486-877b-cf74dd3ff6bc"
      },
      "execution_count": null,
      "outputs": [
        {
          "output_type": "stream",
          "name": "stdout",
          "text": [
            "Escribe la hora de estudio:14\n",
            "Buenas tardes\n"
          ]
        }
      ]
    },
    {
      "cell_type": "code",
      "source": [
        "numero_uno = int(input(\"Escribe el numero:\")) # Se declara una variable denominada numero_uno que por medio de las funciones int que va a establecer ese valor como un valor de tipo entero y la función input le va a pedir al usuario que digite el primer número\n",
        "if numero_uno % 2 == 0: # Se declara una condicional que es la variable numero_uno que es si se divide entre dos sea igual el residuo de esa división a cero\n",
        "  print(f'{numero_uno} es par') # Si se cumple lo anterior se ejecuta esto que va a imprimir en pantalla el mensaje y adicionalmente el valor de la variable numero_uno\n",
        "else: # Se declara una condicional que es la variable numero_uno que es si se divide entre dos sea diferente el residuo de esa división de cero\n",
        "  print(f'{numero_uno} es impar') # Si se cumple lo anterior se ejecuta esto que va a imprimir en pantalla el mensaje y adicionalmente el valor de la variable numero_uno"
      ],
      "metadata": {
        "id": "jqPouZ6ODM0v",
        "colab": {
          "base_uri": "https://localhost:8080/"
        },
        "outputId": "c897221f-ca5f-416c-8b06-0f82fb8d2ee3"
      },
      "execution_count": null,
      "outputs": [
        {
          "output_type": "stream",
          "name": "stdout",
          "text": [
            "Escribe el numero:3\n",
            "3 es impar\n"
          ]
        }
      ]
    },
    {
      "cell_type": "code",
      "source": [
        "numero = float(input(\"Escribe el numero:\")) # Se declara una variable que se denomina numero que por medio de las funciones float que va a establecer ese valor como un valor de tipo flotante y la función input le va a pedir al usuario que digite el número\n",
        "if numero == int(numero): # Se declara una condicional que es la variable numero que si es igual a un numero entero que se determina por medio de la función int()\n",
        "  print(f'{numero} es un número entero') # Si se cumple lo anterior se ejecuta esto que va a imprimir en pantalla el mensaje y adicionalmente el valor de la variable numero\n",
        "else: # Se declara una condicional que es la variable numero que si es diferente a un numero entero que se determina por medio de la función int()\n",
        "  print(f'{numero} es un número decimal') # Si se cumple lo anterior se ejecuta esto que va a imprimir en pantalla el mensaje y adicionalmente el valor de la variable numero"
      ],
      "metadata": {
        "id": "-JS6REdBDbEc",
        "colab": {
          "base_uri": "https://localhost:8080/"
        },
        "outputId": "943c582a-c52c-4307-d3fe-f072a359fba5"
      },
      "execution_count": null,
      "outputs": [
        {
          "output_type": "stream",
          "name": "stdout",
          "text": [
            "Escribe el numero:2.4\n",
            "2.4 es un número decimal\n"
          ]
        }
      ]
    },
    {
      "cell_type": "code",
      "source": [
        "numero_uno = float(input(\"Escribe el numero:\")) # Se declara una variable que se denomina numero_uno que por medio de las funciones float que va a establecer ese valor como un valor de tipo flotante y la función input le va a pedir al usuario que digite el primer número\n",
        "numero_dos = float(input(\"Escribe el numero:\")) # Se declara una variable que se denomina numero_dos que por medio de las funciones float que va a establecer ese valor como un valor de tipo flotante y la función input le va a pedir al usuario que digite el segundo número\n",
        "opciones = int(input(\"Escribe 1 para sumar, 2 para restar, 3 para multiplicar, 4 para dividir:\")) # Se declara una variable que se denomina opciones que por medio de las funciones int que va a establecer ese valor como un valor de tipo entero y la función input le va a pedir al usuario que digite la opción (1=suma), (2=resta), (3=multiplicación) y (4=división)\n",
        "if opciones == 1: # Se declara una condicional que es la variable opciones sea igual a 1 se determina que se va a utilizar la operación suma\n",
        "  print(f'{numero_uno} + {numero_dos} = {numero_uno + numero_dos}') # Se imprime la operación de la suma de los dos números\n",
        "elif opciones == 2: # Se declara una condicional que es la variable opciones sea igual a 2 se determina que se va a utilizar la operación resta\n",
        "  print(f'{numero_uno} - {numero_dos} = {numero_uno - numero_dos}') # Se imprime la operación de la resta de los dos números\n",
        "elif opciones == 3: # Se declara una condicional que es la variable opciones sea igual a 3 se determina que se va a utilizar la operación multiplicación\n",
        "  print(f'{numero_uno} * {numero_dos} = {numero_uno * numero_dos}') # Se imprime la operación de la multiplicación de los dos números\n",
        "else: # Se declara una condicional que es la variable opciones sea igual a 4 se determina que se va a utilizar la operación división\n",
        "  print(f'{numero_uno} / {numero_dos} = {numero_uno / numero_dos}') # Se imprime la operación de la división de los dos números\n",
        "if numero_uno % 2 == 0: # Se declara una condicional que es la variable numero_uno que es si se divide entre dos sea igual el residuo de esa división a cero\n",
        "  print(f'{numero_uno} es par') # Si se cumple lo anterior se ejecuta esto que va a imprimir en pantalla el mensaje y adicionalmente el valor de la variable numero_uno\n",
        "else: # Se declara una condicional que es la variable numero_uno que es si se divide entre dos sea diferente el residuo de esa división de cero\n",
        "  print(f'{numero_uno} es impar') # Si se cumple lo anterior se ejecuta esto que va a imprimir en pantalla el mensaje y adicionalmente el valor de la variable numero_uno\n",
        "if numero_dos % 2 == 0: # Se declara una condicional que es la variable numero_dos que es si se divide entre dos sea igual el residuo de esa división a cero\n",
        "  print(f'{numero_dos} es par') # Si se cumple lo anterior se ejecuta esto que va a imprimir en pantalla el mensaje y adicionalmente el valor de la variable numero_dos\n",
        "else: # Se declara una condicional que es la variable numero_dos que es si se divide entre dos sea diferente el residuo de esa división de cero\n",
        "  print(f'{numero_dos} es impar') # Si se cumple lo anterior se ejecuta esto que va a imprimir en pantalla el mensaje y adicionalmente el valor de la variable numero_dos\n",
        "if numero_uno < 0: # Se declara una condicional que es la variable numero_uno que es si el número es menor a 0 se ejecuta lo siguiente\n",
        "  print(f'{numero_uno} es negativo') # Si se cumple lo anterior se ejecuta esto que va a imprimir en pantalla el mensaje y adicionalmente el valor de la variable numero_uno\n",
        "else: # Se declara una condicional que es la variable numero_uno que es si el número es mayor a 0 se ejecuta lo siguiente\n",
        "  print(f'{numero_uno} es positivo') # Si se cumple lo anterior se ejecuta esto que va a imprimir en pantalla el mensaje y adicionalmente el valor de la variable numero_uno\n",
        "if numero_dos < 0: # Se declara una condicional que es la variable numero_uno que es si el número es menor a 0 se ejecuta lo siguiente\n",
        "  print(f'{numero_dos} es negativo') # Si se cumple lo anterior se ejecuta esto que va a imprimir en pantalla el mensaje y adicionalmente el valor de la variable numero_dos\n",
        "else: # Se declara una condicional que es la variable numero_uno que es si el número es mayor a 0 se ejecuta lo siguiente\n",
        "  print(f'{numero_dos} es positivo') # Si se cumple lo anterior se ejecuta esto que va a imprimir en pantalla el mensaje y adicionalmente el valor de la variable numero_dos\n",
        "if numero_uno == int(numero_uno): # Se declara una condicional que es la variable numero_uno que si es igual a un numero entero que se determina por medio de la función int()\n",
        "  print(f'{numero_uno} es un número entero') # Si se cumple lo anterior se ejecuta esto que va a imprimir en pantalla el mensaje y adicionalmente el valor de la variable numero_uno\n",
        "else: # Se declara una condicional que es la variable numero_uno que si es diferente a un numero entero que se determina por medio de la función int()\n",
        "  print(f'{numero_uno} es un número decimal') # Si se cumple lo anterior se ejecuta esto que va a imprimir en pantalla el mensaje y adicionalmente el valor de la variable numero_uno\n",
        "if numero_dos == int(numero_dos): # Se declara una condicional que es la variable numero_dos que si es igual a un numero entero que se determina por medio de la función int()\n",
        "  print(f'{numero_dos} es un número entero') # Si se cumple lo anterior se ejecuta esto que va a imprimir en pantalla el mensaje y adicionalmente el valor de la variable numero_dos\n",
        "else: # Se declara una condicional que es la variable numero_dos que si es diferente a un numero entero que se determina por medio de la función int()\n",
        "  print(f'{numero_dos} es un número decimal') # Si se cumple lo anterior se ejecuta esto que va a imprimir en pantalla el mensaje y adicionalmente el valor de la variable numero_dos"
      ],
      "metadata": {
        "id": "FB0FyKLHD0lq",
        "colab": {
          "base_uri": "https://localhost:8080/"
        },
        "outputId": "fee90557-bb06-4817-b44a-e6cf467d6d41"
      },
      "execution_count": null,
      "outputs": [
        {
          "output_type": "stream",
          "name": "stdout",
          "text": [
            "Escribe el numero:-2.3\n",
            "Escribe el numero:2\n",
            "Escribe 1 para sumar, 2 para restar, 3 para multiplicar, 4 para dividir:2\n",
            "-2.3 - 2.0 = -4.3\n",
            "-2.3 es impar\n",
            "2.0 es par\n",
            "-2.3 es negativo\n",
            "2.0 es positivo\n",
            "-2.3 es un número decimal\n",
            "2.0 es un número entero\n"
          ]
        }
      ]
    },
    {
      "cell_type": "code",
      "source": [
        "numero_uno = int(input(\"Escribe el numero:\")) # Se declara una variable denominada numero_uno que por medio de las funciones int que va a establecer ese valor como un valor de tipo entero y la función input le va a pedir al usuario que digite el primer número\n",
        "numero_dos = int(input(\"Escribe el numero:\")) # Se declara una variable denominada numero_uno que por medio de las funciones int que va a establecer ese valor como un valor de tipo entero y la función input le va a pedir al usuario que digite el segundo número\n",
        "numero_tres = int(input(\"Escribe el numero:\")) # Se declara una variable denominada numero_uno que por medio de las funciones int que va a establecer ese valor como un valor de tipo entero y la función input le va a pedir al usuario que digite el tercer número\n",
        "if numero_uno == numero_dos and numero_uno == numero_tres: # Se declara una condicional que primero que el primer número sea igual a el segundo número (y) con el operador logico debe cumplirse tambien que el primer número sea igual al tercer número\n",
        "  print(\"El triangulo es equilatero\") # Si se cumple lo anterior se ejecuta esto que va a imprimir en pantalla el mensaje\n",
        "elif numero_uno == numero_dos or numero_uno == numero_tres or numero_dos == numero_tres: # Se declara una condicional que primero que el primer número sea igual a el segundo número (o) con el operador logico que es opcional que se pueda cumplir el primer número sea igual a el tercer número, pero tambien es opcional que se pueda cumplir que el segundo número sea igual al tercer número\n",
        "  print(\"El triangulo es isósceles\") # Si se cumple lo anterior se ejecuta esto que va a imprimir en pantalla el mensaje\n",
        "else: # Se declara una condición que es que todos los números sean diferentes\n",
        "  print(\"El triangulo es escaleno\") # Si se cumple lo anterior se ejecuta esto que va a imprimir en pantalla el mensaje"
      ],
      "metadata": {
        "id": "490YEyTSGR9G",
        "colab": {
          "base_uri": "https://localhost:8080/"
        },
        "outputId": "e6f67a67-00a0-4d00-ccac-a36befb2de9e"
      },
      "execution_count": null,
      "outputs": [
        {
          "output_type": "stream",
          "name": "stdout",
          "text": [
            "Escribe el numero:2\n",
            "Escribe el numero:3\n",
            "Escribe el numero:4\n",
            "El triangulo es escaleno\n"
          ]
        }
      ]
    },
    {
      "cell_type": "code",
      "source": [
        "tipo = input(\"Escribe 'E' para etanol o 'D' para el disel: \") # Se declara una variable que se denomina tipo por medio de la función input le va a pedir al usuario que digite el tipo de gasolina que se va a utilizar\n",
        "litros = float(input(\"Escribe la cantidad de litros: \")) # Se declara una variable que se denomina numero_dos que por medio de las funciones float que va a establecer ese valor como un valor de tipo flotante y la función input le va a pedir al usuario que digite el número de litros que el usuario va a colocar\n",
        "precio_etanol = 1.70 # Precio establecido para el tipo de gasolina que es el etanol que es de 1.70\n",
        "precio_disel = 2.00 # Precio establecido para el tipo de gasolina que es el disel que es de 2.00\n",
        "if tipo == \"E\": # Se declara una condicional que establece si la variable que es tipo el usuario ingresa la letra E se ejecuta esto\n",
        "  if litros <= 15: # Se declara una condicional que establece si la variable que es igual o menor a 15 litros se ejecuta\n",
        "    descuento = 0.02 # Se establece el descuento que se va a aplicar para el tipo de gasolina que es el etanol que va a trabajar con 15 o menos litros\n",
        "  else: # Se declara una condicional que establece si la variable que es mayor a 15 litros se ejecuta\n",
        "    descuento = 0.04 # Se establece el descuento que se va a aplicar para el tipo de gasolina que es el etanol que va a trabajar con más de 15 litros\n",
        "  total = litros * precio_etanol # Se declara una variable que se denomina total que es la operación de la variable litros por la variable precio_etanol\n",
        "  valor_descuento = total * descuento # Se declara una variable que se denomina valor_descuento que va a ser la operación de la variable total por el descuento aplicado según las condicionales aplicadas anteriormente\n",
        "  valor_pagar = total - valor_descuento # Se declara una variable que se denomina valor_pagar que va a ser la operación de la variable total menos la variable que el valor_descuento\n",
        "  print(f'Se aplicará un descuento del {descuento * 100}% por litro') # Se imprime en pantalla el descuento aplicado por litro realizando la operación descuento por 100 al usuario\n",
        "  print(f'El valor del descuento es: {valor_descuento}') # Se imprime en pantalla el valor del descuento al usuario\n",
        "  print(f'El valor a pagar es: {valor_pagar}') # Se imprime en pantalla el valor a pagar al usuario\n",
        "elif tipo == \"D\": # Se declara una condicional que establece si la variable que es tipo el usuario ingresa la letra D se ejecuta esto\n",
        "  if litros <= 15: # Se declara una condicional que establece si la variable que es igual o menor a 15 litros se ejecuta\n",
        "    descuento = 0.03 # Se establece el descuento que se va a aplicar para el tipo de gasolina que es el disel que va a trabajar con 15 o menos litros\n",
        "  else: # Se declara una condicional que establece si la variable que es mayor a 15 litros se ejecuta\n",
        "    descuento = 0.05 # Se establece el descuento que se va a aplicar para el tipo de gasolina que es el disel que va a trabajar con más de 15 litros\n",
        "  total = litros * precio_disel # Se declara una variable que se denomina total que es la operación de la variable litros por la variable precio_disel\n",
        "  valor_descuento = total * descuento # Se declara una variable que se denomina valor_descuento que va a ser la operación de la variable total por el descuento aplicado según las condicionales aplicadas anteriormente\n",
        "  valor_pagar = total - valor_descuento # Se declara una variable que se denomina valor_pagar que va a ser la operación de la variable total menos la variable que el valor_descuento\n",
        "  print(f'Se aplicará un descuento del {descuento * 100}% por litro') # Se imprime en pantalla el descuento aplicado por litro realizando la operación descuento por 100 al usuario\n",
        "  print(f'El valor del descuento es: {valor_descuento}') # Se imprime en pantalla el valor del descuento al usuario\n",
        "  print(f'El valor a pagar es: {valor_pagar}') # Se imprime en pantalla el valor a pagar al usuario\n",
        "else: # Si no se cumple ninguna de las dos condicionales se ejecuta esto\n",
        "  print(\"Tipo de combustible inválido\") # Si se cumple lo anterior se ejecuta esto que va a imprimir en pantalla el mensaje"
      ],
      "metadata": {
        "id": "s3nLB7ecGsLy",
        "colab": {
          "base_uri": "https://localhost:8080/"
        },
        "outputId": "3df1395d-de7e-4734-c150-7f9047b973aa"
      },
      "execution_count": null,
      "outputs": [
        {
          "output_type": "stream",
          "name": "stdout",
          "text": [
            "Escribe 'E' para etanol o 'D' para el disel: E\n",
            "Escribe la cantidad de litros: 16\n",
            "Se aplicará un descuento del 4.0% por litro\n",
            "El valor del descuento es: 1.088\n",
            "El valor a pagar es: 26.112\n"
          ]
        }
      ]
    },
    {
      "cell_type": "markdown",
      "source": [
        "# Estructuras de repetición"
      ],
      "metadata": {
        "id": "aL1vJPewvwvz"
      }
    },
    {
      "cell_type": "markdown",
      "source": [
        "Cuando tenemos que ejecutar un mismo bloque de comandos durante varias ocasiones no es nada práctico hacerlo a mano.\n",
        "\n",
        "**Situación**: Nos fue solicitado obtener e imprimir el promedio de 2 notas de **3 estudantes**:"
      ],
      "metadata": {
        "id": "VcPfCa8d-84t"
      }
    },
    {
      "cell_type": "code",
      "source": [
        "nota_1 = float(input(\"Escribe la nota 1:\")) # Se declara la variable denominada nota_1 que por medio de las funciones float que va a establecer ese valor como un valor de tipo flotante y la función input le va a pedir al usuario que digite la primera nota\n",
        "nota_2 = float(input(\"Escribe la nota 2:\")) # Se declara la variable denominada nota_1 que por medio de las funciones float que va a establecer ese valor como un valor de tipo flotante y la función input le va a pedir al usuario que digite la segunda nota\n",
        "promedio = (nota_1 + nota_2) / 2 # Se declara la variable denominada promedio que es la suma de las variables nota_1 y nota_2 sobre 2\n",
        "print(f'El promedio es: {promedio}') # Si se cumple lo anterior se ejecuta esto que va a imprimir en pantalla el mensaje y adicionalmente el valor de la variable promedio\n",
        "\n",
        "nota_1 = float(input(\"Escribe la nota 1:\")) # Se declara la variable denominada nota_1 que por medio de las funciones float que va a establecer ese valor como un valor de tipo flotante y la función input le va a pedir al usuario que digite la primera nota\n",
        "nota_2 = float(input(\"Escribe la nota 2:\")) # Se declara la variable denominada nota_1 que por medio de las funciones float que va a establecer ese valor como un valor de tipo flotante y la función input le va a pedir al usuario que digite la segunda nota\n",
        "promedio = (nota_1 + nota_2) / 2 # Se declara la variable denominada promedio que es la suma de las variables nota_1 y nota_2 sobre 2\n",
        "print(f'El promedio es: {promedio}') # Si se cumple lo anterior se ejecuta esto que va a imprimir en pantalla el mensaje y adicionalmente el valor de la variable promedio\n",
        "\n",
        "nota_1 = float(input(\"Escribe la nota 1:\")) # Se declara la variable denominada nota_1 que por medio de las funciones float que va a establecer ese valor como un valor de tipo flotante y la función input le va a pedir al usuario que digite la primera nota\n",
        "nota_2 = float(input(\"Escribe la nota 2:\")) # Se declara la variable denominada nota_1 que por medio de las funciones float que va a establecer ese valor como un valor de tipo flotante y la función input le va a pedir al usuario que digite la segunda nota\n",
        "promedio = (nota_1 + nota_2) / 2 # Se declara la variable denominada promedio que es la suma de las variables nota_1 y nota_2 sobre 2\n",
        "print(f'El promedio es: {promedio}') # Si se cumple lo anterior se ejecuta esto que va a imprimir en pantalla el mensaje y adicionalmente el valor de la variable promedio"
      ],
      "metadata": {
        "id": "xcx21IGT9qA0",
        "colab": {
          "base_uri": "https://localhost:8080/"
        },
        "outputId": "60fea63b-5878-47f7-cd27-eb16863e75e9"
      },
      "execution_count": null,
      "outputs": [
        {
          "output_type": "stream",
          "name": "stdout",
          "text": [
            "Escribe la nota 1:5\n",
            "Escribe la nota 2:5\n",
            "El promedio es: 5.0\n",
            "Escribe la nota 1:8\n",
            "Escribe la nota 2:8\n",
            "El promedio es: 8.0\n",
            "Escribe la nota 1:10\n",
            "Escribe la nota 2:10\n",
            "El promedio es: 10.0\n"
          ]
        }
      ]
    },
    {
      "cell_type": "markdown",
      "source": [
        "Ahora imaginemos una situación en que no son tan solo 3 estudiantes, sino 100 estudiantes. No sería nada interesante repetir el mismo código 100 veces, sino **ejecutar el mismo código 100 veces**.\n",
        "\n",
        "¡Esta estructura la logramos construir con lazos de repetición!"
      ],
      "metadata": {
        "id": "9puIuvUbFSFX"
      }
    },
    {
      "cell_type": "markdown",
      "source": [
        "## `WHILE`"
      ],
      "metadata": {
        "id": "uLO9-aE4-wx8"
      }
    },
    {
      "cell_type": "markdown",
      "source": [
        "El lazo `while` es una estructura de control de repetición en Python que permite ejecutar un bloque de código repetidamente mientras que una determinada condición sea verdadera. Su estructura es:\n",
        "\n",
        "\n",
        "\n",
        "```\n",
        "while condicion:\n",
        "    # bloque de codigo\n",
        "```\n",
        "\n",
        "Vamos a construir un ejemplo con un contador de 1 hasta 10.\n"
      ],
      "metadata": {
        "id": "rXZxDMiqHxm9"
      }
    },
    {
      "cell_type": "code",
      "source": [
        "contador = 1 # Se declara una variable que va a actuar como un contador que va a almacenar el valor de 1\n",
        "while contador <= 10: # Con la función while se declara una funcionalidad de repetición desde la variable contador que se establece en uno hasta que llegue a 10, esto sucede porque en el bucle se ejecuta una estructura que adiciona un uno a la variable contador cada vez que itera\n",
        "  print(contador) # Se imprime en pantalla el número de cada iteración hasta llegar a 10\n",
        "  # contador = contador + 1\n",
        "  contador += 1 # Operación que realiza la suma de la variable contador más uno cada vez que itera"
      ],
      "metadata": {
        "id": "Hd0ZSWxD9wCD"
      },
      "execution_count": null,
      "outputs": []
    },
    {
      "cell_type": "markdown",
      "source": [
        "Ahora vamos a colectar las notas y promedios de cada alumno dentro del lazo `while`. Haremos un ejemplo con 3 promedios."
      ],
      "metadata": {
        "id": "W4KZPBJuIrut"
      }
    },
    {
      "cell_type": "code",
      "source": [
        "contador = 1 # Se declara una variable que va a actuar como un contador que va a almacenar el valor de 1\n",
        "while contador <= 3: # Con la función while se declara una funcionalidad de repetición desde la variable contador que se establece en uno hasta que llegue a 3, esto sucede porque en el bucle se ejecuta una estructura que adiciona un uno a la variable contador cada vez que iter\n",
        "  nota_1 = float(input(\"Escribe la nota 1:\")) # Se declara la variable denominada nota_1 que por medio de las funciones float que va a establecer ese valor como un valor de tipo flotante y la función input le va a pedir al usuario que digite la primera nota\n",
        "  nota_2 = float(input(\"Escribe la nota 2:\")) # Se declara la variable denominada nota_1 que por medio de las funciones float que va a establecer ese valor como un valor de tipo flotante y la función input le va a pedir al usuario que digite la segunda nota\n",
        "  promedio = (nota_1 + nota_2) / 2 # Se declara la variable denominada promedio que es la suma de las variables nota_1 y nota_2 sobre 2\n",
        "  print(f'El promedio es: {promedio}') # Si se cumple lo anterior se ejecuta esto que va a imprimir en pantalla el mensaje y adicionalmente el valor de la variable promedio\n",
        "  contador += 1 # Operación que realiza la suma de la variable contador más uno cada vez que itera"
      ],
      "metadata": {
        "id": "9T5eCLFx9wk6"
      },
      "execution_count": null,
      "outputs": []
    },
    {
      "cell_type": "code",
      "source": [
        "num1 = int(input(\"Ingresa el primer número entero: \")) # Se declara una variable denominada numero_uno que por medio de las funciones int que va a establecer ese valor como un valor de tipo entero y la función input le va a pedir al usuario que digite el primer número\n",
        "num2 = int(input(\"Ingresa el segundo número entero: \")) # Se declara una variable denominada numero_uno que por medio de las funciones int que va a establecer ese valor como un valor de tipo entero y la función input le va a pedir al usuario que digite el segundo número\n",
        "\n",
        "if num1 == num2: # Se declara una condicional que es si la variable num1 es igual a num2 se ejecuta lo siguiente\n",
        "    print(\"Los números son iguales, no hay enteros entre ellos.\") # Si se cumple lo anterior se ejecuta esto que va a imprimir en pantalla el mensaje\n",
        "else: # De lo contrario no son iguales los deos números entonces se ejecuta lo siguiente\n",
        "    # Determinar el inicio y fin del rango.\n",
        "    if num1 < num2: # Si el número 1 es menor al número 2 ejecuta lo siguiente\n",
        "        inicio = num1 + 1 # Se declara una variable denominada inicio que lo que va a realizar es la operación de añadirle al número 1 una unidad\n",
        "        fin = num2 # Se declara una variable denominada fin que lo que va a obtener el valor del número 2\n",
        "    else: # Si el número 1 es mayor al número 2 ejecuta lo siguiente\n",
        "        inicio = num2 + 1 # Se declara una variable denominada inicio que lo que va a realizar es la operación de añadirle al número 2 una unidad\n",
        "        fin = num1 # Se declara una variable denominada fin que lo que va a obtener el valor del número 1\n",
        "\n",
        "    print(f\"\\nNúmeros enteros entre {inicio - 1} y {fin}:\") # Si se cumple lo anterior se ejecuta esto que va a imprimir en pantalla el mensaje y se llama el valor de la variable inicio menos uno y de la variable fin\n",
        "    # Uso de 'for'\n",
        "    for numero in range(inicio, fin): # Se declara una variable denominada numero que va a acumular las iteraciones realizadas por la función for que establece un bucle de un rango determinado por las variables inicio y fin determinadas antes por las condicionales\n",
        "        print(numero) # Se imprime en pantalla el número de cada iteración hasta llegar a el valor que contenga la variable fin"
      ],
      "metadata": {
        "id": "7irafVFAK6HW"
      },
      "execution_count": null,
      "outputs": []
    },
    {
      "cell_type": "code",
      "source": [
        "# Condiciones iniciales\n",
        "colonia_a = 4.0 # Se declara la variable que va a representar el valor de la colonia A que va a ser de 4\n",
        "tasa_a = 0.03 # Se declara la variable que va a representar el valor del porcentaje de la colonia A que va a ser de 3% o 3/100\n",
        "colonia_b = 10.0 # Se declara la variable que va a representar el valor de la colonia B que va a ser de 10\n",
        "tasa_b = 0.015 # Se declara la variable que va a representar el valor del porcentaje de la colonia B que va a ser de 1.5% o 1.5/100\n",
        "dias = 0 # Se declara una variable que va a actuar como un contador que va a almacenar el valor de 0\n",
        "\n",
        "print(f\"Inicio: Colonia A = {colonia_a}, Colonia B = {colonia_b}\") # Se imprime los mensajes, adicionalmente se llama a los valores que tienen las variables colonia_a y colonia_b\n",
        "\n",
        "# Uso de 'while'\n",
        "while colonia_a < colonia_b: # Con la función while se declara una funcionalidad de repetición desde de que se cumpla la condición que es que la colonia A sea menor a la colonia B, si esto se llega a no cumplir se detiene el bucle y deja de iterar\n",
        "    colonia_a = colonia_a * (1 + tasa_a) # Se declara una variable que se denomina colonia_a que ba a ser ejecutada la operación de colonia_a por uno más la variable tasa_a que representa el valor de la tasa de la colonia A\n",
        "    colonia_b = colonia_b * (1 + tasa_b) # Se declara una variable que se denomina colonia_b que ba a ser ejecutada la operación de colonia_b por uno más la variable tasa_b que representa el valor de la tasa de la colonia B\n",
        "    # dias = dias + 1   (Alternativa clásica)\n",
        "    dias +=  + 1 # Operación que realiza la suma de la variable dias más uno cada vez que itera, para indicar cuantos días se demoro la colonia A en igualar o superar a la colonia B\n",
        "\n",
        "print(f\"\\nColonia A ({colonia_a:.2f}) superará o igualará a la Colonia B ({colonia_b:.2f}) en {dias} días.\") # Se imprime los mensajes, y adicionalmente se llama a los valores de las variables luego de aplicar el bucle while que son colonia_a con dos decimales, colonia_b con dos decimales y dias que fueron el número de días que se tardo en realizar que la colonia A igualara o superara a la colonia B"
      ],
      "metadata": {
        "id": "EKec71jWLHPT"
      },
      "execution_count": null,
      "outputs": []
    },
    {
      "cell_type": "code",
      "source": [
        "TOTAL_DATOS = 15 # Se declara una variable denominada TOTAL_DATOS que indica el número total de datos de evaluaciones que se van a realizar\n",
        "i = 1 # Se declara una variable que se denomina i que va a actuar como un contador para las 15 iteraciones, que se van a realizar\n",
        "\n",
        "# Uso de 'while' para controlar las 15 entradas.\n",
        "while i <= TOTAL_DATOS: # Con la función while se declara una funcionalidad de repetición desde de que se cumpla la condición de que TOTAL_DATOS sea menor o igual a la variable i que actua como contador\n",
        "    calificacion_valida = False # Se declara una variable denominada calificacion_valida que lo que realizara es validar la calificación ingresada que vs a ser utilizada en el bucle interno while\n",
        "\n",
        "    # Ciclo interno (while) para la validación de *una* entrada.\n",
        "    while calificacion_valida == False:  # Con la función while se declara una funcionalidad de repetición desde de que se cumpla de que la calificacion_valida sea igual a False, esto se puede denominar con valores 0 (false) y 1 (True), si es 0 se ejecutara lo siguiente que es repetir el mensaje hasta que el usuario digite correctamente el intervalo de 0 a 5\n",
        "        # Asumimos que el usuario ingresa un número, aunque el rango podría ser incorrecto.\n",
        "        calificacion = float(input(f\"Ingresa la calificación {i} de {TOTAL_DATOS} (entre 0 y 5): \")) # Se declara una variable denominada calificacion que por medio de las funciones float que va a establecer ese valor como un valor de tipo flotante y la función input le va a pedir al usuario que digite la calificación, pero tambien indica el número de evaluación que se realiza y se compara con el número total de evaluaciones a realizar\n",
        "\n",
        "        # Verificar rango válido\n",
        "        if calificacion >= 0 and calificacion <= 5: # Se declara una condicional que indica que la variable calificacion sea mayor o igual a 0 (y) siendo un operador logico que indica que se debe cumplir tambien que la variable calificacion sea menor o igual a 5 para que se ejecute esto\n",
        "            print(f\"Calificación {i} registrada: {calificacion}\")\n",
        "            calificacion_valida = True # Se declara una variable denominada calificacion_valida que indica que la calificación es válida, lo que produce que se salga del bucle while interno\n",
        "        else: # De lo contrario se ejecutara esto, infinitamente hasta que el usuario ingrese correctamente un número desde 0 a 5\n",
        "            print(\"¡Calificación inválida! Debe estar entre 0 y 5. Intenta de nuevo.\") # Se imprime el mensaje de que se equivoco del calificación\n",
        "            # El loop o ciclo continúa (calificacion_valida sigue siendo False)\n",
        "\n",
        "    i = i + 1 # Se declara una variable denominada i que lo que va a hacer es actuar como un contador que va a avanzar al siguiente dato hasta completar la condición aplicada en el bucle while externo"
      ],
      "metadata": {
        "id": "RO34x5fRLNAF"
      },
      "execution_count": null,
      "outputs": []
    },
    {
      "cell_type": "code",
      "source": [
        "Temperatura_Terminacion = -273.0 # Se declara la variable denominada Temperatura_Terminacion que indica el número de temperatura que debe terminar el proceso de promedio de temperaturas\n",
        "suma_temperaturas = 0.0 # Se declara la variable denominada suma_temperaturas se va utilizar como un contador que va a sumar cada temperatura que registre el usario\n",
        "conteo_temperaturas = 0 # Se declara la variable denominada conteo_temperaturas\n",
        "temperatura = 0.0 # Inicialización\n",
        "bandera_parada = False # Bandera para controlar la parada. Esto es un SW booleano. algunos usan sw con valores 0 o 1.\n",
        "\n",
        "print(f\"Ingresa temperaturas en grados Celsius. Ingresa {Temperatura_Terminacion}°C para detener.\")\n",
        "\n",
        "# Uso de 'while'\n",
        "while bandera_parada == False: #switch como vble booleana\n",
        "    # Asumimos que el usuario ingresa un número\n",
        "    temperatura = float(input(\"Ingresa una temperatura: \"))\n",
        "\n",
        "    if temperatura == Temperatura_Terminacion:\n",
        "        bandera_parada = True # Activa la bandera para terminar el loop\n",
        "    else:\n",
        "        suma_temperaturas = suma_temperaturas + temperatura\n",
        "        conteo_temperaturas = conteo_temperaturas + 1\n",
        "\n",
        "print(\"\\n--- Lectura finalizada ---\")\n",
        "\n",
        "if conteo_temperaturas > 0:\n",
        "    promedio = suma_temperaturas / conteo_temperaturas\n",
        "    print(f\"El promedio de las {conteo_temperaturas} temperaturas es: {promedio:.2f}°C\")\n",
        "else:\n",
        "    print(\"No se ingresaron temperaturas válidas para calcular el promedio.\")"
      ],
      "metadata": {
        "id": "qHVCmrOYLZNd"
      },
      "execution_count": null,
      "outputs": []
    },
    {
      "cell_type": "code",
      "source": [
        "num = int(input(\"Ingresa un número entero no negativo para calcular su factorial: \"))\n",
        "\n",
        "if num < 0:\n",
        "    print(\"El factorial no está definido para números negativos.\")\n",
        "elif num == 0:\n",
        "    print(\"El factorial de 0 es 1.\")\n",
        "else:\n",
        "    factorial = 1\n",
        "    # Uso de 'for'\n",
        "    for i in range(1, num + 1): #para que el ciclo a través de range llegue al valor de num\n",
        "        factorial = factorial * i\n",
        "\n",
        "    print(f\"\\nEl factorial de {num} es {factorial}.\")"
      ],
      "metadata": {
        "id": "-cQaIHS2LmH3"
      },
      "execution_count": null,
      "outputs": []
    },
    {
      "cell_type": "code",
      "source": [
        "num = int(input(\"Ingresa un número entero para generar su tabla de multiplicar: \"))\n",
        "\n",
        "print(f\"\\nTabla de multiplicar del {num}:\")\n",
        "# Uso de 'for'\n",
        "for i in range(1, 11): # 11 para que el ultimo valor sea n-1 o menor que n en este caso 10\n",
        "    resultado = num * i\n",
        "    print(f\"{num} x {i} = {resultado}\")"
      ],
      "metadata": {
        "id": "BZPifG4rL4Nt"
      },
      "execution_count": null,
      "outputs": []
    },
    {
      "cell_type": "code",
      "source": [
        "num = int(input(\"Ingresa un número entero para verificar si es primo: \"))\n",
        "\n",
        "if num <= 1:\n",
        "    print(f\"\\nEl número {num} no es primo.\")\n",
        "else:\n",
        "    es_primo = True\n",
        "    # Uso de 'for'\n",
        "    for i in range(2, num):\n",
        "        if num % i == 0:\n",
        "            es_primo = False\n",
        "            break # Detener el 'for' si se encuentra un divisor\n",
        "\n",
        "    if es_primo:\n",
        "        print(f\"\\nEl número {num} es un número primo.\")\n",
        "    else:\n",
        "        print(f\"\\nEl número {num} NO es un número primo.\")"
      ],
      "metadata": {
        "id": "EIUgtKdXL8ug"
      },
      "execution_count": null,
      "outputs": []
    },
    {
      "cell_type": "code",
      "source": [
        "conteo_0_25 = 0\n",
        "conteo_26_50 = 0\n",
        "conteo_51_75 = 0\n",
        "conteo_76_100 = 0\n",
        "total_clientes = 0\n",
        "edad = 0\n",
        "\n",
        "print(\"Ingresa las edades de los clientes. Ingresa un número negativo para detener.\")\n",
        "\n",
        "# Uso de 'while' para la parada indefinida.\n",
        "while edad >= 0: #solo valores positivos o cero\n",
        "    # se asume que el usuario ingresa un entero válido\n",
        "    edad = int(input(f\"Ingresa edad del cliente (o negativo para terminar): \"))\n",
        "\n",
        "    # Si la edad es negativa, el loop o ciclo terminará en la siguiente iteración.\n",
        "    if edad < 0:\n",
        "        break\n",
        "\n",
        "    # Procesar edad si está en el rango [0-100]\n",
        "    if edad >= 0 and edad <= 100:\n",
        "        total_clientes = total_clientes + 1\n",
        "\n",
        "        # Estructura de decisión anidada para el conteo\n",
        "        if edad <= 25:\n",
        "            conteo_0_25 = conteo_0_25 + 1\n",
        "        elif edad <= 50: # Implica 26 <= edad <= 50\n",
        "            conteo_26_50 = conteo_26_50 + 1\n",
        "        elif edad <= 75: # Implica 51 <= edad <= 75\n",
        "            conteo_51_75 = conteo_51_75 + 1\n",
        "        else: # Implica 76 <= edad <= 100\n",
        "            conteo_76_100 = conteo_76_100 + 1\n",
        "    else:\n",
        "        print(\"Edad fuera del rango [0-100]. Ignorada.\")\n",
        "\n",
        "print(\"\\n--- Resumen de Distribución Estadistica de Edades (Descriptiva) ---\")\n",
        "print(f\"Total de clientes procesados: {total_clientes}\")\n",
        "print(f\"Intervalo [0-25]: {conteo_0_25} clientes\")\n",
        "print(f\"Intervalo [26-50]: {conteo_26_50} clientes\")\n",
        "print(f\"Intervalo [51-75]: {conteo_51_75} clientes\")\n",
        "print(f\"Intervalo [76-100]: {conteo_76_100} clientes\")"
      ],
      "metadata": {
        "id": "2vno2M8kMBix"
      },
      "execution_count": null,
      "outputs": []
    },
    {
      "cell_type": "code",
      "source": [
        "candidato_1 = 0\n",
        "candidato_2 = 0\n",
        "candidato_3 = 0\n",
        "candidato_4 = 0\n",
        "votos_nulos = 0     # Opción 5\n",
        "votos_blancos = 0   # Opción 6\n",
        "\n",
        "TOTAL_VOTOS = 20 # Define the total number of votes\n",
        "\n",
        "print(\"Opciones: 1, 2, 3, 4 (Candidatos); 5 (Nulo); 6 (Blanco)\")\n",
        "\n",
        "# Uso de 'for' para controlar los 20 votos.\n",
        "for i in range(1, TOTAL_VOTOS + 1): #el valor final de range sera 20\n",
        "    voto_valido = False\n",
        "\n",
        "    # Ciclo ((lazo o bucle) 'while' para la validación del voto\n",
        "    while voto_valido == False:\n",
        "        # se asume que el usuario ingresa un entero, aunque podría ser incorrecto.\n",
        "        voto = int(input(f\"Voto del empleado {i} de {TOTAL_VOTOS}: \"))\n",
        "\n",
        "        if voto >= 1 and voto <= 6:\n",
        "            voto_valido = True\n",
        "            # Contabilizar el voto válido\n",
        "            if voto == 1:\n",
        "                candidato_1 = candidato_1 + 1\n",
        "            elif voto == 2:\n",
        "                candidato_2 = candidato_2 + 1\n",
        "            elif voto == 3:\n",
        "                candidato_3 = candidato_3 + 1\n",
        "            elif voto == 4:\n",
        "                candidato_4 = candidato_4 + 1\n",
        "            elif voto == 5:\n",
        "                votos_nulos = votos_nulos + 1\n",
        "            elif voto == 6:\n",
        "                votos_blancos = votos_blancos + 1\n",
        "        else:\n",
        "            print(\"Opción inválida. Ingresa 1, 2, 3, 4, 5 o 6.\")\n",
        "\n",
        "\n",
        "# --- Cálculos y Resultados --- Estadistica\n",
        "\n",
        "# Calcular porcentajes %. Un % = razon matematica entre la parte y el todo.\n",
        "if TOTAL_VOTOS > 0:\n",
        "    porcentaje_nulos = (votos_nulos / TOTAL_VOTOS) * 100\n",
        "    porcentaje_blancos = (votos_blancos / TOTAL_VOTOS) * 100\n",
        "else:\n",
        "    porcentaje_nulos = 0\n",
        "    porcentaje_blancos = 0\n",
        "\n",
        "# Determinar el ganador (simplificado para los 4 candidatos). max_votos y ganador son variables para controlar o comparar estado de c/candidato.\n",
        "max_votos = -1\n",
        "ganador = -1\n",
        "empate = False\n",
        "\n",
        "# Candidato 1\n",
        "if candidato_1 > max_votos:\n",
        "    max_votos = candidato_1\n",
        "    ganador = 1\n",
        "    empate = False\n",
        "elif candidato_1 == max_votos:\n",
        "    empate = True\n",
        "\n",
        "# Candidato 2\n",
        "if candidato_2 > max_votos:\n",
        "    max_votos = candidato_2\n",
        "    ganador = 2\n",
        "    empate = False\n",
        "elif candidato_2 == max_votos:\n",
        "    empate = True\n",
        "\n",
        "# Candidato 3\n",
        "if candidato_3 > max_votos:\n",
        "    max_votos = candidato_3\n",
        "    ganador = 3\n",
        "    empate = False\n",
        "elif candidato_3 == max_votos:\n",
        "    empate = True\n",
        "\n",
        "# Candidato 4\n",
        "if candidato_4 > max_votos:\n",
        "    max_votos = candidato_4\n",
        "    ganador = 4\n",
        "    empate = False\n",
        "elif candidato_4 == max_votos:\n",
        "    empate = True\n",
        "\n",
        "# Mostrar el resultado final del ganador\n",
        "if empate == True or max_votos == -1: # Si hubo empate o no hubo votos\n",
        "    resultado_ganador = \"¡Empate entre los candidatos principales!\"\n",
        "else:\n",
        "    resultado_ganador = f\"El ganador es el Candidato {ganador} con {max_votos} votos.\"\n",
        "\n",
        "\n",
        "print(\"\\n--- Resultados de la Elección ---\")\n",
        "print(f\"Total de votos emitidos: {TOTAL_VOTOS}\")\n",
        "\n",
        "print(\"\\nVotos por Candidato:\")\n",
        "print(f\"Candidato 1: {candidato_1} votos\")\n",
        "print(f\"Candidato 2: {candidato_2} votos\")\n",
        "print(f\"Candidato 3: {candidato_3} votos\")\n",
        "print(f\"Candidato 4: {candidato_4} votos\")\n",
        "\n",
        "print(\"\\nOtros Votos:\")\n",
        "print(f\"Votos Nulos (5): {votos_nulos} votos ({porcentaje_nulos:.2f}%)\")\n",
        "print(f\"Votos en Blanco (6): {votos_blancos} votos ({porcentaje_blancos:.2f}%)\")\n",
        "\n",
        "print(f\"\\n**{resultado_ganador}**\")\n",
        "\n",
        "print(\"\\n**Gracias por haber participado del proceso de eleccion de Gerente **\")"
      ],
      "metadata": {
        "id": "hGHHYAX1Mfsh"
      },
      "execution_count": null,
      "outputs": []
    },
    {
      "cell_type": "markdown",
      "source": [
        "## `FOR`"
      ],
      "metadata": {
        "id": "WgAIaENMMfCP"
      }
    },
    {
      "cell_type": "markdown",
      "source": [
        "El lazo `for` es un tipo de estructura de control de flujo en Python que permite iterar sobre un conjunto de elementos. Su estructura es:\n",
        "\n",
        "\n",
        "\n",
        "```\n",
        "for elemento in conjunto:\n",
        "    # codigo a ser ejecutado para cada elemento\n",
        "```\n",
        "\n",
        "El lazo `for` itera sobre cada elemento del conjunto especificado y ejecuta el bloque de código dentro del lazo para cada elemento. Cuando el lazo llega al final del conjunto, este se interrumpe y el programa continúa la ejecución después del lazo.\n",
        "\n"
      ],
      "metadata": {
        "id": "HxrSZoRAMh-x"
      }
    },
    {
      "cell_type": "markdown",
      "source": [
        "El conjunto lo podemos generar con la función incorporada [`range()`](https://docs.python.org/3/library/functions.html#func-range). Se trata de una función capaz de generar una secuencia de números enteros. La estructura de esta función es:\n",
        "\n",
        "```\n",
        "range(inicio, fin, paso)\n",
        "```\n",
        "\n",
        "Según la documentación, `range()` genera una secuencia de números enteros a partir del valor del parámetro `inicio` hasta el valor del parámetro `fin`, de acuerdo con el valor del parámetro `paso`. Si `inicio` no es especificado, el valor por defecto es `0`. Si `paso` no es especificado, el valor por defecto es `1`.\n",
        "\n",
        "\n"
      ],
      "metadata": {
        "id": "6VgjyoQtPHBM"
      }
    },
    {
      "cell_type": "markdown",
      "source": [
        "Vamos a recrear el mismo contador `while` con el lazo `for`."
      ],
      "metadata": {
        "id": "ryn0hfdlUwC8"
      }
    },
    {
      "cell_type": "code",
      "source": [
        "for n in range(1,11):\n",
        "  print(n)"
      ],
      "metadata": {
        "id": "KkL1wUIj9jL4"
      },
      "execution_count": null,
      "outputs": []
    },
    {
      "cell_type": "code",
      "source": [
        "for e in range(1,4):\n",
        "  nota_1 = float(input(\"Escribe la nota 1:\"))\n",
        "  nota_2 = float(input(\"Escribe la nota 2:\"))\n",
        "  promedio = (nota_1 + nota_2) / 2\n",
        "  print(f'El promedio es: {promedio}')"
      ],
      "metadata": {
        "id": "uXIZnLSr9jOu"
      },
      "execution_count": null,
      "outputs": []
    },
    {
      "cell_type": "markdown",
      "source": [
        "# Estructuras de datos"
      ],
      "metadata": {
        "id": "8noP8OJ0Vhux"
      }
    },
    {
      "cell_type": "markdown",
      "source": [
        "Un conjunto de elementos es una colección de items, que son almacenados juntos de manera organizada. Algunos ejemplos de conjuntos de elementos en Python son las listas, los strings y los diccionarios."
      ],
      "metadata": {
        "id": "xpEUkefTu8fY"
      }
    },
    {
      "cell_type": "markdown",
      "source": [
        "## Listas"
      ],
      "metadata": {
        "id": "THSg4KYLwxIb"
      }
    },
    {
      "cell_type": "markdown",
      "source": [
        "Las listas pueden almacenar una colección de items en orden. Ellas son delimitadas por corchetes `[]` y sus elementos son separados por comas.\n",
        "\n",
        "Estas pueden almacenar cualquier tipo de items, incluyendo números, strings, objetos, otras listas, entre otros. También nos permiten almacenar items de tipos de datos diferentes juntos en una única lista."
      ],
      "metadata": {
        "id": "dzpsiqrOyJcK"
      }
    },
    {
      "cell_type": "code",
      "source": [
        "lista = ['Penélope Camacho',9.5,9.0,9.7,True]\n",
        "lista"
      ],
      "metadata": {
        "id": "DO3TBj7nAYeG"
      },
      "execution_count": null,
      "outputs": []
    },
    {
      "cell_type": "code",
      "source": [
        "type(lista)"
      ],
      "metadata": {
        "id": "DO2ubP9N9D_2"
      },
      "execution_count": null,
      "outputs": []
    },
    {
      "cell_type": "markdown",
      "source": [
        "Las listas son organizadas en Python porque **cada elemento de la lista tiene un índice que indica su posición al interior de la lista**. Los índices comienzan en 0 van hasta el tamaño de la lista menos 1."
      ],
      "metadata": {
        "id": "qUz3sJNl6LgK"
      }
    },
    {
      "cell_type": "markdown",
      "source": [
        "Tenemos entonces 5 elementos con índices que varían de 0 a 4, ordenadamente:\n",
        "\n",
        "```\n",
        "#             [0]           [1]   [2]   [3]    [4]\n",
        "lista = ['Penélope Camacho', 9.5 , 9.0 , 9.7 , True]\n",
        "```\n",
        "\n",
        "En Python tenemos también los índices **negativos** que se inician en el último elemento con el valor de `-1` y avanzan en el universo de los negativos hasta llegar al 1° elemento:\n",
        "\n",
        "```\n",
        "#             [-5]         [-4]  [-3]  [-2]   [-1]\n",
        "lista = ['Penélope Camacho', 9.5 , 9.0 , 9.7 , True]\n",
        "```\n",
        "\n",
        "Logramos seleccionar separadamente cada elemento a través de sus respectivos índices. Colocando el nombre de la lista y en seguida el índice que será seleccionado."
      ],
      "metadata": {
        "id": "rLf-Qg526hFD"
      }
    },
    {
      "cell_type": "code",
      "source": [
        "print(lista[0])\n",
        "type(lista[0])"
      ],
      "metadata": {
        "id": "4hco1Zqy88Kw"
      },
      "execution_count": null,
      "outputs": []
    },
    {
      "cell_type": "code",
      "source": [
        "type(lista[1])"
      ],
      "metadata": {
        "id": "M8lH0I2288Ph"
      },
      "execution_count": null,
      "outputs": []
    },
    {
      "cell_type": "code",
      "source": [
        "type(lista[-1])"
      ],
      "metadata": {
        "id": "-PICczuTNnef"
      },
      "execution_count": null,
      "outputs": []
    },
    {
      "cell_type": "markdown",
      "source": [
        "Una forma más dinámica de trabajar item a item en una lista es utilizando un lazo `for` para leer un elemento a la vez."
      ],
      "metadata": {
        "id": "6TaE1ijmBTCd"
      }
    },
    {
      "cell_type": "code",
      "source": [
        "for elemento in lista:\n",
        "  print(elemento)"
      ],
      "metadata": {
        "id": "rBx4Yu1786Sy"
      },
      "execution_count": null,
      "outputs": []
    },
    {
      "cell_type": "markdown",
      "source": [
        "**Situación**: La nota `9.0` de Penélope necesita ser ajustada pues ganó 1 punto en su última nota por participación en clase. Entonces es necesario realizar un cambio en el índice `2` de `9.0` a `10.0`."
      ],
      "metadata": {
        "id": "Dh1_HnIVvucY"
      }
    },
    {
      "cell_type": "code",
      "source": [
        "lista[2] = 10.0"
      ],
      "metadata": {
        "id": "bVPoZg668z3T"
      },
      "execution_count": null,
      "outputs": []
    },
    {
      "cell_type": "code",
      "source": [
        "lista"
      ],
      "metadata": {
        "id": "Jo_PBQ0g8z7D"
      },
      "execution_count": null,
      "outputs": []
    },
    {
      "cell_type": "markdown",
      "source": [
        "También podemos calcular el promedio del estudiante a partir de los datos que tenemos."
      ],
      "metadata": {
        "id": "53XduzXkycAf"
      }
    },
    {
      "cell_type": "code",
      "source": [
        "promedio = (lista[1]+lista[2]+lista[3])/3\n",
        "promedio"
      ],
      "metadata": {
        "id": "SIH61Rrb8yv4"
      },
      "execution_count": null,
      "outputs": []
    },
    {
      "cell_type": "markdown",
      "source": [
        "## Manipulación de listas\n",
        "\n",
        "Las listas son muy útiles en Python porque nos permiten almacenar y acceder a una colección de items de manera organizada y rápida. Estas también ofrecen muchos métodos útiles para manipular los itens almacenados, como adicionar, remover, clasificar y buscar elementos."
      ],
      "metadata": {
        "id": "d-iYr10-y4qw"
      }
    },
    {
      "cell_type": "markdown",
      "source": [
        "#### Cantidad de elementos\n",
        "\n",
        "Usamos la función [`len()`](https://docs.python.org/3/library/functions.html#len) para descubrir la cantidad de elementos de un conjunto."
      ],
      "metadata": {
        "id": "ZLqx9A97XVB_"
      }
    },
    {
      "cell_type": "code",
      "source": [
        "len(lista)"
      ],
      "metadata": {
        "id": "6q1Tmm7P8wQf"
      },
      "execution_count": null,
      "outputs": []
    },
    {
      "cell_type": "markdown",
      "source": [
        "#### Partición\n",
        "\n",
        "La partición de listas por indexación en Python es una técnica muy útil para seleccionar un subconjunto de elementos de una lista. Esta se realiza usando la sintaxis `lista[inicio:fin]`, donde `inicio` es el índice del primer elemento que será incluído en la partición `fin` es el índice del primer elemento que será excluído de la partición."
      ],
      "metadata": {
        "id": "Z5tpstlHJss3"
      }
    },
    {
      "cell_type": "code",
      "source": [
        "lista[0:2]"
      ],
      "metadata": {
        "id": "NctvJTTU8uV9"
      },
      "execution_count": null,
      "outputs": []
    },
    {
      "cell_type": "code",
      "source": [
        "lista[:3]"
      ],
      "metadata": {
        "id": "bQZUwldj8uY2"
      },
      "execution_count": null,
      "outputs": []
    },
    {
      "cell_type": "code",
      "source": [
        "lista[3:]"
      ],
      "metadata": {
        "id": "msgvtpN5OrMa"
      },
      "execution_count": null,
      "outputs": []
    },
    {
      "cell_type": "code",
      "source": [
        "lista[:]"
      ],
      "metadata": {
        "id": "xHZ-2wLvOyqH"
      },
      "execution_count": null,
      "outputs": []
    },
    {
      "cell_type": "markdown",
      "source": [
        "#### [`append()`](https://docs.python.org/3/tutorial/datastructures.html#:~:text=of%20list%20objects%3A-,list.append(x),-Add%20an%20item)\n",
        "\n",
        "Añade un elemento al final de la lista."
      ],
      "metadata": {
        "id": "O0RRyabkRzZC"
      }
    },
    {
      "cell_type": "code",
      "source": [
        "lista.append(promedio)"
      ],
      "metadata": {
        "id": "_Q0oODwa8spC"
      },
      "execution_count": null,
      "outputs": []
    },
    {
      "cell_type": "code",
      "source": [
        "lista"
      ],
      "metadata": {
        "id": "RM894r2M8sse"
      },
      "execution_count": null,
      "outputs": []
    },
    {
      "cell_type": "markdown",
      "source": [
        "#### [`extend()`](https://docs.python.org/3/tutorial/datastructures.html#:~:text=list.extend(iterable))\n",
        "\n",
        "Añade varios elementos al final de la lista.\n",
        "\n",
        "Añadiremos las notas `[10.0,8.0,9.0]` En la lista de Penélope Camacho."
      ],
      "metadata": {
        "id": "uQV91XMsUOJD"
      }
    },
    {
      "cell_type": "code",
      "source": [
        "lista.extend([10.0,8.0,9.0])"
      ],
      "metadata": {
        "id": "6Zk2MpMw8rQc"
      },
      "execution_count": null,
      "outputs": []
    },
    {
      "cell_type": "code",
      "source": [
        "lista"
      ],
      "metadata": {
        "id": "NnoKkoWb8rTQ"
      },
      "execution_count": null,
      "outputs": []
    },
    {
      "cell_type": "markdown",
      "source": [
        "*A continuación te mostraremos lo que no puede realizarse con* `append`."
      ],
      "metadata": {
        "id": "IVJvkTwNUk6M"
      }
    },
    {
      "cell_type": "code",
      "source": [
        "lista.append([10.0,8.0,9.0])"
      ],
      "metadata": {
        "id": "u3Eub2ZL8pp3"
      },
      "execution_count": null,
      "outputs": []
    },
    {
      "cell_type": "code",
      "source": [
        "lista"
      ],
      "metadata": {
        "id": "tsKK5Ne58pvN"
      },
      "execution_count": null,
      "outputs": []
    },
    {
      "cell_type": "markdown",
      "source": [
        "#### [`remove()`](https://docs.python.org/3/tutorial/datastructures.html#:~:text=append(x).-,list.remove(x),-Remove%20the%20first)\n",
        "\n",
        "Remueve un elemento específico de la lista."
      ],
      "metadata": {
        "id": "dPGM5gpyUX1z"
      }
    },
    {
      "cell_type": "code",
      "source": [
        "lista.remove([10.0,8.0,9.0])"
      ],
      "metadata": {
        "id": "mmboODPc8nd5"
      },
      "execution_count": null,
      "outputs": []
    },
    {
      "cell_type": "code",
      "source": [
        "lista"
      ],
      "metadata": {
        "id": "T_w6vVgV8nh_"
      },
      "execution_count": null,
      "outputs": []
    },
    {
      "cell_type": "markdown",
      "source": [
        "## Diccionario"
      ],
      "metadata": {
        "id": "Rc22Vc08YDZ2"
      }
    },
    {
      "cell_type": "markdown",
      "source": [
        "Los diccionarios son un tipo de estructura de datos que almacenan pares de *llave-valor*. Estos son delimitados por llaves `{}` y los pares *llave-valor* son separados por comas.\n",
        "\n",
        "```\n",
        "diccionario = {llave: valor}\n",
        "```\n",
        "\n",
        "La **llave** es un elemento único que identifica a un valor en el diccionario, mientras que el **valor** es el item que será almacenado para la llave. Las llaves y sus respectivos valores se pueden emplear para **cualquier tipo de dato**.\n",
        "\n",
        "Los diccionarios son útiles para almacenar y acceder a los datos de manera organizada y rápida. Se trata de un tipo de conjunto de elementos en Python, pues almacenan una colección de items."
      ],
      "metadata": {
        "id": "PJ-cCKPjeWxL"
      }
    },
    {
      "cell_type": "code",
      "source": [
        "diccionario = {\n",
        "    'llave_1': 1,\n",
        "    'llave_2': 2\n",
        "              }\n",
        "diccionario"
      ],
      "metadata": {
        "id": "NDHhzooE8ld5"
      },
      "execution_count": null,
      "outputs": []
    },
    {
      "cell_type": "code",
      "source": [
        "type(diccionario)"
      ],
      "metadata": {
        "id": "AVOzqzy-8lhh"
      },
      "execution_count": null,
      "outputs": []
    },
    {
      "cell_type": "markdown",
      "source": [
        "---\n",
        "**Situación:**\n",
        "\n",
        "Vamos a crear un conjunto de datos con las informaciones de matrícula de un estudiante. Los datos son los siguientes:\n",
        "\n",
        "- matrícula: 2000168933\n",
        "- día de registro: 25\n",
        "- mes de registro: 10\n",
        "- grupo: 2E"
      ],
      "metadata": {
        "id": "_JbQ3KMKfkXU"
      }
    },
    {
      "cell_type": "code",
      "source": [
        "estudiante = {\n",
        "    'matricula': 2000168933,\n",
        "    'dia_registro': 25,\n",
        "    'mes_registro': 10,\n",
        "    'grupo': '2E'\n",
        "            }\n",
        "estudiante"
      ],
      "metadata": {
        "id": "0lfOu_c38jED"
      },
      "execution_count": null,
      "outputs": []
    },
    {
      "cell_type": "code",
      "source": [
        "estudiante['matricula']"
      ],
      "metadata": {
        "id": "XIuqpTTy8jHV"
      },
      "execution_count": null,
      "outputs": []
    },
    {
      "cell_type": "code",
      "source": [
        "estudiante['grupo']"
      ],
      "metadata": {
        "id": "OHMhfXmVQgGq"
      },
      "execution_count": null,
      "outputs": []
    },
    {
      "cell_type": "markdown",
      "source": [
        "Es posible sustituir los valores dentro de una llave. Por ejemplo, recibimos la información de que el grupo del estudiante que registramos cambio a `'2G'` y ahora necesitamos cambiar el valor de la llave `'grupo'`."
      ],
      "metadata": {
        "id": "8ex5pt2ykDd2"
      }
    },
    {
      "cell_type": "code",
      "source": [
        "estudiante['grupo'] = '2G'"
      ],
      "metadata": {
        "id": "kQGlp36b8fyP"
      },
      "execution_count": null,
      "outputs": []
    },
    {
      "cell_type": "code",
      "source": [
        "estudiante"
      ],
      "metadata": {
        "id": "DnfH_qHi8f17"
      },
      "execution_count": null,
      "outputs": []
    },
    {
      "cell_type": "markdown",
      "source": [
        "También podemos añadir otros datos al diccionario. Vamos a añadir la información sobre la modalidad de estudio, nuestro estudiante estudiará inicialemente en la modalidad EAD.\n",
        "\n",
        "Definiremos una llave llamada `'modalidad'` con el valor `'EAD'`."
      ],
      "metadata": {
        "id": "wB0qRb56mQvv"
      }
    },
    {
      "cell_type": "code",
      "source": [
        "estudiante['modalidad'] = 'EAD'"
      ],
      "metadata": {
        "id": "EeLYdlIm8d8a"
      },
      "execution_count": null,
      "outputs": []
    },
    {
      "cell_type": "code",
      "source": [
        "estudiante"
      ],
      "metadata": {
        "id": "olDIavsm8d_o"
      },
      "execution_count": null,
      "outputs": []
    },
    {
      "cell_type": "code",
      "source": [
        "len(estudiante)"
      ],
      "metadata": {
        "id": "c5w4s2QPQxJr"
      },
      "execution_count": null,
      "outputs": []
    },
    {
      "cell_type": "markdown",
      "source": [
        "## Profundizando en diccionarios"
      ],
      "metadata": {
        "id": "LJ3o_inroxg_"
      }
    },
    {
      "cell_type": "markdown",
      "source": [
        "#### [`pop()`](https://python-reference.readthedocs.io/en/latest/docs/dict/pop.html)\n",
        "Remueve un item de un diccionario y lo representa en la salida."
      ],
      "metadata": {
        "id": "2N3GLlkSpBiu"
      }
    },
    {
      "cell_type": "code",
      "source": [
        "estudiante.pop('grupo')"
      ],
      "metadata": {
        "id": "ZsSCZx6G8b-T"
      },
      "execution_count": null,
      "outputs": []
    },
    {
      "cell_type": "code",
      "source": [
        "estudiante"
      ],
      "metadata": {
        "id": "7lQ8_jpi8cBR"
      },
      "execution_count": null,
      "outputs": []
    },
    {
      "cell_type": "markdown",
      "source": [
        "#### [`items()`](https://python-reference.readthedocs.io/en/latest/docs/dict/items.html)\n",
        "Retorna una lista de pares `llave-valor` del diccionario."
      ],
      "metadata": {
        "id": "sYZGvJJYrW_y"
      }
    },
    {
      "cell_type": "code",
      "source": [
        "estudiante.items()"
      ],
      "metadata": {
        "id": "ncdycLV08an7"
      },
      "execution_count": null,
      "outputs": []
    },
    {
      "cell_type": "markdown",
      "source": [
        "#### [`keys()`](https://python-reference.readthedocs.io/en/latest/docs/dict/keys.html)\n",
        "Retorna una lista de las llaves del diccionario."
      ],
      "metadata": {
        "id": "Lb0utNFGrZBY"
      }
    },
    {
      "cell_type": "code",
      "source": [
        "estudiante.keys()"
      ],
      "metadata": {
        "id": "eZo0biaM8ZVs"
      },
      "execution_count": null,
      "outputs": []
    },
    {
      "cell_type": "markdown",
      "source": [
        "#### [`values()`](https://python-reference.readthedocs.io/en/latest/docs/dict/values.html)\n",
        "Retorna una lista de los valores del diccionario."
      ],
      "metadata": {
        "id": "qKyu3bf9rbtX"
      }
    },
    {
      "cell_type": "code",
      "source": [
        "estudiante.values()"
      ],
      "metadata": {
        "id": "-NxRT9C18Yvo"
      },
      "execution_count": null,
      "outputs": []
    },
    {
      "cell_type": "markdown",
      "source": [
        "### Lectura de valores con el lazo `for`"
      ],
      "metadata": {
        "id": "e3XVjR8Frp75"
      }
    },
    {
      "cell_type": "code",
      "source": [
        "for llave in estudiante.keys():\n",
        "  print(llave)"
      ],
      "metadata": {
        "id": "NYcjU-Ip8Xan"
      },
      "execution_count": null,
      "outputs": []
    },
    {
      "cell_type": "code",
      "source": [
        "for llave, valor in estudiante.items():\n",
        "  print(llave,'-->',valor)"
      ],
      "metadata": {
        "id": "aAnpP1Wv8XfJ"
      },
      "execution_count": null,
      "outputs": []
    },
    {
      "cell_type": "code",
      "source": [
        "# Lista de gastos de la empresa de papel\n",
        "gastos = [2172.54, 3701.35, 3518.09, 3456.61, 3249.38, 2840.82, 3891.45, 3075.26, 2317.64, 3219.08]\n",
        "\n",
        "# Cálculo del promedio usando las funciones sum() y len()\n",
        "promedio = sum(gastos) / len(gastos)\n",
        "\n",
        "# Muestra el resultado\n",
        "print(\"El promedio de gastos de la empresa es:\", promedio)"
      ],
      "metadata": {
        "id": "u2MMepLNR4Bu"
      },
      "execution_count": null,
      "outputs": []
    },
    {
      "cell_type": "code",
      "source": [
        "# Lista de gastos de la empresa de papel\n",
        "gastos = [2172.54, 3701.35, 3518.09, 3456.61, 3249.38, 2840.82, 3891.45, 3075.26, 2317.64, 3219.08]\n",
        "\n",
        "# Contar cuántas compras son mayores a 3000 reales\n",
        "compras_superiores = [gasto for gasto in gastos if gasto > 3000]\n",
        "cantidad_superiores = len(compras_superiores)\n",
        "\n",
        "# Calcular el porcentaje con respecto al total de compras\n",
        "porcentaje = (cantidad_superiores / len(gastos)) * 100\n",
        "\n",
        "# Mostrar los resultados\n",
        "print(\"Número de compras por encima de 3000 reales:\", cantidad_superiores)\n",
        "print(\"Porcentaje respecto al total de compras:\", round(porcentaje, 2), \"%\")\n"
      ],
      "metadata": {
        "id": "T7sSnYjcTHD9"
      },
      "execution_count": null,
      "outputs": []
    },
    {
      "cell_type": "code",
      "source": [
        "import random  # Importa el módulo para generar números aleatorios\n",
        "\n",
        "# Genera una lista con 5 números enteros aleatorios entre 1 y 10\n",
        "numeros = [random.randint(1, 10) for i in range(5)]\n",
        "\n",
        "# Imprime la lista generada\n",
        "print(\"Lista de números aleatorios:\", numeros)"
      ],
      "metadata": {
        "id": "mUw2DzUmTYF2"
      },
      "execution_count": null,
      "outputs": []
    },
    {
      "cell_type": "code",
      "source": [
        "# Crear una lista vacía para almacenar los números\n",
        "numeros = []\n",
        "\n",
        "# Solicitar 5 números enteros al usuario\n",
        "for i in range(5):\n",
        "    numero = int(input(f\"Escribe el número entero {i+1}: \"))\n",
        "    numeros.append(numero)\n",
        "\n",
        "# Imprimir la lista original\n",
        "print(\"Lista original:\", numeros)\n",
        "\n",
        "# Imprimir la lista en orden inverso\n",
        "print(\"Lista en orden inverso:\", numeros[::-1])"
      ],
      "metadata": {
        "id": "w1qGcs6yTeXV"
      },
      "execution_count": null,
      "outputs": []
    },
    {
      "cell_type": "code",
      "source": [
        "# Solicitar al usuario un número entero\n",
        "n = int(input(\"Ingresa un número entero: \"))\n",
        "\n",
        "# Crear una lista vacía para almacenar los números primos\n",
        "primos = []\n",
        "\n",
        "# Recorrer los números desde 2 hasta n\n",
        "for num in range(2, n + 1):\n",
        "    es_primo = True  # Suponemos que el número es primo\n",
        "\n",
        "    # Verificar si el número tiene divisores distintos de 1 y de sí mismo\n",
        "    for i in range(2, int(num ** 0.5) + 1):  # Basta con revisar hasta la raíz cuadrada\n",
        "        if num % i == 0:\n",
        "            es_primo = False\n",
        "            break  # Sale del bucle si encuentra un divisor\n",
        "\n",
        "    # Si el número es primo, se agrega a la lista\n",
        "    if es_primo:\n",
        "        primos.append(num)\n",
        "\n",
        "# Mostrar la lista de números primos\n",
        "print(\"Números primos entre 1 y\", n, \":\", primos)"
      ],
      "metadata": {
        "id": "hx1mN1MCTt4w"
      },
      "execution_count": null,
      "outputs": []
    },
    {
      "cell_type": "code",
      "source": [
        "# Solicitar al usuario los valores del día, mes y año\n",
        "dia = int(input(\"Ingrese el día: \"))\n",
        "mes = int(input(\"Ingrese el mes: \"))\n",
        "anio = int(input(\"Ingrese el año: \"))\n",
        "\n",
        "# Variable para verificar si la fecha es válida\n",
        "valida = True\n",
        "\n",
        "# Comprobación del mes\n",
        "if mes < 1 or mes > 12:\n",
        "    valida = False\n",
        "else:\n",
        "    # Determinar el número de días del mes\n",
        "    if mes in [1, 3, 5, 7, 8, 10, 12]:\n",
        "        dias_mes = 31\n",
        "    elif mes in [4, 6, 9, 11]:\n",
        "        dias_mes = 30\n",
        "    elif mes == 2:\n",
        "        # Comprobar si el año es bisiesto\n",
        "        if (anio % 4 == 0 and anio % 100 != 0) or (anio % 400 == 0):\n",
        "            dias_mes = 29\n",
        "        else:\n",
        "            dias_mes = 28\n",
        "\n",
        "    # Verificar si el día está dentro del rango válido\n",
        "    if dia < 1 or dia > dias_mes:\n",
        "        valida = False\n",
        "\n",
        "# Mostrar el resultado\n",
        "if valida:\n",
        "    print(\"La fecha ingresada es válida.\")\n",
        "else:\n",
        "    print(\"La fecha ingresada NO es válida.\")"
      ],
      "metadata": {
        "id": "rSc-6UKST3QA"
      },
      "execution_count": null,
      "outputs": []
    },
    {
      "cell_type": "code",
      "source": [
        "# Lista con el número de bacterias multiplicadas por día\n",
        "bacterias = [1.2, 2.1, 3.3, 5.0, 7.8, 11.3, 16.6, 25.1, 37.8, 56.9]\n",
        "\n",
        "# Crear una lista vacía para almacenar los porcentajes de crecimiento\n",
        "porcentajes_crecimiento = []\n",
        "\n",
        "# Calcular el porcentaje de crecimiento para cada día (a partir del segundo)\n",
        "for i in range(1, len(bacterias)):\n",
        "    crecimiento = 100 * (bacterias[i] - bacterias[i - 1]) / bacterias[i - 1]\n",
        "    porcentajes_crecimiento.append(round(crecimiento, 2))  # Redondear a 2 decimales\n",
        "\n",
        "# Mostrar la lista de porcentajes de crecimiento\n",
        "print(\"Porcentaje de crecimiento diario (%):\", porcentajes_crecimiento)"
      ],
      "metadata": {
        "id": "-Kguh8ICUFEV"
      },
      "execution_count": null,
      "outputs": []
    },
    {
      "cell_type": "code",
      "source": [
        "# Crear listas vacías para guardar los IDs\n",
        "ids = []\n",
        "dulces = []\n",
        "amargos = []\n",
        "\n",
        "# Solicitar 10 IDs al usuario\n",
        "for i in range(10):\n",
        "    id_producto = int(input(f\"Ingrese el ID del producto {i+1}: \"))\n",
        "    ids.append(id_producto)\n",
        "\n",
        "    # Clasificar el producto según el ID\n",
        "    if id_producto % 2 == 0:\n",
        "        dulces.append(id_producto)\n",
        "    else:\n",
        "        amargos.append(id_producto)\n",
        "\n",
        "# Mostrar resultados\n",
        "print(\"\\nLista de IDs ingresados:\", ids)\n",
        "print(\"Productos dulces (IDs pares):\", dulces)\n",
        "print(\"Productos amargos (IDs impares):\", amargos)\n",
        "print(\"Cantidad de productos dulces:\", len(dulces))\n",
        "print(\"Cantidad de productos amargos:\", len(amargos))"
      ],
      "metadata": {
        "id": "cHub5pZCUMHY"
      },
      "execution_count": null,
      "outputs": []
    },
    {
      "cell_type": "code",
      "source": [
        "# Clave de respuestas correctas\n",
        "respuestas_correctas = ['A', 'C', 'B', 'D', 'B']\n",
        "\n",
        "# Variable para contar los aciertos del estudiante\n",
        "puntuacion = 0\n",
        "\n",
        "# Ciclo para pedir las respuestas al estudiante\n",
        "for i in range(len(respuestas_correctas)):\n",
        "    respuesta = input(f\"Ingrese la respuesta de la pregunta {i+1} (A, B, C o D): \").upper()\n",
        "\n",
        "    # Comparar con la respuesta correcta\n",
        "    if respuesta == respuestas_correctas[i]:\n",
        "        print(\"✅ Correcto\")\n",
        "        puntuacion += 1\n",
        "    else:\n",
        "        print(\"❌ Incorrecto\")\n",
        "\n",
        "# Mostrar la puntuación final\n",
        "print(\"\\nPuntuación final del estudiante:\", puntuacion, \"de\", len(respuestas_correctas))"
      ],
      "metadata": {
        "id": "QcbDjgscUcWF"
      },
      "execution_count": null,
      "outputs": []
    },
    {
      "cell_type": "code",
      "source": [
        "# Lista con los nombres de los meses del año\n",
        "meses = [\"Enero\", \"Febrero\", \"Marzo\", \"Abril\", \"Mayo\", \"Junio\",\n",
        "         \"Julio\", \"Agosto\", \"Septiembre\", \"Octubre\", \"Noviembre\", \"Diciembre\"]\n",
        "\n",
        "# Lista vacía para almacenar las temperaturas\n",
        "temperaturas = []\n",
        "\n",
        "# Solicitar la temperatura media de cada mes\n",
        "for mes in meses:\n",
        "    temp = float(input(f\"Ingrese la temperatura media de {mes}: \"))\n",
        "    temperaturas.append(temp)\n",
        "\n",
        "# Calcular el promedio anual\n",
        "promedio_anual = sum(temperaturas) / len(temperaturas)\n",
        "\n",
        "# Mostrar el promedio anual\n",
        "print(f\"\\nTemperatura promedio anual: {round(promedio_anual, 2)}°C\\n\")\n",
        "\n",
        "# Mostrar los meses con temperatura por encima del promedio\n",
        "print(\"Meses con temperatura por encima del promedio anual:\")\n",
        "for i in range(len(temperaturas)):\n",
        "    if temperaturas[i] > promedio_anual:\n",
        "        print(f\"- {meses[i]}: {temperaturas[i]}°C\")"
      ],
      "metadata": {
        "id": "6jZ28bfeUqLP"
      },
      "execution_count": null,
      "outputs": []
    },
    {
      "cell_type": "code",
      "source": [
        "# Diccionario con las ventas de productos\n",
        "ventas = {'Producto A': 300, 'Producto B': 80, 'Producto C': 60,\n",
        "          'Producto D': 200, 'Producto E': 250, 'Producto F': 30}\n",
        "\n",
        "# Calcular el total de ventas\n",
        "total_ventas = sum(ventas.values())\n",
        "\n",
        "# Determinar el producto más vendido\n",
        "producto_mas_vendido = max(ventas, key=ventas.get)\n",
        "\n",
        "# Mostrar los resultados\n",
        "print(\"Total de ventas:\", total_ventas)\n",
        "print(\"Producto más vendido:\", producto_mas_vendido, \"con\", ventas[producto_mas_vendido], \"ventas\")"
      ],
      "metadata": {
        "id": "Pa-Gape6VV5g"
      },
      "execution_count": null,
      "outputs": []
    },
    {
      "cell_type": "code",
      "source": [
        "# Diccionario con los votos de cada diseño\n",
        "votos = {\n",
        "    'Diseño 1': 1334,\n",
        "    'Diseño 2': 982,\n",
        "    'Diseño 3': 1751,\n",
        "    'Diseño 4': 210,\n",
        "    'Diseño 5': 1811\n",
        "}\n",
        "\n",
        "# Calcular el total de votos\n",
        "total_votos = sum(votos.values())\n",
        "\n",
        "# Determinar el diseño ganador\n",
        "diseño_ganador = max(votos, key=votos.get)\n",
        "\n",
        "# Calcular el porcentaje de votos del diseño ganador\n",
        "porcentaje_ganador = (votos[diseño_ganador] / total_votos) * 100\n",
        "\n",
        "# Mostrar los resultados\n",
        "print(\"Diseño ganador:\", diseño_ganador)\n",
        "print(\"Total de votos:\", total_votos)\n",
        "print(f\"Porcentaje de votos del diseño ganador: {porcentaje_ganador:.2f}%\")"
      ],
      "metadata": {
        "id": "T2QvKF4sVX-1"
      },
      "execution_count": null,
      "outputs": []
    },
    {
      "cell_type": "code",
      "source": [
        "# Lista de salarios\n",
        "salarios = [1172, 1644, 2617, 5130, 5532, 6341, 6650, 7238, 7685, 7782, 7903]\n",
        "\n",
        "# Crear diccionario con salarios y sus bonificaciones\n",
        "bonificaciones = {}\n",
        "\n",
        "for salario in salarios:\n",
        "    bonificacion = salario * 0.10  # 10% del salario\n",
        "    if bonificacion < 200:         # Bonificación mínima de 200\n",
        "        bonificacion = 200\n",
        "    bonificaciones[salario] = bonificacion\n",
        "\n",
        "# Calcular los resultados solicitados\n",
        "gasto_total = sum(bonificaciones.values())\n",
        "empleados_minima = sum(1 for b in bonificaciones.values() if b == 200)\n",
        "bonificacion_maxima = max(bonificaciones.values())\n",
        "\n",
        "# Mostrar resultados\n",
        "print(\"Diccionario de salarios y bonificaciones:\")\n",
        "print(bonificaciones)\n",
        "print(f\"\\nGasto total en bonificaciones: ${gasto_total:.2f}\")\n",
        "print(f\"Empleados con bonificación mínima: {empleados_minima}\")\n",
        "print(f\"Bonificación más alta: ${bonificacion_maxima:.2f}\")"
      ],
      "metadata": {
        "id": "DAXYc1raVgYK"
      },
      "execution_count": null,
      "outputs": []
    },
    {
      "cell_type": "code",
      "source": [
        "# Diccionario con las áreas y sus especies (plantas, animales)\n",
        "bosque = {\n",
        "    'Área Norte': [2819, 7236],\n",
        "    'Área Leste': [1440, 9492],\n",
        "    'Área Sul': [5969, 7496],\n",
        "    'Área Oeste': [14446, 49688],\n",
        "    'Área Centro': [22558, 45148]\n",
        "}\n",
        "\n",
        "# Diccionario para guardar el promedio de especies por área\n",
        "promedios = {}\n",
        "\n",
        "# Calcular el promedio de especies (plantas y animales) por área\n",
        "for area, especies in bosque.items():\n",
        "    promedio = sum(especies) / len(especies)\n",
        "    promedios[area] = promedio\n",
        "\n",
        "# Identificar el área con mayor diversidad biológica (más especies en total)\n",
        "area_mas_diversa = max(bosque, key=lambda x: sum(bosque[x]))\n",
        "\n",
        "# Mostrar resultados\n",
        "print(\"Promedio de especies por área:\")\n",
        "for area, promedio in promedios.items():\n",
        "    print(f\"{area}: {promedio:.2f}\")\n",
        "\n",
        "print(f\"\\nÁrea con mayor diversidad biológica: {area_mas_diversa}\")"
      ],
      "metadata": {
        "id": "Rp0-ZFTEVrmI"
      },
      "execution_count": null,
      "outputs": []
    },
    {
      "cell_type": "code",
      "source": [
        "# Datos de edades por sector\n",
        "edades = {\n",
        "    'Setor A': [22, 26, 30, 30, 35, 38, 40, 56, 57, 65],\n",
        "    'Setor B': [22, 24, 26, 33, 41, 49, 50, 54, 60, 64],\n",
        "    'Setor C': [23, 26, 26, 29, 34, 35, 36, 41, 52, 56],\n",
        "    'Setor D': [19, 20, 25, 27, 34, 39, 42, 44, 50, 65]\n",
        "}\n",
        "\n",
        "# Calcular la media de edad de cada sector\n",
        "medias_sector = {}\n",
        "for sector, lista_edades in edades.items():\n",
        "    media = sum(lista_edades) / len(lista_edades)\n",
        "    medias_sector[sector] = media\n",
        "\n",
        "# Calcular la media general de todos los sectores\n",
        "todas_las_edades = []  # Lista para reunir todas las edades\n",
        "for lista in edades.values():\n",
        "    todas_las_edades.extend(lista)\n",
        "\n",
        "media_general = sum(todas_las_edades) / len(todas_las_edades)\n",
        "\n",
        "# Contar cuántas personas están por encima de la media general\n",
        "por_encima = [edad for edad in todas_las_edades if edad > media_general]\n",
        "cantidad_por_encima = len(por_encima)\n",
        "\n",
        "# Mostrar resultados\n",
        "print(\"Media de edad por sector:\")\n",
        "for sector, media in medias_sector.items():\n",
        "    print(f\"{sector}: {media:.2f} años\")\n",
        "\n",
        "print(f\"\\nMedia general de edad: {media_general:.2f} años\")\n",
        "print(f\"Cantidad de personas por encima de la media general: {cantidad_por_encima}\")"
      ],
      "metadata": {
        "id": "DzJFj52-Vu9F"
      },
      "execution_count": null,
      "outputs": []
    }
  ]
}